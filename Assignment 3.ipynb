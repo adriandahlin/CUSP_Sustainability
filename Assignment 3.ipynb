{
 "cells": [
  {
   "cell_type": "code",
   "execution_count": 43,
   "metadata": {
    "collapsed": true
   },
   "outputs": [],
   "source": [
    "import pandas as pd\n",
    "import pylab as pl\n",
    "\n",
    "import numpy as np\n",
    "import matplotlib.mlab as mlab\n",
    "import matplotlib.pyplot as plt"
   ]
  },
  {
   "cell_type": "code",
   "execution_count": 105,
   "metadata": {
    "collapsed": false
   },
   "outputs": [
    {
     "name": "stdout",
     "output_type": "stream",
     "text": [
      "13223\n"
     ]
    },
    {
     "data": {
      "text/html": [
       "<div>\n",
       "<table border=\"1\" class=\"dataframe\">\n",
       "  <thead>\n",
       "    <tr style=\"text-align: right;\">\n",
       "      <th></th>\n",
       "      <th>﻿Record Number</th>\n",
       "      <th>Order</th>\n",
       "      <th>NYC Borough, Block and Lot (BBL)</th>\n",
       "      <th>Co-reported BBL Status</th>\n",
       "      <th>BBLs Co-reported</th>\n",
       "      <th>Reported NYC Building Identification Numbers (BINs)</th>\n",
       "      <th>Property Name</th>\n",
       "      <th>Parent Property Id</th>\n",
       "      <th>Parent Property Name</th>\n",
       "      <th>Street Number</th>\n",
       "      <th>...</th>\n",
       "      <th>Direct GHG Emissions (Metric Tons CO2e)</th>\n",
       "      <th>Indirect GHG Emissions (Metric Tons CO2e)</th>\n",
       "      <th>DOF Property Floor Area (ft²)</th>\n",
       "      <th>Property GFA - Self-reported (ft²)</th>\n",
       "      <th>Water Use (All Water Sources) (kgal)</th>\n",
       "      <th>Municipally Supplied Potable Water - Indoor Intensity (gal/ft²)</th>\n",
       "      <th>Release Date</th>\n",
       "      <th>DEP Provided Water Use (kgal)</th>\n",
       "      <th>Automatic Water Benchmarking Eligible</th>\n",
       "      <th>Reported Water Method</th>\n",
       "    </tr>\n",
       "  </thead>\n",
       "  <tbody>\n",
       "    <tr>\n",
       "      <th>0</th>\n",
       "      <td>4113711.0</td>\n",
       "      <td>1</td>\n",
       "      <td>1.003360e+09</td>\n",
       "      <td>NaN</td>\n",
       "      <td>NaN</td>\n",
       "      <td>1088884</td>\n",
       "      <td>16 Bialystoker Place</td>\n",
       "      <td>Not Applicable: Standalone Property</td>\n",
       "      <td>Not Applicable: Standalone Property</td>\n",
       "      <td>15.0</td>\n",
       "      <td>...</td>\n",
       "      <td>290.2</td>\n",
       "      <td>146.1</td>\n",
       "      <td>98052.0</td>\n",
       "      <td>98000.0</td>\n",
       "      <td>NaN</td>\n",
       "      <td>NaN</td>\n",
       "      <td>4/13/16 11:08 AM</td>\n",
       "      <td>NaN</td>\n",
       "      <td>NaN</td>\n",
       "      <td>NaN</td>\n",
       "    </tr>\n",
       "  </tbody>\n",
       "</table>\n",
       "<p>1 rows × 57 columns</p>\n",
       "</div>"
      ],
      "text/plain": [
       "   ﻿Record Number  Order  NYC Borough, Block and Lot (BBL)  \\\n",
       "0       4113711.0      1                      1.003360e+09   \n",
       "\n",
       "  Co-reported BBL Status BBLs Co-reported  \\\n",
       "0                    NaN              NaN   \n",
       "\n",
       "  Reported NYC Building Identification Numbers (BINs)         Property Name  \\\n",
       "0                                            1088884   16 Bialystoker Place   \n",
       "\n",
       "                    Parent Property Id                 Parent Property Name  \\\n",
       "0  Not Applicable: Standalone Property  Not Applicable: Standalone Property   \n",
       "\n",
       "   Street Number          ...           \\\n",
       "0           15.0          ...            \n",
       "\n",
       "  Direct GHG Emissions (Metric Tons CO2e)  \\\n",
       "0                                   290.2   \n",
       "\n",
       "   Indirect GHG Emissions (Metric Tons CO2e) DOF Property Floor Area (ft²)  \\\n",
       "0                                      146.1                       98052.0   \n",
       "\n",
       "  Property GFA - Self-reported (ft²) Water Use (All Water Sources) (kgal)  \\\n",
       "0                            98000.0                                  NaN   \n",
       "\n",
       "  Municipally Supplied Potable Water - Indoor Intensity (gal/ft²)  \\\n",
       "0                                                NaN                \n",
       "\n",
       "       Release Date  DEP Provided Water Use (kgal)  \\\n",
       "0  4/13/16 11:08 AM                            NaN   \n",
       "\n",
       "  Automatic Water Benchmarking Eligible Reported Water Method  \n",
       "0                                   NaN                   NaN  \n",
       "\n",
       "[1 rows x 57 columns]"
      ]
     },
     "execution_count": 105,
     "metadata": {},
     "output_type": "execute_result"
    }
   ],
   "source": [
    "# energy usage data per building reported in 2016\n",
    "energy = pd.read_csv(\"nyc_benchmarking_disclosure_data_reported_in_2016.csv\")\n",
    "print(len(energy))\n",
    "energy.head(1)"
   ]
  },
  {
   "cell_type": "code",
   "execution_count": 102,
   "metadata": {
    "collapsed": false
   },
   "outputs": [
    {
     "data": {
      "text/plain": [
       "Index(['﻿Record Number', 'Order', 'BBL', 'BIN', 'Street Number', 'Street Name',\n",
       "       'Zip Code', 'Borough', 'Year Built',\n",
       "       'Number of Buildings - Self-reported', 'Occupancy',\n",
       "       'Metered Areas (Energy)', 'Metered Areas  (Water)', 'ENERGY STAR Score',\n",
       "       'Weather Normalized Site EUI (kBtu/ft²)',\n",
       "       'Weather Normalized Source EUI (kBtu/ft²)', 'Fuel Oil #4 Use (kBtu)',\n",
       "       'Fuel Oil #5 & 6 Use (kBtu)', 'grid_electricity(kBtu)', 'WNSE(kWh)',\n",
       "       'Emissions(CO2e)', 'directCO2e', 'indirectCO2e',\n",
       "       'DOF Property Floor Area (ft²)', 'water_use', 'Release Date'],\n",
       "      dtype='object')"
      ]
     },
     "execution_count": 102,
     "metadata": {},
     "output_type": "execute_result"
    }
   ],
   "source": [
    "energy.columns"
   ]
  },
  {
   "cell_type": "code",
   "execution_count": 106,
   "metadata": {
    "collapsed": false
   },
   "outputs": [
    {
     "data": {
      "text/html": [
       "<div>\n",
       "<table border=\"1\" class=\"dataframe\">\n",
       "  <thead>\n",
       "    <tr style=\"text-align: right;\">\n",
       "      <th></th>\n",
       "      <th>﻿Record Number</th>\n",
       "      <th>Order</th>\n",
       "      <th>BBL</th>\n",
       "      <th>BIN</th>\n",
       "      <th>Street Number</th>\n",
       "      <th>Street Name</th>\n",
       "      <th>Zip Code</th>\n",
       "      <th>Borough</th>\n",
       "      <th>Year Built</th>\n",
       "      <th>Occupancy</th>\n",
       "      <th>...</th>\n",
       "      <th>Fuel Oil #4 Use (kBtu)</th>\n",
       "      <th>Fuel Oil #5 &amp; 6 Use (kBtu)</th>\n",
       "      <th>grid_electricity(kBtu)</th>\n",
       "      <th>WNSE(kWh)</th>\n",
       "      <th>Emissions(CO2e)</th>\n",
       "      <th>directCO2e</th>\n",
       "      <th>indirectCO2e</th>\n",
       "      <th>DOF Property Floor Area (ft²)</th>\n",
       "      <th>water_use</th>\n",
       "      <th>Release Date</th>\n",
       "    </tr>\n",
       "  </thead>\n",
       "  <tbody>\n",
       "    <tr>\n",
       "      <th>0</th>\n",
       "      <td>4113711.0</td>\n",
       "      <td>1</td>\n",
       "      <td>1.003360e+09</td>\n",
       "      <td>1088884</td>\n",
       "      <td>15.0</td>\n",
       "      <td>BIALYSTOKER PLACE</td>\n",
       "      <td>10002.0</td>\n",
       "      <td>Manhattan</td>\n",
       "      <td>1982</td>\n",
       "      <td>100.0</td>\n",
       "      <td>...</td>\n",
       "      <td>Not Available</td>\n",
       "      <td>Not Available</td>\n",
       "      <td>1762214.1</td>\n",
       "      <td>516475.3</td>\n",
       "      <td>436.3</td>\n",
       "      <td>290.2</td>\n",
       "      <td>146.1</td>\n",
       "      <td>98052.0</td>\n",
       "      <td>NaN</td>\n",
       "      <td>4/13/16 11:08 AM</td>\n",
       "    </tr>\n",
       "  </tbody>\n",
       "</table>\n",
       "<p>1 rows × 25 columns</p>\n",
       "</div>"
      ],
      "text/plain": [
       "   ﻿Record Number  Order           BBL      BIN  Street Number  \\\n",
       "0       4113711.0      1  1.003360e+09  1088884           15.0   \n",
       "\n",
       "            Street Name  Zip Code    Borough Year Built  Occupancy  \\\n",
       "0  BIALYSTOKER PLACE      10002.0  Manhattan       1982      100.0   \n",
       "\n",
       "         ...        Fuel Oil #4 Use (kBtu) Fuel Oil #5 & 6 Use (kBtu)  \\\n",
       "0        ...                 Not Available              Not Available   \n",
       "\n",
       "   grid_electricity(kBtu)  WNSE(kWh)  Emissions(CO2e) directCO2e indirectCO2e  \\\n",
       "0               1762214.1   516475.3            436.3      290.2        146.1   \n",
       "\n",
       "   DOF Property Floor Area (ft²)  water_use      Release Date  \n",
       "0                        98052.0        NaN  4/13/16 11:08 AM  \n",
       "\n",
       "[1 rows x 25 columns]"
      ]
     },
     "execution_count": 106,
     "metadata": {},
     "output_type": "execute_result"
    }
   ],
   "source": [
    "energy.rename(columns={'NYC Borough, Block and Lot (BBL)':\"BBL\", \\\n",
    "                       'Reported NYC Building Identification Numbers (BINs)':'BIN', \\\n",
    "                       'Direct GHG Emissions (Metric Tons CO2e)':'directCO2e', \\\n",
    "                       'Indirect GHG Emissions (Metric Tons CO2e)':'indirectCO2e', \\\n",
    "                      'Total GHG Emissions (Metric Tons CO2e)':'Emissions(CO2e)', \\\n",
    "                      'Water Use (All Water Sources) (kgal)':'water_use', \\\n",
    "                      'Weather Normalized Site Electricity (kWh)':'WNSE(kWh)', \\\n",
    "                      'Electricity Use - Grid Purchase (kBtu)':'grid_electricity(kBtu)'}, inplace=True)\n",
    "energy.drop(['Municipally Supplied Potable Water - Indoor Intensity (gal/ft²)', 'Property GFA - Self-reported (ft²)', \\\n",
    "            'DEP Provided Water Use (kgal)', 'Automatic Water Benchmarking Eligible', 'Co-reported BBL Status', \\\n",
    "            'BBLs Co-reported', 'Weather Normalized Site Natural Gas Use (therms)', 'Reported Water Method', \\\n",
    "            'District Chilled Water Use (kBtu)', 'Natural Gas Use (kBtu)', 'District Steam Use (kBtu)', \\\n",
    "            'District Hot Water Use (kBtu)', 'Diesel #2 Use (kBtu)', 'DOF Benchmarking Submission Status',\n",
    "       'Primary Property Type - Self Selected',\n",
    "       'List of All Property Use Types at Property',\n",
    "       'Largest Property Use Type',\n",
    "       'Largest Property Use Type - Gross Floor Area (ft²)',\n",
    "       '2nd Largest Property Use Type',\n",
    "       '2nd Largest Property Use - Gross Floor Area (ft²)',\n",
    "       '3rd Largest Property Use Type',\n",
    "       '3rd Largest Property Use Type - Gross Floor Area (ft²)','Fuel Oil #1 Use (kBtu)', 'Fuel Oil #2 Use (kBtu)', \\\n",
    "              'Weather Normalized Site Electricity Intensity (kWh/ft²)',\n",
    "       'Weather Normalized Site Natural Gas Intensity (therms/ft²)',\n",
    "       'Source EUI (kBtu/ft²)','Property Name',\n",
    "       'Parent Property Id', 'Parent Property Name','Site EUI (kBtu/ft²)','Number of Buildings - Self-reported'], axis=1, inplace=True)\n",
    "energy.head(1)"
   ]
  },
  {
   "cell_type": "code",
   "execution_count": 117,
   "metadata": {
    "collapsed": false
   },
   "outputs": [
    {
     "name": "stdout",
     "output_type": "stream",
     "text": [
      "17478\n"
     ]
    },
    {
     "data": {
      "text/plain": [
       "Index(['Borough', 'Block', 'Lot', 'CD', 'CT2010', 'CB2010', 'SchoolDist',\n",
       "       'Council', 'ZipCode', 'FireComp', 'PolicePrct', 'HealthArea', 'Address',\n",
       "       'ZoneDist1', 'BldgClass', 'LandUse', 'OwnerType', 'LotArea', 'BldgArea',\n",
       "       'ComArea', 'ResArea', 'OfficeArea', 'RetailArea', 'GarageArea',\n",
       "       'StrgeArea', 'FactryArea', 'OtherArea', 'AreaSource', 'NumBldgs',\n",
       "       'NumFloors', 'UnitsRes', 'UnitsTotal', 'LotType', 'BsmtCode',\n",
       "       'AssessLand', 'AssessTot', 'ExemptLand', 'ExemptTot', 'YearBuilt',\n",
       "       'BoroCode', 'BBL', 'Tract2010', 'XCoord', 'YCoord', 'PLUTOMapID',\n",
       "       'Version'],\n",
       "      dtype='object')"
      ]
     },
     "execution_count": 117,
     "metadata": {},
     "output_type": "execute_result"
    }
   ],
   "source": [
    "# PLUTO data\n",
    "MHpluto = pd.read_csv('MN_reduced.csv').dropna()\n",
    "print(len(MHpluto))\n",
    "MHpluto.columns"
   ]
  },
  {
   "cell_type": "code",
   "execution_count": 118,
   "metadata": {
    "collapsed": false
   },
   "outputs": [
    {
     "data": {
      "text/html": [
       "<div>\n",
       "<table border=\"1\" class=\"dataframe\">\n",
       "  <thead>\n",
       "    <tr style=\"text-align: right;\">\n",
       "      <th></th>\n",
       "      <th>CT2010</th>\n",
       "      <th>CB2010</th>\n",
       "      <th>SchoolDist</th>\n",
       "      <th>ZipCode</th>\n",
       "      <th>FireComp</th>\n",
       "      <th>PolicePrct</th>\n",
       "      <th>HealthArea</th>\n",
       "      <th>Address</th>\n",
       "      <th>BldgClass</th>\n",
       "      <th>LandUse</th>\n",
       "      <th>...</th>\n",
       "      <th>LotArea</th>\n",
       "      <th>BldgArea</th>\n",
       "      <th>NumFloors</th>\n",
       "      <th>LotType</th>\n",
       "      <th>AssessTot</th>\n",
       "      <th>BBL</th>\n",
       "      <th>Tract2010</th>\n",
       "      <th>XCoord</th>\n",
       "      <th>YCoord</th>\n",
       "      <th>PLUTOMapID</th>\n",
       "    </tr>\n",
       "  </thead>\n",
       "  <tbody>\n",
       "    <tr>\n",
       "      <th>0</th>\n",
       "      <td>5.0</td>\n",
       "      <td>1018.0</td>\n",
       "      <td>2.0</td>\n",
       "      <td>10004.0</td>\n",
       "      <td>E007</td>\n",
       "      <td>1.0</td>\n",
       "      <td>8100.0</td>\n",
       "      <td>1 GOVERNORS ISLAND</td>\n",
       "      <td>Y4</td>\n",
       "      <td>8.0</td>\n",
       "      <td>...</td>\n",
       "      <td>7736692</td>\n",
       "      <td>2725731</td>\n",
       "      <td>0.0</td>\n",
       "      <td>5.0</td>\n",
       "      <td>156510900</td>\n",
       "      <td>1000010010</td>\n",
       "      <td>5</td>\n",
       "      <td>979071.0</td>\n",
       "      <td>190225.0</td>\n",
       "      <td>1</td>\n",
       "    </tr>\n",
       "    <tr>\n",
       "      <th>1</th>\n",
       "      <td>1.0</td>\n",
       "      <td>1001.0</td>\n",
       "      <td>2.0</td>\n",
       "      <td>10004.0</td>\n",
       "      <td>E007</td>\n",
       "      <td>1.0</td>\n",
       "      <td>8200.0</td>\n",
       "      <td>1 LIBERTY ISLAND</td>\n",
       "      <td>P7</td>\n",
       "      <td>8.0</td>\n",
       "      <td>...</td>\n",
       "      <td>541886</td>\n",
       "      <td>541886</td>\n",
       "      <td>0.0</td>\n",
       "      <td>5.0</td>\n",
       "      <td>12197250</td>\n",
       "      <td>1000010101</td>\n",
       "      <td>1</td>\n",
       "      <td>971677.0</td>\n",
       "      <td>190636.0</td>\n",
       "      <td>1</td>\n",
       "    </tr>\n",
       "    <tr>\n",
       "      <th>5</th>\n",
       "      <td>9.0</td>\n",
       "      <td>1025.0</td>\n",
       "      <td>2.0</td>\n",
       "      <td>10004.0</td>\n",
       "      <td>L015</td>\n",
       "      <td>1.0</td>\n",
       "      <td>7700.0</td>\n",
       "      <td>MARGINAL STREET</td>\n",
       "      <td>Y7</td>\n",
       "      <td>7.0</td>\n",
       "      <td>...</td>\n",
       "      <td>209215</td>\n",
       "      <td>280000</td>\n",
       "      <td>5.0</td>\n",
       "      <td>5.0</td>\n",
       "      <td>32193900</td>\n",
       "      <td>1000020001</td>\n",
       "      <td>9</td>\n",
       "      <td>980670.0</td>\n",
       "      <td>194440.0</td>\n",
       "      <td>1</td>\n",
       "    </tr>\n",
       "  </tbody>\n",
       "</table>\n",
       "<p>3 rows × 21 columns</p>\n",
       "</div>"
      ],
      "text/plain": [
       "   CT2010  CB2010  SchoolDist  ZipCode FireComp  PolicePrct  HealthArea  \\\n",
       "0     5.0  1018.0         2.0  10004.0     E007         1.0      8100.0   \n",
       "1     1.0  1001.0         2.0  10004.0     E007         1.0      8200.0   \n",
       "5     9.0  1025.0         2.0  10004.0     L015         1.0      7700.0   \n",
       "\n",
       "                   Address BldgClass  LandUse     ...      LotArea  BldgArea  \\\n",
       "0       1 GOVERNORS ISLAND        Y4      8.0     ...      7736692   2725731   \n",
       "1         1 LIBERTY ISLAND        P7      8.0     ...       541886    541886   \n",
       "5          MARGINAL STREET        Y7      7.0     ...       209215    280000   \n",
       "\n",
       "   NumFloors  LotType  AssessTot         BBL  Tract2010    XCoord    YCoord  \\\n",
       "0        0.0      5.0  156510900  1000010010          5  979071.0  190225.0   \n",
       "1        0.0      5.0   12197250  1000010101          1  971677.0  190636.0   \n",
       "5        5.0      5.0   32193900  1000020001          9  980670.0  194440.0   \n",
       "\n",
       "   PLUTOMapID  \n",
       "0           1  \n",
       "1           1  \n",
       "5           1  \n",
       "\n",
       "[3 rows x 21 columns]"
      ]
     },
     "execution_count": 118,
     "metadata": {},
     "output_type": "execute_result"
    }
   ],
   "source": [
    "MHpluto.drop(['Borough', 'Block', 'Lot', 'CD', 'Council', 'ComArea', 'ResArea', 'OfficeArea', 'RetailArea', \\\n",
    "              'GarageArea', 'StrgeArea', 'FactryArea', 'OtherArea', 'AreaSource', 'NumBldgs', 'ExemptLand', \\\n",
    "              'ExemptTot', 'YearBuilt', 'Version', 'ZoneDist1', 'UnitsRes', 'UnitsTotal', 'BsmtCode', \\\n",
    "              'AssessLand', 'BoroCode'], axis=1, inplace=True)\n",
    "MHpluto.head(3)"
   ]
  },
  {
   "cell_type": "code",
   "execution_count": 120,
   "metadata": {
    "collapsed": false
   },
   "outputs": [],
   "source": [
    "energy.BBL = energy.BBL.astype(float)\n",
    "MHpluto.BBL = MHpluto.BBL.astype(float)"
   ]
  },
  {
   "cell_type": "code",
   "execution_count": 121,
   "metadata": {
    "collapsed": false
   },
   "outputs": [
    {
     "data": {
      "text/plain": [
       "numpy.float64"
      ]
     },
     "execution_count": 121,
     "metadata": {},
     "output_type": "execute_result"
    }
   ],
   "source": [
    "type(MHpluto.BBL[1])"
   ]
  },
  {
   "cell_type": "code",
   "execution_count": 122,
   "metadata": {
    "collapsed": false
   },
   "outputs": [
    {
     "data": {
      "text/plain": [
       "numpy.float64"
      ]
     },
     "execution_count": 122,
     "metadata": {},
     "output_type": "execute_result"
    }
   ],
   "source": [
    "type(energy.BBL[1])"
   ]
  },
  {
   "cell_type": "code",
   "execution_count": 124,
   "metadata": {
    "collapsed": false
   },
   "outputs": [
    {
     "name": "stdout",
     "output_type": "stream",
     "text": [
      "2354\n"
     ]
    },
    {
     "data": {
      "text/plain": [
       "Index(['﻿Record Number', 'Order', 'BBL', 'BIN', 'Street Number', 'Street Name',\n",
       "       'Zip Code', 'Borough', 'Year Built', 'Occupancy',\n",
       "       'Metered Areas (Energy)', 'Metered Areas  (Water)', 'ENERGY STAR Score',\n",
       "       'Weather Normalized Site EUI (kBtu/ft²)',\n",
       "       'Weather Normalized Source EUI (kBtu/ft²)', 'Fuel Oil #4 Use (kBtu)',\n",
       "       'Fuel Oil #5 & 6 Use (kBtu)', 'grid_electricity(kBtu)', 'WNSE(kWh)',\n",
       "       'Emissions(CO2e)', 'directCO2e', 'indirectCO2e',\n",
       "       'DOF Property Floor Area (ft²)', 'water_use', 'Release Date', 'CT2010',\n",
       "       'CB2010', 'SchoolDist', 'ZipCode', 'FireComp', 'PolicePrct',\n",
       "       'HealthArea', 'Address', 'BldgClass', 'LandUse', 'OwnerType', 'LotArea',\n",
       "       'BldgArea', 'NumFloors', 'LotType', 'AssessTot', 'Tract2010', 'XCoord',\n",
       "       'YCoord', 'PLUTOMapID'],\n",
       "      dtype='object')"
      ]
     },
     "execution_count": 124,
     "metadata": {},
     "output_type": "execute_result"
    }
   ],
   "source": [
    "merge1 = pd.merge(energy, MHpluto, on=['BBL'], how='inner')\n",
    "print(len(merge1))\n",
    "merge1.columns"
   ]
  },
  {
   "cell_type": "code",
   "execution_count": null,
   "metadata": {
    "collapsed": true
   },
   "outputs": [],
   "source": []
  },
  {
   "cell_type": "code",
   "execution_count": 21,
   "metadata": {
    "collapsed": false
   },
   "outputs": [],
   "source": [
    "#offices = data[data['Primary Property Type - Self Selected'] == 'Office'].dropna().values\n",
    "#len(offices)"
   ]
  },
  {
   "cell_type": "code",
   "execution_count": 23,
   "metadata": {
    "collapsed": false
   },
   "outputs": [],
   "source": [
    "#x = offices['Weather Normalized Source EUI (kBtu/ft²)']\n",
    "#len(offices['Weather Normalized Source EUI (kBtu/ft²)'])"
   ]
  },
  {
   "cell_type": "code",
   "execution_count": 125,
   "metadata": {
    "collapsed": false
   },
   "outputs": [],
   "source": [
    "#n, bins, patches = plt.hist(x, 50, normed=1, facecolor='green', alpha=0.75)\n",
    "\n",
    "#plt.xlabel('Smarts')\n",
    "#plt.ylabel('Probability')\n",
    "#plt.title(r'$\\mathrm{Histogram\\ of\\ IQ:}\\ \\mu=100,\\ \\sigma=15$')\n",
    "#plt.axis([40, 160, 0, 0.03])\n",
    "#plt.grid(True)\n",
    "\n",
    "#plt.show()"
   ]
  },
  {
   "cell_type": "markdown",
   "metadata": {},
   "source": [
    "## 1.0 How can we develop a metric for understanding energy performance and peer building comparison that accounts for the differences in building and occupancy characteristics that impact consumption?"
   ]
  },
  {
   "cell_type": "markdown",
   "metadata": {
    "collapsed": true
   },
   "source": [
    "## 2.1 What is the relationship between building energy use and public health, measured by the local asthma hospitalization rate?"
   ]
  },
  {
   "cell_type": "markdown",
   "metadata": {},
   "source": [
    "## 2.2 What is the relationship between neighborhood income and residential building energy use?"
   ]
  },
  {
   "cell_type": "code",
   "execution_count": null,
   "metadata": {
    "collapsed": true
   },
   "outputs": [],
   "source": []
  }
 ],
 "metadata": {
  "kernelspec": {
   "display_name": "PUI2016_Python3",
   "language": "python",
   "name": "pui2016_python3"
  },
  "language_info": {
   "codemirror_mode": {
    "name": "ipython",
    "version": 3
   },
   "file_extension": ".py",
   "mimetype": "text/x-python",
   "name": "python",
   "nbconvert_exporter": "python",
   "pygments_lexer": "ipython3",
   "version": "3.5.2"
  }
 },
 "nbformat": 4,
 "nbformat_minor": 0
}
