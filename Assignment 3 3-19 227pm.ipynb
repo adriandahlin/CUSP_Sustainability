{
 "cells": [
  {
   "cell_type": "code",
   "execution_count": 160,
   "metadata": {
    "collapsed": false
   },
   "outputs": [
    {
     "name": "stdout",
     "output_type": "stream",
     "text": [
      "Populating the interactive namespace from numpy and matplotlib\n"
     ]
    }
   ],
   "source": [
    "import pandas as pd\n",
    "import pylab as pl\n",
    "\n",
    "import statsmodels.api as sm\n",
    "\n",
    "import numpy as np\n",
    "import matplotlib.mlab as mlab\n",
    "import matplotlib.pyplot as plt\n",
    "%pylab inline"
   ]
  },
  {
   "cell_type": "markdown",
   "metadata": {},
   "source": [
    "# Data Munging"
   ]
  },
  {
   "cell_type": "markdown",
   "metadata": {},
   "source": [
    "## Importing and cleaning energy usage data (LL84) per building in NYC for 2015 (reported in 2016)"
   ]
  },
  {
   "cell_type": "code",
   "execution_count": 241,
   "metadata": {
    "collapsed": false
   },
   "outputs": [
    {
     "name": "stdout",
     "output_type": "stream",
     "text": [
      "13223\n"
     ]
    },
    {
     "data": {
      "text/html": [
       "<div>\n",
       "<table border=\"1\" class=\"dataframe\">\n",
       "  <thead>\n",
       "    <tr style=\"text-align: right;\">\n",
       "      <th></th>\n",
       "      <th>﻿Record Number</th>\n",
       "      <th>Order</th>\n",
       "      <th>NYC Borough, Block and Lot (BBL)</th>\n",
       "      <th>Co-reported BBL Status</th>\n",
       "      <th>BBLs Co-reported</th>\n",
       "      <th>Reported NYC Building Identification Numbers (BINs)</th>\n",
       "      <th>Property Name</th>\n",
       "      <th>Parent Property Id</th>\n",
       "      <th>Parent Property Name</th>\n",
       "      <th>Street Number</th>\n",
       "      <th>...</th>\n",
       "      <th>Direct GHG Emissions (Metric Tons CO2e)</th>\n",
       "      <th>Indirect GHG Emissions (Metric Tons CO2e)</th>\n",
       "      <th>DOF Property Floor Area (ft²)</th>\n",
       "      <th>Property GFA - Self-reported (ft²)</th>\n",
       "      <th>Water Use (All Water Sources) (kgal)</th>\n",
       "      <th>Municipally Supplied Potable Water - Indoor Intensity (gal/ft²)</th>\n",
       "      <th>Release Date</th>\n",
       "      <th>DEP Provided Water Use (kgal)</th>\n",
       "      <th>Automatic Water Benchmarking Eligible</th>\n",
       "      <th>Reported Water Method</th>\n",
       "    </tr>\n",
       "  </thead>\n",
       "  <tbody>\n",
       "    <tr>\n",
       "      <th>0</th>\n",
       "      <td>4113711.0</td>\n",
       "      <td>1</td>\n",
       "      <td>1.003360e+09</td>\n",
       "      <td>NaN</td>\n",
       "      <td>NaN</td>\n",
       "      <td>1088884</td>\n",
       "      <td>16 Bialystoker Place</td>\n",
       "      <td>Not Applicable: Standalone Property</td>\n",
       "      <td>Not Applicable: Standalone Property</td>\n",
       "      <td>15.0</td>\n",
       "      <td>...</td>\n",
       "      <td>290.2</td>\n",
       "      <td>146.1</td>\n",
       "      <td>98052.0</td>\n",
       "      <td>98000.0</td>\n",
       "      <td>NaN</td>\n",
       "      <td>NaN</td>\n",
       "      <td>4/13/16 11:08 AM</td>\n",
       "      <td>NaN</td>\n",
       "      <td>NaN</td>\n",
       "      <td>NaN</td>\n",
       "    </tr>\n",
       "  </tbody>\n",
       "</table>\n",
       "<p>1 rows × 57 columns</p>\n",
       "</div>"
      ],
      "text/plain": [
       "   ﻿Record Number  Order  NYC Borough, Block and Lot (BBL)  \\\n",
       "0       4113711.0      1                      1.003360e+09   \n",
       "\n",
       "  Co-reported BBL Status BBLs Co-reported  \\\n",
       "0                    NaN              NaN   \n",
       "\n",
       "  Reported NYC Building Identification Numbers (BINs)         Property Name  \\\n",
       "0                                            1088884   16 Bialystoker Place   \n",
       "\n",
       "                    Parent Property Id                 Parent Property Name  \\\n",
       "0  Not Applicable: Standalone Property  Not Applicable: Standalone Property   \n",
       "\n",
       "   Street Number          ...           \\\n",
       "0           15.0          ...            \n",
       "\n",
       "  Direct GHG Emissions (Metric Tons CO2e)  \\\n",
       "0                                   290.2   \n",
       "\n",
       "   Indirect GHG Emissions (Metric Tons CO2e) DOF Property Floor Area (ft²)  \\\n",
       "0                                      146.1                       98052.0   \n",
       "\n",
       "  Property GFA - Self-reported (ft²) Water Use (All Water Sources) (kgal)  \\\n",
       "0                            98000.0                                  NaN   \n",
       "\n",
       "  Municipally Supplied Potable Water - Indoor Intensity (gal/ft²)  \\\n",
       "0                                                NaN                \n",
       "\n",
       "       Release Date  DEP Provided Water Use (kgal)  \\\n",
       "0  4/13/16 11:08 AM                            NaN   \n",
       "\n",
       "  Automatic Water Benchmarking Eligible Reported Water Method  \n",
       "0                                   NaN                   NaN  \n",
       "\n",
       "[1 rows x 57 columns]"
      ]
     },
     "execution_count": 241,
     "metadata": {},
     "output_type": "execute_result"
    }
   ],
   "source": [
    "energy = pd.read_csv(\"nyc_benchmarking_disclosure_data_reported_in_2016.csv\")\n",
    "print(len(energy))\n",
    "energy.head(1)"
   ]
  },
  {
   "cell_type": "code",
   "execution_count": 242,
   "metadata": {
    "collapsed": false
   },
   "outputs": [
    {
     "data": {
      "text/html": [
       "<div>\n",
       "<table border=\"1\" class=\"dataframe\">\n",
       "  <thead>\n",
       "    <tr style=\"text-align: right;\">\n",
       "      <th></th>\n",
       "      <th>BBL</th>\n",
       "      <th>BIN</th>\n",
       "      <th>Street Number</th>\n",
       "      <th>Street Name</th>\n",
       "      <th>Zip Code</th>\n",
       "      <th>Borough</th>\n",
       "      <th>Year Built</th>\n",
       "      <th>Occupancy</th>\n",
       "      <th>ENERGY STAR Score</th>\n",
       "      <th>Weather Normalized Site EUI (kBtu/ft²)</th>\n",
       "      <th>Weather Normalized Source EUI (kBtu/ft²)</th>\n",
       "      <th>Fuel Oil #4 Use (kBtu)</th>\n",
       "      <th>Fuel Oil #5 &amp; 6 Use (kBtu)</th>\n",
       "      <th>grid_electricity(kBtu)</th>\n",
       "      <th>WNSE(kWh)</th>\n",
       "      <th>Emissions(CO2e)</th>\n",
       "      <th>directCO2e</th>\n",
       "      <th>indirectCO2e</th>\n",
       "      <th>DOF Property Floor Area (ft²)</th>\n",
       "    </tr>\n",
       "  </thead>\n",
       "  <tbody>\n",
       "    <tr>\n",
       "      <th>0</th>\n",
       "      <td>1.003360e+09</td>\n",
       "      <td>1088884</td>\n",
       "      <td>15.0</td>\n",
       "      <td>BIALYSTOKER PLACE</td>\n",
       "      <td>10002.0</td>\n",
       "      <td>Manhattan</td>\n",
       "      <td>1982</td>\n",
       "      <td>100.0</td>\n",
       "      <td>87.0</td>\n",
       "      <td>74.4</td>\n",
       "      <td>115.7</td>\n",
       "      <td>Not Available</td>\n",
       "      <td>Not Available</td>\n",
       "      <td>1762214.1</td>\n",
       "      <td>516475.3</td>\n",
       "      <td>436.3</td>\n",
       "      <td>290.2</td>\n",
       "      <td>146.1</td>\n",
       "      <td>98052.0</td>\n",
       "    </tr>\n",
       "  </tbody>\n",
       "</table>\n",
       "</div>"
      ],
      "text/plain": [
       "            BBL      BIN  Street Number           Street Name  Zip Code  \\\n",
       "0  1.003360e+09  1088884           15.0  BIALYSTOKER PLACE      10002.0   \n",
       "\n",
       "     Borough Year Built  Occupancy  ENERGY STAR Score  \\\n",
       "0  Manhattan       1982      100.0               87.0   \n",
       "\n",
       "   Weather Normalized Site EUI (kBtu/ft²)  \\\n",
       "0                                    74.4   \n",
       "\n",
       "   Weather Normalized Source EUI (kBtu/ft²) Fuel Oil #4 Use (kBtu)  \\\n",
       "0                                     115.7          Not Available   \n",
       "\n",
       "  Fuel Oil #5 & 6 Use (kBtu)  grid_electricity(kBtu)  WNSE(kWh)  \\\n",
       "0              Not Available               1762214.1   516475.3   \n",
       "\n",
       "   Emissions(CO2e)  directCO2e  indirectCO2e  DOF Property Floor Area (ft²)  \n",
       "0            436.3       290.2         146.1                        98052.0  "
      ]
     },
     "execution_count": 242,
     "metadata": {},
     "output_type": "execute_result"
    }
   ],
   "source": [
    "energy.rename(columns={'NYC Borough, Block and Lot (BBL)':\"BBL\", \\\n",
    "                       'Reported NYC Building Identification Numbers (BINs)':'BIN', \\\n",
    "                       'Direct GHG Emissions (Metric Tons CO2e)':'directCO2e', \\\n",
    "                       'Indirect GHG Emissions (Metric Tons CO2e)':'indirectCO2e', \\\n",
    "                      'Total GHG Emissions (Metric Tons CO2e)':'Emissions(CO2e)', \\\n",
    "                      'Water Use (All Water Sources) (kgal)':'water_use', \\\n",
    "                      'Weather Normalized Site Electricity (kWh)':'WNSE(kWh)', \\\n",
    "                      'Electricity Use - Grid Purchase (kBtu)':'grid_electricity(kBtu)'}, inplace=True)\n",
    "energy.drop(['Municipally Supplied Potable Water - Indoor Intensity (gal/ft²)', 'Property GFA - Self-reported (ft²)', \\\n",
    "            'DEP Provided Water Use (kgal)', 'Automatic Water Benchmarking Eligible', 'Co-reported BBL Status', \\\n",
    "            'BBLs Co-reported', 'Weather Normalized Site Natural Gas Use (therms)', 'Reported Water Method', \\\n",
    "            'District Chilled Water Use (kBtu)', 'Natural Gas Use (kBtu)', 'District Steam Use (kBtu)', \\\n",
    "            'District Hot Water Use (kBtu)', 'Diesel #2 Use (kBtu)', 'DOF Benchmarking Submission Status',\n",
    "       'Primary Property Type - Self Selected', 'water_use', 'Release Date',\n",
    "       'List of All Property Use Types at Property',\n",
    "       'Largest Property Use Type', 'Metered Areas (Energy)', 'Metered Areas  (Water)',\n",
    "       'Largest Property Use Type - Gross Floor Area (ft²)',\n",
    "       '2nd Largest Property Use Type', 'Order',\n",
    "       '2nd Largest Property Use - Gross Floor Area (ft²)',\n",
    "       '3rd Largest Property Use Type', '﻿Record Number',\n",
    "       '3rd Largest Property Use Type - Gross Floor Area (ft²)','Fuel Oil #1 Use (kBtu)', 'Fuel Oil #2 Use (kBtu)', \\\n",
    "              'Weather Normalized Site Electricity Intensity (kWh/ft²)',\n",
    "       'Weather Normalized Site Natural Gas Intensity (therms/ft²)',\n",
    "       'Source EUI (kBtu/ft²)','Property Name',\n",
    "       'Parent Property Id', 'Parent Property Name','Site EUI (kBtu/ft²)','Number of Buildings - Self-reported'], axis=1, inplace=True)\n",
    "energy.head(1)"
   ]
  },
  {
   "cell_type": "code",
   "execution_count": 243,
   "metadata": {
    "collapsed": false
   },
   "outputs": [
    {
     "data": {
      "text/plain": [
       "Index(['BBL', 'BIN', 'Street Number', 'Street Name', 'Zip Code', 'Borough',\n",
       "       'Year Built', 'Occupancy', 'ENERGY STAR Score',\n",
       "       'Weather Normalized Site EUI (kBtu/ft²)',\n",
       "       'Weather Normalized Source EUI (kBtu/ft²)', 'Fuel Oil #4 Use (kBtu)',\n",
       "       'Fuel Oil #5 & 6 Use (kBtu)', 'grid_electricity(kBtu)', 'WNSE(kWh)',\n",
       "       'Emissions(CO2e)', 'directCO2e', 'indirectCO2e',\n",
       "       'DOF Property Floor Area (ft²)'],\n",
       "      dtype='object')"
      ]
     },
     "execution_count": 243,
     "metadata": {},
     "output_type": "execute_result"
    }
   ],
   "source": [
    "energy.columns"
   ]
  },
  {
   "cell_type": "code",
   "execution_count": 271,
   "metadata": {
    "collapsed": false
   },
   "outputs": [
    {
     "data": {
      "text/plain": [
       "10744"
      ]
     },
     "execution_count": 271,
     "metadata": {},
     "output_type": "execute_result"
    }
   ],
   "source": [
    "energy = energy[energy[\"BIN\"].str.contains(';')==False]\n",
    "energy = energy[energy[\"BIN\"].str.contains(',')==False]\n",
    "energy = energy[energy[\"BIN\"].str.contains(':')==False]\n",
    "energy = energy[energy[\"BIN\"].str.contains('-')==False]\n",
    "len(energy)"
   ]
  },
  {
   "cell_type": "code",
   "execution_count": 272,
   "metadata": {
    "collapsed": false
   },
   "outputs": [
    {
     "name": "stderr",
     "output_type": "stream",
     "text": [
      "/opt/rh/anaconda/root/envs/PUI2016_Python3/lib/python3.5/site-packages/ipykernel/__main__.py:1: FutureWarning: sort(columns=....) is deprecated, use sort_values(by=.....)\n",
      "  if __name__ == '__main__':\n"
     ]
    },
    {
     "data": {
      "text/html": [
       "<div>\n",
       "<table border=\"1\" class=\"dataframe\">\n",
       "  <thead>\n",
       "    <tr style=\"text-align: right;\">\n",
       "      <th></th>\n",
       "      <th>BBL</th>\n",
       "      <th>BIN</th>\n",
       "      <th>Street Number</th>\n",
       "      <th>Street Name</th>\n",
       "      <th>Zip Code</th>\n",
       "      <th>Borough</th>\n",
       "      <th>Year Built</th>\n",
       "      <th>Occupancy</th>\n",
       "      <th>ENERGY STAR Score</th>\n",
       "      <th>Weather Normalized Site EUI (kBtu/ft²)</th>\n",
       "      <th>Weather Normalized Source EUI (kBtu/ft²)</th>\n",
       "      <th>Fuel Oil #4 Use (kBtu)</th>\n",
       "      <th>Fuel Oil #5 &amp; 6 Use (kBtu)</th>\n",
       "      <th>grid_electricity(kBtu)</th>\n",
       "      <th>WNSE(kWh)</th>\n",
       "      <th>Emissions(CO2e)</th>\n",
       "      <th>directCO2e</th>\n",
       "      <th>indirectCO2e</th>\n",
       "      <th>DOF Property Floor Area (ft²)</th>\n",
       "    </tr>\n",
       "  </thead>\n",
       "  <tbody>\n",
       "    <tr>\n",
       "      <th>903</th>\n",
       "      <td>1.007390e+09</td>\n",
       "      <td>1013043</td>\n",
       "      <td>103.0</td>\n",
       "      <td>8 AVENUE</td>\n",
       "      <td>10011.0</td>\n",
       "      <td>Manhattan</td>\n",
       "      <td>1932</td>\n",
       "      <td>100.0</td>\n",
       "      <td>NaN</td>\n",
       "      <td>16887.0</td>\n",
       "      <td>20726.3</td>\n",
       "      <td>Not Available</td>\n",
       "      <td>Not Available</td>\n",
       "      <td>601793827.4</td>\n",
       "      <td>176375660.7</td>\n",
       "      <td>3221505.2</td>\n",
       "      <td>26.2</td>\n",
       "      <td>3221479.0</td>\n",
       "      <td>2161994.0</td>\n",
       "    </tr>\n",
       "    <tr>\n",
       "      <th>2936</th>\n",
       "      <td>1.012908e+09</td>\n",
       "      <td>1035762</td>\n",
       "      <td>2.0</td>\n",
       "      <td>EAST   55 STREET</td>\n",
       "      <td>10022.0</td>\n",
       "      <td>Manhattan</td>\n",
       "      <td>1904</td>\n",
       "      <td>100.0</td>\n",
       "      <td>1.0</td>\n",
       "      <td>88338.3</td>\n",
       "      <td>106404.3</td>\n",
       "      <td>Not Available</td>\n",
       "      <td>Not Available</td>\n",
       "      <td>29382633.0</td>\n",
       "      <td>8513529.7</td>\n",
       "      <td>2482353.9</td>\n",
       "      <td>256.9</td>\n",
       "      <td>2482097.0</td>\n",
       "      <td>323504.0</td>\n",
       "    </tr>\n",
       "    <tr>\n",
       "      <th>3391</th>\n",
       "      <td>1.013910e+09</td>\n",
       "      <td>Not Available</td>\n",
       "      <td>981.0</td>\n",
       "      <td>MADISON AVENUE</td>\n",
       "      <td>10075.0</td>\n",
       "      <td>Manhattan</td>\n",
       "      <td>1930</td>\n",
       "      <td>75.0</td>\n",
       "      <td>1.0</td>\n",
       "      <td>127429.9</td>\n",
       "      <td>153403.2</td>\n",
       "      <td>Not Available</td>\n",
       "      <td>Not Available</td>\n",
       "      <td>15466586.3</td>\n",
       "      <td>4532996.6</td>\n",
       "      <td>2470066.7</td>\n",
       "      <td>126.7</td>\n",
       "      <td>2469940.0</td>\n",
       "      <td>294142.0</td>\n",
       "    </tr>\n",
       "    <tr>\n",
       "      <th>1985</th>\n",
       "      <td>1.010110e+09</td>\n",
       "      <td>1023750</td>\n",
       "      <td>919.0</td>\n",
       "      <td>7 AVENUE</td>\n",
       "      <td>10019.0</td>\n",
       "      <td>Manhattan</td>\n",
       "      <td>1927</td>\n",
       "      <td>100.0</td>\n",
       "      <td>NaN</td>\n",
       "      <td>87342.8</td>\n",
       "      <td>105160.8</td>\n",
       "      <td>Not Available</td>\n",
       "      <td>Not Available</td>\n",
       "      <td>17828007.4</td>\n",
       "      <td>5155195.7</td>\n",
       "      <td>2320035.4</td>\n",
       "      <td>187.4</td>\n",
       "      <td>2319848.0</td>\n",
       "      <td>353996.0</td>\n",
       "    </tr>\n",
       "    <tr>\n",
       "      <th>3520</th>\n",
       "      <td>1.014158e+09</td>\n",
       "      <td>1043547</td>\n",
       "      <td>200.0</td>\n",
       "      <td>EAST   61 STREET</td>\n",
       "      <td>10065.0</td>\n",
       "      <td>Manhattan</td>\n",
       "      <td>1984</td>\n",
       "      <td>100.0</td>\n",
       "      <td>1.0</td>\n",
       "      <td>131121.4</td>\n",
       "      <td>157841.6</td>\n",
       "      <td>Not Available</td>\n",
       "      <td>Not Available</td>\n",
       "      <td>13000863.1</td>\n",
       "      <td>3709461.6</td>\n",
       "      <td>2193812.2</td>\n",
       "      <td>13.2</td>\n",
       "      <td>2193799.0</td>\n",
       "      <td>322852.0</td>\n",
       "    </tr>\n",
       "  </tbody>\n",
       "</table>\n",
       "</div>"
      ],
      "text/plain": [
       "               BBL            BIN  Street Number           Street Name  \\\n",
       "903   1.007390e+09        1013043          103.0     8 AVENUE            \n",
       "2936  1.012908e+09        1035762            2.0  EAST   55 STREET       \n",
       "3391  1.013910e+09  Not Available          981.0  MADISON AVENUE         \n",
       "1985  1.010110e+09        1023750          919.0     7 AVENUE            \n",
       "3520  1.014158e+09        1043547          200.0  EAST   61 STREET       \n",
       "\n",
       "      Zip Code    Borough Year Built  Occupancy  ENERGY STAR Score  \\\n",
       "903    10011.0  Manhattan       1932      100.0                NaN   \n",
       "2936   10022.0  Manhattan       1904      100.0                1.0   \n",
       "3391   10075.0  Manhattan       1930       75.0                1.0   \n",
       "1985   10019.0  Manhattan       1927      100.0                NaN   \n",
       "3520   10065.0  Manhattan       1984      100.0                1.0   \n",
       "\n",
       "      Weather Normalized Site EUI (kBtu/ft²)  \\\n",
       "903                                  16887.0   \n",
       "2936                                 88338.3   \n",
       "3391                                127429.9   \n",
       "1985                                 87342.8   \n",
       "3520                                131121.4   \n",
       "\n",
       "      Weather Normalized Source EUI (kBtu/ft²) Fuel Oil #4 Use (kBtu)  \\\n",
       "903                                    20726.3          Not Available   \n",
       "2936                                  106404.3          Not Available   \n",
       "3391                                  153403.2          Not Available   \n",
       "1985                                  105160.8          Not Available   \n",
       "3520                                  157841.6          Not Available   \n",
       "\n",
       "     Fuel Oil #5 & 6 Use (kBtu)  grid_electricity(kBtu)    WNSE(kWh)  \\\n",
       "903               Not Available             601793827.4  176375660.7   \n",
       "2936              Not Available              29382633.0    8513529.7   \n",
       "3391              Not Available              15466586.3    4532996.6   \n",
       "1985              Not Available              17828007.4    5155195.7   \n",
       "3520              Not Available              13000863.1    3709461.6   \n",
       "\n",
       "      Emissions(CO2e)  directCO2e  indirectCO2e  DOF Property Floor Area (ft²)  \n",
       "903         3221505.2        26.2     3221479.0                      2161994.0  \n",
       "2936        2482353.9       256.9     2482097.0                       323504.0  \n",
       "3391        2470066.7       126.7     2469940.0                       294142.0  \n",
       "1985        2320035.4       187.4     2319848.0                       353996.0  \n",
       "3520        2193812.2        13.2     2193799.0                       322852.0  "
      ]
     },
     "execution_count": 272,
     "metadata": {},
     "output_type": "execute_result"
    }
   ],
   "source": [
    "energy.sort(columns=['Emissions(CO2e)'], axis=0, ascending=False, inplace=True)\n",
    "energy = energy[energy[\"BIN\"] != '1040808']\n",
    "energy.head()"
   ]
  },
  {
   "cell_type": "code",
   "execution_count": null,
   "metadata": {
    "collapsed": false
   },
   "outputs": [],
   "source": [
    "energy['BIN'] = energy['BIN'].astype(float)"
   ]
  },
  {
   "cell_type": "code",
   "execution_count": null,
   "metadata": {
    "collapsed": false
   },
   "outputs": [],
   "source": [
    "pl.figure(figsize=(8,4))\n",
    "pl.scatter(energy['BIN'], energy['Weather Normalized Site EUI (kBtu/ft²)'], label=('Buildings'), marker=\".\")\n",
    "pl.xlabel(\"Borough\", fontsize=10)\n",
    "pl.ylabel(\"Weather Normalized Site EUI (kBtu/ft²)\", fontsize=10)\n",
    "pl.title(\"Energy Use Per Building\", fontsize=14)\n",
    "pl.legend()"
   ]
  },
  {
   "cell_type": "markdown",
   "metadata": {},
   "source": [
    "## Importing and cleaning PLUTO data for Manhattan (other borough files were too large for Jupyter)"
   ]
  },
  {
   "cell_type": "code",
   "execution_count": 6,
   "metadata": {
    "collapsed": false
   },
   "outputs": [
    {
     "name": "stdout",
     "output_type": "stream",
     "text": [
      "17478\n"
     ]
    },
    {
     "data": {
      "text/plain": [
       "Index(['Borough', 'Block', 'Lot', 'CD', 'CT2010', 'CB2010', 'SchoolDist',\n",
       "       'Council', 'ZipCode', 'FireComp', 'PolicePrct', 'HealthArea', 'Address',\n",
       "       'ZoneDist1', 'BldgClass', 'LandUse', 'OwnerType', 'LotArea', 'BldgArea',\n",
       "       'ComArea', 'ResArea', 'OfficeArea', 'RetailArea', 'GarageArea',\n",
       "       'StrgeArea', 'FactryArea', 'OtherArea', 'AreaSource', 'NumBldgs',\n",
       "       'NumFloors', 'UnitsRes', 'UnitsTotal', 'LotType', 'BsmtCode',\n",
       "       'AssessLand', 'AssessTot', 'ExemptLand', 'ExemptTot', 'YearBuilt',\n",
       "       'BoroCode', 'BBL', 'Tract2010', 'XCoord', 'YCoord', 'PLUTOMapID',\n",
       "       'Version'],\n",
       "      dtype='object')"
      ]
     },
     "execution_count": 6,
     "metadata": {},
     "output_type": "execute_result"
    }
   ],
   "source": [
    "MHpluto = pd.read_csv('MN_reduced.csv').dropna()\n",
    "print(len(MHpluto))\n",
    "MHpluto.columns"
   ]
  },
  {
   "cell_type": "code",
   "execution_count": 7,
   "metadata": {
    "collapsed": false
   },
   "outputs": [
    {
     "data": {
      "text/html": [
       "<div>\n",
       "<table border=\"1\" class=\"dataframe\">\n",
       "  <thead>\n",
       "    <tr style=\"text-align: right;\">\n",
       "      <th></th>\n",
       "      <th>CT2010</th>\n",
       "      <th>CB2010</th>\n",
       "      <th>SchoolDist</th>\n",
       "      <th>ZipCode</th>\n",
       "      <th>FireComp</th>\n",
       "      <th>PolicePrct</th>\n",
       "      <th>HealthArea</th>\n",
       "      <th>Address</th>\n",
       "      <th>BldgClass</th>\n",
       "      <th>LandUse</th>\n",
       "      <th>...</th>\n",
       "      <th>LotArea</th>\n",
       "      <th>BldgArea</th>\n",
       "      <th>NumFloors</th>\n",
       "      <th>LotType</th>\n",
       "      <th>AssessTot</th>\n",
       "      <th>BBL</th>\n",
       "      <th>Tract2010</th>\n",
       "      <th>XCoord</th>\n",
       "      <th>YCoord</th>\n",
       "      <th>PLUTOMapID</th>\n",
       "    </tr>\n",
       "  </thead>\n",
       "  <tbody>\n",
       "    <tr>\n",
       "      <th>0</th>\n",
       "      <td>5.0</td>\n",
       "      <td>1018.0</td>\n",
       "      <td>2.0</td>\n",
       "      <td>10004.0</td>\n",
       "      <td>E007</td>\n",
       "      <td>1.0</td>\n",
       "      <td>8100.0</td>\n",
       "      <td>1 GOVERNORS ISLAND</td>\n",
       "      <td>Y4</td>\n",
       "      <td>8.0</td>\n",
       "      <td>...</td>\n",
       "      <td>7736692</td>\n",
       "      <td>2725731</td>\n",
       "      <td>0.0</td>\n",
       "      <td>5.0</td>\n",
       "      <td>156510900</td>\n",
       "      <td>1000010010</td>\n",
       "      <td>5</td>\n",
       "      <td>979071.0</td>\n",
       "      <td>190225.0</td>\n",
       "      <td>1</td>\n",
       "    </tr>\n",
       "    <tr>\n",
       "      <th>1</th>\n",
       "      <td>1.0</td>\n",
       "      <td>1001.0</td>\n",
       "      <td>2.0</td>\n",
       "      <td>10004.0</td>\n",
       "      <td>E007</td>\n",
       "      <td>1.0</td>\n",
       "      <td>8200.0</td>\n",
       "      <td>1 LIBERTY ISLAND</td>\n",
       "      <td>P7</td>\n",
       "      <td>8.0</td>\n",
       "      <td>...</td>\n",
       "      <td>541886</td>\n",
       "      <td>541886</td>\n",
       "      <td>0.0</td>\n",
       "      <td>5.0</td>\n",
       "      <td>12197250</td>\n",
       "      <td>1000010101</td>\n",
       "      <td>1</td>\n",
       "      <td>971677.0</td>\n",
       "      <td>190636.0</td>\n",
       "      <td>1</td>\n",
       "    </tr>\n",
       "    <tr>\n",
       "      <th>5</th>\n",
       "      <td>9.0</td>\n",
       "      <td>1025.0</td>\n",
       "      <td>2.0</td>\n",
       "      <td>10004.0</td>\n",
       "      <td>L015</td>\n",
       "      <td>1.0</td>\n",
       "      <td>7700.0</td>\n",
       "      <td>MARGINAL STREET</td>\n",
       "      <td>Y7</td>\n",
       "      <td>7.0</td>\n",
       "      <td>...</td>\n",
       "      <td>209215</td>\n",
       "      <td>280000</td>\n",
       "      <td>5.0</td>\n",
       "      <td>5.0</td>\n",
       "      <td>32193900</td>\n",
       "      <td>1000020001</td>\n",
       "      <td>9</td>\n",
       "      <td>980670.0</td>\n",
       "      <td>194440.0</td>\n",
       "      <td>1</td>\n",
       "    </tr>\n",
       "  </tbody>\n",
       "</table>\n",
       "<p>3 rows × 21 columns</p>\n",
       "</div>"
      ],
      "text/plain": [
       "   CT2010  CB2010  SchoolDist  ZipCode FireComp  PolicePrct  HealthArea  \\\n",
       "0     5.0  1018.0         2.0  10004.0     E007         1.0      8100.0   \n",
       "1     1.0  1001.0         2.0  10004.0     E007         1.0      8200.0   \n",
       "5     9.0  1025.0         2.0  10004.0     L015         1.0      7700.0   \n",
       "\n",
       "                   Address BldgClass  LandUse     ...      LotArea  BldgArea  \\\n",
       "0       1 GOVERNORS ISLAND        Y4      8.0     ...      7736692   2725731   \n",
       "1         1 LIBERTY ISLAND        P7      8.0     ...       541886    541886   \n",
       "5          MARGINAL STREET        Y7      7.0     ...       209215    280000   \n",
       "\n",
       "   NumFloors  LotType  AssessTot         BBL  Tract2010    XCoord    YCoord  \\\n",
       "0        0.0      5.0  156510900  1000010010          5  979071.0  190225.0   \n",
       "1        0.0      5.0   12197250  1000010101          1  971677.0  190636.0   \n",
       "5        5.0      5.0   32193900  1000020001          9  980670.0  194440.0   \n",
       "\n",
       "   PLUTOMapID  \n",
       "0           1  \n",
       "1           1  \n",
       "5           1  \n",
       "\n",
       "[3 rows x 21 columns]"
      ]
     },
     "execution_count": 7,
     "metadata": {},
     "output_type": "execute_result"
    }
   ],
   "source": [
    "MHpluto.drop(['Borough', 'Block', 'Lot', 'CD', 'Council', 'ComArea', 'ResArea', 'OfficeArea', 'RetailArea', \\\n",
    "              'GarageArea', 'StrgeArea', 'FactryArea', 'OtherArea', 'AreaSource', 'NumBldgs', 'ExemptLand', \\\n",
    "              'ExemptTot', 'YearBuilt', 'Version', 'ZoneDist1', 'UnitsRes', 'UnitsTotal', 'BsmtCode', \\\n",
    "              'AssessLand', 'BoroCode'], axis=1, inplace=True)\n",
    "MHpluto.head(3)"
   ]
  },
  {
   "cell_type": "code",
   "execution_count": null,
   "metadata": {
    "collapsed": false
   },
   "outputs": [],
   "source": [
    "energy.BBL = energy.BBL.astype(float)\n",
    "MHpluto.BBL = MHpluto.BBL.astype(float)"
   ]
  },
  {
   "cell_type": "code",
   "execution_count": 9,
   "metadata": {
    "collapsed": false
   },
   "outputs": [
    {
     "data": {
      "text/plain": [
       "numpy.float64"
      ]
     },
     "execution_count": 9,
     "metadata": {},
     "output_type": "execute_result"
    }
   ],
   "source": [
    "type(MHpluto.BBL[1])"
   ]
  },
  {
   "cell_type": "code",
   "execution_count": 10,
   "metadata": {
    "collapsed": false
   },
   "outputs": [
    {
     "data": {
      "text/plain": [
       "numpy.float64"
      ]
     },
     "execution_count": 10,
     "metadata": {},
     "output_type": "execute_result"
    }
   ],
   "source": [
    "type(energy.BBL[1])"
   ]
  },
  {
   "cell_type": "markdown",
   "metadata": {},
   "source": [
    "## Merging building energy and PLUTO data for Manhattan (on Borough-Block-Lot)."
   ]
  },
  {
   "cell_type": "code",
   "execution_count": 252,
   "metadata": {
    "collapsed": false
   },
   "outputs": [
    {
     "name": "stdout",
     "output_type": "stream",
     "text": [
      "1990\n"
     ]
    },
    {
     "data": {
      "text/plain": [
       "Index(['BBL', 'BIN', 'Street Number', 'Street Name', 'Zip Code', 'Borough',\n",
       "       'Year Built', 'Occupancy', 'ENERGY STAR Score',\n",
       "       'Weather Normalized Site EUI (kBtu/ft²)',\n",
       "       'Weather Normalized Source EUI (kBtu/ft²)', 'Fuel Oil #4 Use (kBtu)',\n",
       "       'Fuel Oil #5 & 6 Use (kBtu)', 'grid_electricity(kBtu)', 'WNSE(kWh)',\n",
       "       'Emissions(CO2e)', 'directCO2e', 'indirectCO2e',\n",
       "       'DOF Property Floor Area (ft²)', 'CT2010', 'CB2010', 'SchoolDist',\n",
       "       'ZipCode', 'FireComp', 'PolicePrct', 'HealthArea', 'Address',\n",
       "       'BldgClass', 'LandUse', 'OwnerType', 'LotArea', 'BldgArea', 'NumFloors',\n",
       "       'LotType', 'AssessTot', 'Tract2010', 'XCoord', 'YCoord', 'PLUTOMapID'],\n",
       "      dtype='object')"
      ]
     },
     "execution_count": 252,
     "metadata": {},
     "output_type": "execute_result"
    }
   ],
   "source": [
    "merge1 = pd.merge(energy, MHpluto, on=['BBL'], how='inner')\n",
    "print(len(merge1))\n",
    "merge1.columns"
   ]
  },
  {
   "cell_type": "code",
   "execution_count": 283,
   "metadata": {
    "collapsed": false
   },
   "outputs": [
    {
     "data": {
      "text/html": [
       "<div>\n",
       "<table border=\"1\" class=\"dataframe\">\n",
       "  <thead>\n",
       "    <tr style=\"text-align: right;\">\n",
       "      <th></th>\n",
       "      <th>BBL</th>\n",
       "      <th>BIN</th>\n",
       "      <th>Street Number</th>\n",
       "      <th>Street Name</th>\n",
       "      <th>Zip Code</th>\n",
       "      <th>Borough</th>\n",
       "      <th>Year Built</th>\n",
       "      <th>Occupancy</th>\n",
       "      <th>ENERGY STAR Score</th>\n",
       "      <th>Weather Normalized Site EUI (kBtu/ft²)</th>\n",
       "      <th>...</th>\n",
       "      <th>OwnerType</th>\n",
       "      <th>LotArea</th>\n",
       "      <th>BldgArea</th>\n",
       "      <th>NumFloors</th>\n",
       "      <th>LotType</th>\n",
       "      <th>AssessTot</th>\n",
       "      <th>Tract2010</th>\n",
       "      <th>XCoord</th>\n",
       "      <th>YCoord</th>\n",
       "      <th>PLUTOMapID</th>\n",
       "    </tr>\n",
       "  </thead>\n",
       "  <tbody>\n",
       "    <tr>\n",
       "      <th>0</th>\n",
       "      <td>1.004778e+09</td>\n",
       "      <td>1083493</td>\n",
       "      <td>121.0</td>\n",
       "      <td>AVENUE OF THE AMER</td>\n",
       "      <td>10013.0</td>\n",
       "      <td>Manhattan</td>\n",
       "      <td>1925</td>\n",
       "      <td>100.0</td>\n",
       "      <td>1.0</td>\n",
       "      <td>226593.1</td>\n",
       "      <td>...</td>\n",
       "      <td>P</td>\n",
       "      <td>18727</td>\n",
       "      <td>84365</td>\n",
       "      <td>6.0</td>\n",
       "      <td>5.0</td>\n",
       "      <td>7316101</td>\n",
       "      <td>37</td>\n",
       "      <td>982824.0</td>\n",
       "      <td>203094.0</td>\n",
       "      <td>1</td>\n",
       "    </tr>\n",
       "    <tr>\n",
       "      <th>1</th>\n",
       "      <td>1.014270e+09</td>\n",
       "      <td>1043968</td>\n",
       "      <td>225.0</td>\n",
       "      <td>EAST   72 STREET</td>\n",
       "      <td>10021.0</td>\n",
       "      <td>Manhattan</td>\n",
       "      <td>1960</td>\n",
       "      <td>100.0</td>\n",
       "      <td>1.0</td>\n",
       "      <td>133017.4</td>\n",
       "      <td>...</td>\n",
       "      <td>X</td>\n",
       "      <td>9297</td>\n",
       "      <td>95267</td>\n",
       "      <td>11.0</td>\n",
       "      <td>5.0</td>\n",
       "      <td>8320950</td>\n",
       "      <td>126</td>\n",
       "      <td>995533.0</td>\n",
       "      <td>219627.0</td>\n",
       "      <td>1</td>\n",
       "    </tr>\n",
       "    <tr>\n",
       "      <th>2</th>\n",
       "      <td>1.014158e+09</td>\n",
       "      <td>1043547</td>\n",
       "      <td>200.0</td>\n",
       "      <td>EAST   61 STREET</td>\n",
       "      <td>10065.0</td>\n",
       "      <td>Manhattan</td>\n",
       "      <td>1984</td>\n",
       "      <td>100.0</td>\n",
       "      <td>1.0</td>\n",
       "      <td>131121.4</td>\n",
       "      <td>...</td>\n",
       "      <td>P</td>\n",
       "      <td>19983</td>\n",
       "      <td>251954</td>\n",
       "      <td>43.0</td>\n",
       "      <td>5.0</td>\n",
       "      <td>42912902</td>\n",
       "      <td>110</td>\n",
       "      <td>993782.0</td>\n",
       "      <td>217029.0</td>\n",
       "      <td>1</td>\n",
       "    </tr>\n",
       "    <tr>\n",
       "      <th>3</th>\n",
       "      <td>1.013910e+09</td>\n",
       "      <td>Not Available</td>\n",
       "      <td>981.0</td>\n",
       "      <td>MADISON AVENUE</td>\n",
       "      <td>10075.0</td>\n",
       "      <td>Manhattan</td>\n",
       "      <td>1930</td>\n",
       "      <td>75.0</td>\n",
       "      <td>1.0</td>\n",
       "      <td>127429.9</td>\n",
       "      <td>...</td>\n",
       "      <td>P</td>\n",
       "      <td>18803</td>\n",
       "      <td>294142</td>\n",
       "      <td>40.0</td>\n",
       "      <td>3.0</td>\n",
       "      <td>70865100</td>\n",
       "      <td>130</td>\n",
       "      <td>994500.0</td>\n",
       "      <td>221407.0</td>\n",
       "      <td>1</td>\n",
       "    </tr>\n",
       "    <tr>\n",
       "      <th>4</th>\n",
       "      <td>1.012260e+09</td>\n",
       "      <td>1032613</td>\n",
       "      <td>132.0</td>\n",
       "      <td>WEST   96 STREET</td>\n",
       "      <td>10025.0</td>\n",
       "      <td>Manhattan</td>\n",
       "      <td>1925</td>\n",
       "      <td>100.0</td>\n",
       "      <td>1.0</td>\n",
       "      <td>115367.9</td>\n",
       "      <td>...</td>\n",
       "      <td>P</td>\n",
       "      <td>35325</td>\n",
       "      <td>196650</td>\n",
       "      <td>14.0</td>\n",
       "      <td>5.0</td>\n",
       "      <td>7722450</td>\n",
       "      <td>181</td>\n",
       "      <td>992732.0</td>\n",
       "      <td>228306.0</td>\n",
       "      <td>1</td>\n",
       "    </tr>\n",
       "  </tbody>\n",
       "</table>\n",
       "<p>5 rows × 39 columns</p>\n",
       "</div>"
      ],
      "text/plain": [
       "            BBL            BIN  Street Number           Street Name  Zip Code  \\\n",
       "0  1.004778e+09        1083493          121.0  AVENUE OF THE AMER     10013.0   \n",
       "1  1.014270e+09        1043968          225.0  EAST   72 STREET       10021.0   \n",
       "2  1.014158e+09        1043547          200.0  EAST   61 STREET       10065.0   \n",
       "3  1.013910e+09  Not Available          981.0  MADISON AVENUE         10075.0   \n",
       "4  1.012260e+09        1032613          132.0  WEST   96 STREET       10025.0   \n",
       "\n",
       "     Borough Year Built  Occupancy  ENERGY STAR Score  \\\n",
       "0  Manhattan       1925      100.0                1.0   \n",
       "1  Manhattan       1960      100.0                1.0   \n",
       "2  Manhattan       1984      100.0                1.0   \n",
       "3  Manhattan       1930       75.0                1.0   \n",
       "4  Manhattan       1925      100.0                1.0   \n",
       "\n",
       "   Weather Normalized Site EUI (kBtu/ft²)     ...      OwnerType LotArea  \\\n",
       "0                                226593.1     ...              P   18727   \n",
       "1                                133017.4     ...              X    9297   \n",
       "2                                131121.4     ...              P   19983   \n",
       "3                                127429.9     ...              P   18803   \n",
       "4                                115367.9     ...              P   35325   \n",
       "\n",
       "  BldgArea  NumFloors  LotType  AssessTot  Tract2010    XCoord    YCoord  \\\n",
       "0    84365        6.0      5.0    7316101         37  982824.0  203094.0   \n",
       "1    95267       11.0      5.0    8320950        126  995533.0  219627.0   \n",
       "2   251954       43.0      5.0   42912902        110  993782.0  217029.0   \n",
       "3   294142       40.0      3.0   70865100        130  994500.0  221407.0   \n",
       "4   196650       14.0      5.0    7722450        181  992732.0  228306.0   \n",
       "\n",
       "   PLUTOMapID  \n",
       "0           1  \n",
       "1           1  \n",
       "2           1  \n",
       "3           1  \n",
       "4           1  \n",
       "\n",
       "[5 rows x 39 columns]"
      ]
     },
     "execution_count": 283,
     "metadata": {},
     "output_type": "execute_result"
    }
   ],
   "source": [
    "merge1.head()"
   ]
  },
  {
   "cell_type": "code",
   "execution_count": 249,
   "metadata": {
    "collapsed": false
   },
   "outputs": [],
   "source": [
    "merge1.to_csv(path_or_buf='merge1.csv')"
   ]
  },
  {
   "cell_type": "code",
   "execution_count": 250,
   "metadata": {
    "collapsed": false
   },
   "outputs": [
    {
     "data": {
      "text/html": [
       "<div>\n",
       "<table border=\"1\" class=\"dataframe\">\n",
       "  <thead>\n",
       "    <tr style=\"text-align: right;\">\n",
       "      <th></th>\n",
       "      <th>Buildings/Zip</th>\n",
       "    </tr>\n",
       "    <tr>\n",
       "      <th>Zip Code</th>\n",
       "      <th></th>\n",
       "    </tr>\n",
       "  </thead>\n",
       "  <tbody>\n",
       "    <tr>\n",
       "      <th>10001.0</th>\n",
       "      <td>78</td>\n",
       "    </tr>\n",
       "    <tr>\n",
       "      <th>10002.0</th>\n",
       "      <td>20</td>\n",
       "    </tr>\n",
       "    <tr>\n",
       "      <th>10003.0</th>\n",
       "      <td>83</td>\n",
       "    </tr>\n",
       "  </tbody>\n",
       "</table>\n",
       "</div>"
      ],
      "text/plain": [
       "          Buildings/Zip\n",
       "Zip Code               \n",
       "10001.0              78\n",
       "10002.0              20\n",
       "10003.0              83"
      ]
     },
     "execution_count": 250,
     "metadata": {},
     "output_type": "execute_result"
    }
   ],
   "source": [
    "# counting the buildings (in data set) per zip code\n",
    "grouped = merge1.groupby('Zip Code')\n",
    "zips = pd.DataFrame(grouped['Zip Code'].apply(np.size))\n",
    "zips.rename(columns={'Zip Code':'Buildings/Zip'}, inplace=True)\n",
    "zips.head(3)"
   ]
  },
  {
   "cell_type": "code",
   "execution_count": 281,
   "metadata": {
    "collapsed": false
   },
   "outputs": [],
   "source": [
    "energyPerZip = merge1.copy()\n",
    "energyPerZip.drop(['BBL', 'BIN', 'Street Number', 'Street Name', \\\n",
    "                   'Borough', 'Year Built', 'Occupancy', 'Fuel Oil #5 & 6 Use (kBtu)', \\\n",
    "                'ENERGY STAR Score',\n",
    "       'Weather Normalized Source EUI (kBtu/ft²)', 'Fuel Oil #4 Use (kBtu)', \\\n",
    "        'grid_electricity(kBtu)', 'WNSE(kWh)', 'directCO2e', 'indirectCO2e',\n",
    "       'DOF Property Floor Area (ft²)', 'CT2010',\n",
    "       'CB2010', 'SchoolDist', 'ZipCode', 'FireComp', 'PolicePrct',\n",
    "       'HealthArea', 'Address', 'BldgClass', 'LandUse', 'OwnerType', 'LotArea',\n",
    "       'BldgArea', 'NumFloors', 'LotType', 'AssessTot', 'Tract2010', 'XCoord', \\\n",
    "                   'YCoord', 'PLUTOMapID'], axis=1, inplace=True)"
   ]
  },
  {
   "cell_type": "code",
   "execution_count": 82,
   "metadata": {
    "collapsed": false
   },
   "outputs": [
    {
     "data": {
      "text/plain": [
       "numpy.float64"
      ]
     },
     "execution_count": 82,
     "metadata": {},
     "output_type": "execute_result"
    }
   ],
   "source": [
    "type(energyPerZip['Emissions(CO2e)'][1])"
   ]
  },
  {
   "cell_type": "code",
   "execution_count": 83,
   "metadata": {
    "collapsed": false
   },
   "outputs": [
    {
     "data": {
      "text/plain": [
       "numpy.float64"
      ]
     },
     "execution_count": 83,
     "metadata": {},
     "output_type": "execute_result"
    }
   ],
   "source": [
    "type(energyPerZip['Weather Normalized Site EUI (kBtu/ft²)'][1])"
   ]
  },
  {
   "cell_type": "code",
   "execution_count": 255,
   "metadata": {
    "collapsed": false
   },
   "outputs": [
    {
     "name": "stdout",
     "output_type": "stream",
     "text": [
      "1990\n"
     ]
    },
    {
     "data": {
      "text/html": [
       "<div>\n",
       "<table border=\"1\" class=\"dataframe\">\n",
       "  <thead>\n",
       "    <tr style=\"text-align: right;\">\n",
       "      <th></th>\n",
       "      <th>Zip Code</th>\n",
       "      <th>Weather Normalized Site EUI (kBtu/ft²)</th>\n",
       "      <th>Emissions(CO2e)</th>\n",
       "    </tr>\n",
       "  </thead>\n",
       "  <tbody>\n",
       "    <tr>\n",
       "      <th>0</th>\n",
       "      <td>10013.0</td>\n",
       "      <td>226593.1</td>\n",
       "      <td>1269381.0</td>\n",
       "    </tr>\n",
       "    <tr>\n",
       "      <th>1</th>\n",
       "      <td>10021.0</td>\n",
       "      <td>133017.4</td>\n",
       "      <td>597568.6</td>\n",
       "    </tr>\n",
       "    <tr>\n",
       "      <th>2</th>\n",
       "      <td>10065.0</td>\n",
       "      <td>131121.4</td>\n",
       "      <td>2193812.2</td>\n",
       "    </tr>\n",
       "    <tr>\n",
       "      <th>3</th>\n",
       "      <td>10075.0</td>\n",
       "      <td>127429.9</td>\n",
       "      <td>2470066.7</td>\n",
       "    </tr>\n",
       "    <tr>\n",
       "      <th>4</th>\n",
       "      <td>10025.0</td>\n",
       "      <td>115367.9</td>\n",
       "      <td>1518089.3</td>\n",
       "    </tr>\n",
       "  </tbody>\n",
       "</table>\n",
       "</div>"
      ],
      "text/plain": [
       "   Zip Code  Weather Normalized Site EUI (kBtu/ft²)  Emissions(CO2e)\n",
       "0   10013.0                                226593.1        1269381.0\n",
       "1   10021.0                                133017.4         597568.6\n",
       "2   10065.0                                131121.4        2193812.2\n",
       "3   10075.0                                127429.9        2470066.7\n",
       "4   10025.0                                115367.9        1518089.3"
      ]
     },
     "execution_count": 255,
     "metadata": {},
     "output_type": "execute_result"
    }
   ],
   "source": [
    "energyPerZip.groupby(['Zip Code'])\n",
    "print(len(energyPerZip))\n",
    "energyPerZip.head()"
   ]
  },
  {
   "cell_type": "markdown",
   "metadata": {},
   "source": [
    "## Importing and cleaning asthma data for Manhattan zip codes from 2012-2014. Discharge rate is per 10,000 population."
   ]
  },
  {
   "cell_type": "code",
   "execution_count": 114,
   "metadata": {
    "collapsed": false
   },
   "outputs": [
    {
     "name": "stdout",
     "output_type": "stream",
     "text": [
      "43\n",
      "Index(['﻿Zip Code', 'Discharges2012-2014', 'Discharge_Rate'], dtype='object')\n"
     ]
    },
    {
     "data": {
      "text/html": [
       "<div>\n",
       "<table border=\"1\" class=\"dataframe\">\n",
       "  <thead>\n",
       "    <tr style=\"text-align: right;\">\n",
       "      <th></th>\n",
       "      <th>﻿Zip Code</th>\n",
       "      <th>Discharges2012-2014</th>\n",
       "      <th>Discharge_Rate</th>\n",
       "    </tr>\n",
       "  </thead>\n",
       "  <tbody>\n",
       "    <tr>\n",
       "      <th>0</th>\n",
       "      <td>10001</td>\n",
       "      <td>159</td>\n",
       "      <td>21.9</td>\n",
       "    </tr>\n",
       "    <tr>\n",
       "      <th>1</th>\n",
       "      <td>10002</td>\n",
       "      <td>592</td>\n",
       "      <td>23.9</td>\n",
       "    </tr>\n",
       "    <tr>\n",
       "      <th>2</th>\n",
       "      <td>10003</td>\n",
       "      <td>130</td>\n",
       "      <td>7.7</td>\n",
       "    </tr>\n",
       "  </tbody>\n",
       "</table>\n",
       "</div>"
      ],
      "text/plain": [
       "   ﻿Zip Code Discharges2012-2014  Discharge_Rate\n",
       "0      10001                 159            21.9\n",
       "1      10002                 592            23.9\n",
       "2      10003                 130             7.7"
      ]
     },
     "execution_count": 114,
     "metadata": {},
     "output_type": "execute_result"
    }
   ],
   "source": [
    "MHasthma = pd.read_csv('MHasthma.csv')\n",
    "print(len(MHasthma))\n",
    "print(MHasthma.columns)\n",
    "MHasthma.head(3)"
   ]
  },
  {
   "cell_type": "code",
   "execution_count": 115,
   "metadata": {
    "collapsed": true
   },
   "outputs": [],
   "source": [
    "MHasthma.rename(columns={'﻿Zip Code':'Zip Code'}, inplace=True)"
   ]
  },
  {
   "cell_type": "code",
   "execution_count": 116,
   "metadata": {
    "collapsed": false
   },
   "outputs": [
    {
     "data": {
      "text/plain": [
       "numpy.int64"
      ]
     },
     "execution_count": 116,
     "metadata": {},
     "output_type": "execute_result"
    }
   ],
   "source": [
    "type(MHasthma['Zip Code'][1])"
   ]
  },
  {
   "cell_type": "code",
   "execution_count": 118,
   "metadata": {
    "collapsed": false
   },
   "outputs": [
    {
     "data": {
      "text/html": [
       "<div>\n",
       "<table border=\"1\" class=\"dataframe\">\n",
       "  <thead>\n",
       "    <tr style=\"text-align: right;\">\n",
       "      <th></th>\n",
       "      <th>Zip Code</th>\n",
       "      <th>Discharges2012-2014</th>\n",
       "      <th>Discharge_Rate</th>\n",
       "    </tr>\n",
       "  </thead>\n",
       "  <tbody>\n",
       "    <tr>\n",
       "      <th>0</th>\n",
       "      <td>10001.0</td>\n",
       "      <td>159</td>\n",
       "      <td>21.9</td>\n",
       "    </tr>\n",
       "    <tr>\n",
       "      <th>1</th>\n",
       "      <td>10002.0</td>\n",
       "      <td>592</td>\n",
       "      <td>23.9</td>\n",
       "    </tr>\n",
       "  </tbody>\n",
       "</table>\n",
       "</div>"
      ],
      "text/plain": [
       "   Zip Code Discharges2012-2014  Discharge_Rate\n",
       "0   10001.0                 159            21.9\n",
       "1   10002.0                 592            23.9"
      ]
     },
     "execution_count": 118,
     "metadata": {},
     "output_type": "execute_result"
    }
   ],
   "source": [
    "MHasthma['Zip Code'] = MHasthma['Zip Code'].astype(float)\n",
    "MHasthma.head(2)"
   ]
  },
  {
   "cell_type": "markdown",
   "metadata": {},
   "source": [
    "## 1.0 How can we develop a metric for understanding energy performance and peer building comparison that accounts for the differences in building and occupancy characteristics that impact consumption?"
   ]
  },
  {
   "cell_type": "markdown",
   "metadata": {
    "collapsed": true
   },
   "source": [
    "## 2.1 What is the relationship between building energy use and public health, measured by the local asthma hospitalization rate?"
   ]
  },
  {
   "cell_type": "markdown",
   "metadata": {},
   "source": [
    "Merging just the building energy data with asthma data. Grouping building energy by zip code first. Leaving out PLUTO and Census for now.\n",
    "\n",
    "Using Weather Normalized Site EUI, because the environmental impacts of a building's electricity source don't affect the health of people around the building (as long as, like most buildings, it gets its electricity from the grid)."
   ]
  },
  {
   "cell_type": "code",
   "execution_count": 274,
   "metadata": {
    "collapsed": false
   },
   "outputs": [],
   "source": [
    "energy_Zip = energy.groupby(['Zip Code'])[['Weather Normalized Site EUI (kBtu/ft²)', 'Emissions(CO2e)']].sum()"
   ]
  },
  {
   "cell_type": "code",
   "execution_count": 275,
   "metadata": {
    "collapsed": false
   },
   "outputs": [
    {
     "data": {
      "text/html": [
       "<div>\n",
       "<table border=\"1\" class=\"dataframe\">\n",
       "  <thead>\n",
       "    <tr style=\"text-align: right;\">\n",
       "      <th></th>\n",
       "      <th>Weather Normalized Site EUI (kBtu/ft²)</th>\n",
       "      <th>Emissions(CO2e)</th>\n",
       "      <th>Zip Code</th>\n",
       "    </tr>\n",
       "  </thead>\n",
       "  <tbody>\n",
       "    <tr>\n",
       "      <th>0</th>\n",
       "      <td>12612.0</td>\n",
       "      <td>285257.8</td>\n",
       "      <td>10001.0</td>\n",
       "    </tr>\n",
       "    <tr>\n",
       "      <th>1</th>\n",
       "      <td>2998.4</td>\n",
       "      <td>33170.0</td>\n",
       "      <td>10002.0</td>\n",
       "    </tr>\n",
       "    <tr>\n",
       "      <th>2</th>\n",
       "      <td>112037.2</td>\n",
       "      <td>2604604.4</td>\n",
       "      <td>10003.0</td>\n",
       "    </tr>\n",
       "    <tr>\n",
       "      <th>3</th>\n",
       "      <td>22145.1</td>\n",
       "      <td>549393.4</td>\n",
       "      <td>10004.0</td>\n",
       "    </tr>\n",
       "    <tr>\n",
       "      <th>4</th>\n",
       "      <td>78828.7</td>\n",
       "      <td>1356384.2</td>\n",
       "      <td>10005.0</td>\n",
       "    </tr>\n",
       "  </tbody>\n",
       "</table>\n",
       "</div>"
      ],
      "text/plain": [
       "   Weather Normalized Site EUI (kBtu/ft²)  Emissions(CO2e)  Zip Code\n",
       "0                                 12612.0         285257.8   10001.0\n",
       "1                                  2998.4          33170.0   10002.0\n",
       "2                                112037.2        2604604.4   10003.0\n",
       "3                                 22145.1         549393.4   10004.0\n",
       "4                                 78828.7        1356384.2   10005.0"
      ]
     },
     "execution_count": 275,
     "metadata": {},
     "output_type": "execute_result"
    }
   ],
   "source": [
    "energy_Zip['Zip Code'] = energy_Zip.index\n",
    "x = len(energy_Zip)\n",
    "energy_Zip.index = np.arange(0,x)\n",
    "energy_Zip.head()"
   ]
  },
  {
   "cell_type": "code",
   "execution_count": 276,
   "metadata": {
    "collapsed": false
   },
   "outputs": [
    {
     "name": "stdout",
     "output_type": "stream",
     "text": [
      "42\n"
     ]
    },
    {
     "data": {
      "text/html": [
       "<div>\n",
       "<table border=\"1\" class=\"dataframe\">\n",
       "  <thead>\n",
       "    <tr style=\"text-align: right;\">\n",
       "      <th></th>\n",
       "      <th>Weather Normalized Site EUI (kBtu/ft²)</th>\n",
       "      <th>Emissions(CO2e)</th>\n",
       "      <th>Zip Code</th>\n",
       "      <th>Discharges2012-2014</th>\n",
       "      <th>Discharge_Rate</th>\n",
       "    </tr>\n",
       "  </thead>\n",
       "  <tbody>\n",
       "    <tr>\n",
       "      <th>0</th>\n",
       "      <td>12612.0</td>\n",
       "      <td>285257.8</td>\n",
       "      <td>10001</td>\n",
       "      <td>159.0</td>\n",
       "      <td>21.9</td>\n",
       "    </tr>\n",
       "    <tr>\n",
       "      <th>1</th>\n",
       "      <td>2998.4</td>\n",
       "      <td>33170.0</td>\n",
       "      <td>10002</td>\n",
       "      <td>592.0</td>\n",
       "      <td>23.9</td>\n",
       "    </tr>\n",
       "    <tr>\n",
       "      <th>2</th>\n",
       "      <td>112037.2</td>\n",
       "      <td>2604604.4</td>\n",
       "      <td>10003</td>\n",
       "      <td>130.0</td>\n",
       "      <td>7.7</td>\n",
       "    </tr>\n",
       "    <tr>\n",
       "      <th>3</th>\n",
       "      <td>22145.1</td>\n",
       "      <td>549393.4</td>\n",
       "      <td>10004</td>\n",
       "      <td>NaN</td>\n",
       "      <td>NaN</td>\n",
       "    </tr>\n",
       "    <tr>\n",
       "      <th>4</th>\n",
       "      <td>78828.7</td>\n",
       "      <td>1356384.2</td>\n",
       "      <td>10005</td>\n",
       "      <td>6.0</td>\n",
       "      <td>2.2</td>\n",
       "    </tr>\n",
       "  </tbody>\n",
       "</table>\n",
       "</div>"
      ],
      "text/plain": [
       "   Weather Normalized Site EUI (kBtu/ft²)  Emissions(CO2e)  Zip Code  \\\n",
       "0                                 12612.0         285257.8     10001   \n",
       "1                                  2998.4          33170.0     10002   \n",
       "2                                112037.2        2604604.4     10003   \n",
       "3                                 22145.1         549393.4     10004   \n",
       "4                                 78828.7        1356384.2     10005   \n",
       "\n",
       "   Discharges2012-2014  Discharge_Rate  \n",
       "0                159.0            21.9  \n",
       "1                592.0            23.9  \n",
       "2                130.0             7.7  \n",
       "3                  NaN             NaN  \n",
       "4                  6.0             2.2  "
      ]
     },
     "execution_count": 276,
     "metadata": {},
     "output_type": "execute_result"
    }
   ],
   "source": [
    "MHasthmaZip = pd.merge(energy_Zip, MHasthma, on=['Zip Code'], how='inner')\n",
    "MHasthmaZip['Discharges2012-2014'] = MHasthmaZip['Discharges2012-2014'].str.replace(',', '')\n",
    "MHasthmaZip['Discharges2012-2014'] = MHasthmaZip['Discharges2012-2014'].astype(float)\n",
    "MHasthmaZip['Zip Code'] = MHasthmaZip['Zip Code'].astype(int)\n",
    "MHasthmaZip.to_csv(path_or_buf='MH_asthma_energy_per_zip.csv')\n",
    "print(len(MHasthmaZip))\n",
    "MHasthmaZip.head()"
   ]
  },
  {
   "cell_type": "code",
   "execution_count": 277,
   "metadata": {
    "collapsed": false
   },
   "outputs": [
    {
     "data": {
      "text/plain": [
       "<matplotlib.legend.Legend at 0x7f62b1a35048>"
      ]
     },
     "execution_count": 277,
     "metadata": {},
     "output_type": "execute_result"
    },
    {
     "data": {
      "image/png": "[encoded data removed]",
      "text/plain": [
       "<matplotlib.figure.Figure at 0x7f62b3b701d0>"
      ]
     },
     "metadata": {},
     "output_type": "display_data"
    }
   ],
   "source": [
    "pl.figure(figsize=(8,4))\n",
    "pl.scatter(MHasthmaZip['Weather Normalized Site EUI (kBtu/ft²)'], MHasthmaZip['Discharge_Rate'], s=100, \\\n",
    "           cmap='bone', label=('Zip Codes'), marker=\".\")\n",
    "pl.xlabel(\"Weather Normalized Site EUI (kBtu/ft²)\", fontsize=10)\n",
    "pl.ylabel(\"Asthma Discharge Rate\", fontsize=10)\n",
    "pl.title(\"Building Energy Use and Asthma Discharge Rates Per MH Zip Code\", fontsize=14)\n",
    "pl.legend()"
   ]
  },
  {
   "cell_type": "code",
   "execution_count": 278,
   "metadata": {
    "collapsed": false
   },
   "outputs": [
    {
     "data": {
      "text/plain": [
       "<matplotlib.legend.Legend at 0x7f62b0cb4f60>"
      ]
     },
     "execution_count": 278,
     "metadata": {},
     "output_type": "execute_result"
    },
    {
     "data": {
      "image/png": "[encoded data removed]",
      "text/plain": [
       "<matplotlib.figure.Figure at 0x7f62b1046a20>"
      ]
     },
     "metadata": {},
     "output_type": "display_data"
    }
   ],
   "source": [
    "pl.figure(figsize=(10,4))\n",
    "pl.scatter(MHasthmaZip['Emissions(CO2e)'], MHasthmaZip['Discharge_Rate'], s=100, \\\n",
    "           cmap='bone', label=('Zip Codes'), marker=\".\")\n",
    "pl.xlabel(\"Emissions(CO2e)\", fontsize=10)\n",
    "pl.ylabel(\"Asthma Discharge Rate\", fontsize=10)\n",
    "pl.title(\"Building Emissions and Asthma Discharge Rates Per MH Zip Code\", fontsize=14)\n",
    "pl.legend()"
   ]
  },
  {
   "cell_type": "code",
   "execution_count": 279,
   "metadata": {
    "collapsed": false
   },
   "outputs": [
    {
     "data": {
      "text/plain": [
       "<matplotlib.legend.Legend at 0x7f62b0c85ef0>"
      ]
     },
     "execution_count": 279,
     "metadata": {},
     "output_type": "execute_result"
    },
    {
     "data": {
      "image/png": "[encoded data removed]",
      "text/plain": [
       "<matplotlib.figure.Figure at 0x7f62b0d25cf8>"
      ]
     },
     "metadata": {},
     "output_type": "display_data"
    }
   ],
   "source": [
    "pl.figure(figsize=(10,4))\n",
    "pl.scatter(MHasthmaZip['Emissions(CO2e)'], MHasthmaZip['Discharges2012-2014'], s=100, \\\n",
    "           cmap='bone', label=('Zip Codes'), marker=\".\")\n",
    "pl.xlabel(\"Emissions (CO2e) of all Buildings in Zip Code\", fontsize=10)\n",
    "pl.ylabel(\"Asthma Discharges 2012-2014\", fontsize=10)\n",
    "pl.title(\"Building Emissions and Asthma Discharges Per MH Zip Code\", fontsize=14)\n",
    "pl.legend()"
   ]
  },
  {
   "cell_type": "code",
   "execution_count": 280,
   "metadata": {
    "collapsed": false
   },
   "outputs": [
    {
     "name": "stderr",
     "output_type": "stream",
     "text": [
      "/opt/rh/anaconda/root/envs/PUI2016_Python3/lib/python3.5/site-packages/ipykernel/__main__.py:1: FutureWarning: sort(columns=....) is deprecated, use sort_values(by=.....)\n",
      "  if __name__ == '__main__':\n"
     ]
    },
    {
     "data": {
      "text/html": [
       "<div>\n",
       "<table border=\"1\" class=\"dataframe\">\n",
       "  <thead>\n",
       "    <tr style=\"text-align: right;\">\n",
       "      <th></th>\n",
       "      <th>Weather Normalized Site EUI (kBtu/ft²)</th>\n",
       "      <th>Emissions(CO2e)</th>\n",
       "      <th>Zip Code</th>\n",
       "      <th>Discharges2012-2014</th>\n",
       "      <th>Discharge_Rate</th>\n",
       "    </tr>\n",
       "  </thead>\n",
       "  <tbody>\n",
       "    <tr>\n",
       "      <th>18</th>\n",
       "      <td>258669.2</td>\n",
       "      <td>5224097.6</td>\n",
       "      <td>10022</td>\n",
       "      <td>40.0</td>\n",
       "      <td>3.9</td>\n",
       "    </tr>\n",
       "    <tr>\n",
       "      <th>13</th>\n",
       "      <td>248638.0</td>\n",
       "      <td>4987043.0</td>\n",
       "      <td>10016</td>\n",
       "      <td>173.0</td>\n",
       "      <td>10.2</td>\n",
       "    </tr>\n",
       "    <tr>\n",
       "      <th>9</th>\n",
       "      <td>95796.0</td>\n",
       "      <td>3665438.7</td>\n",
       "      <td>10011</td>\n",
       "      <td>127.0</td>\n",
       "      <td>8.1</td>\n",
       "    </tr>\n",
       "    <tr>\n",
       "      <th>39</th>\n",
       "      <td>232589.9</td>\n",
       "      <td>3493533.3</td>\n",
       "      <td>10075</td>\n",
       "      <td>36.0</td>\n",
       "      <td>4.1</td>\n",
       "    </tr>\n",
       "    <tr>\n",
       "      <th>16</th>\n",
       "      <td>109778.0</td>\n",
       "      <td>2873017.5</td>\n",
       "      <td>10019</td>\n",
       "      <td>105.0</td>\n",
       "      <td>8.1</td>\n",
       "    </tr>\n",
       "  </tbody>\n",
       "</table>\n",
       "</div>"
      ],
      "text/plain": [
       "    Weather Normalized Site EUI (kBtu/ft²)  Emissions(CO2e)  Zip Code  \\\n",
       "18                                258669.2        5224097.6     10022   \n",
       "13                                248638.0        4987043.0     10016   \n",
       "9                                  95796.0        3665438.7     10011   \n",
       "39                                232589.9        3493533.3     10075   \n",
       "16                                109778.0        2873017.5     10019   \n",
       "\n",
       "    Discharges2012-2014  Discharge_Rate  \n",
       "18                 40.0             3.9  \n",
       "13                173.0            10.2  \n",
       "9                 127.0             8.1  \n",
       "39                 36.0             4.1  \n",
       "16                105.0             8.1  "
      ]
     },
     "execution_count": 280,
     "metadata": {},
     "output_type": "execute_result"
    }
   ],
   "source": [
    "MHasthmaZip.sort(columns=['Emissions(CO2e)'], axis=0, ascending=False, inplace=True)\n",
    "MHasthmaZip.head()"
   ]
  },
  {
   "cell_type": "markdown",
   "metadata": {},
   "source": [
    "## 2.2 What is the relationship between neighborhood income and residential building energy use?"
   ]
  },
  {
   "cell_type": "code",
   "execution_count": 285,
   "metadata": {
    "collapsed": true
   },
   "outputs": [],
   "source": [
    "#merging building energy and PLUTO data (merged above) with household income"
   ]
  },
  {
   "cell_type": "code",
   "execution_count": null,
   "metadata": {
    "collapsed": true
   },
   "outputs": [],
   "source": [
    "incomedata = pd.merge(merge1, "
   ]
  },
  {
   "cell_type": "code",
   "execution_count": null,
   "metadata": {
    "collapsed": false
   },
   "outputs": [],
   "source": [
    "# census data from\n",
    "# http://data.beta.nyc/dataset/median-household-income-2010-census-tracts/resource/5a7c26b5-f8b0-4a3f-87fe-56a9c2ff5692\n",
    "census = pd.read_csv('medianhouseholdincomecensustract.csv')\n",
    "print(len(census))"
   ]
  },
  {
   "cell_type": "code",
   "execution_count": 312,
   "metadata": {
    "collapsed": false
   },
   "outputs": [],
   "source": [
    "census.drop(['REtax_ACS', 'AVG_TTL', 'LOCALNAME', 'MCR_ANNUAL',\n",
    "       'MSMOC_TOT_', 'TAX_RET', 'Avg_TransC', 'REtaxperow', 'PERC_RENT', 'PERC_OWN', 'OHU_RENT', \\\n",
    "            'OHU_OWN', 'State', 'COUNTY'], axis=1, inplace=True)"
   ]
  },
  {
   "cell_type": "code",
   "execution_count": 313,
   "metadata": {
    "collapsed": false
   },
   "outputs": [
    {
     "name": "stdout",
     "output_type": "stream",
     "text": [
      "288\n"
     ]
    },
    {
     "data": {
      "text/html": [
       "<div>\n",
       "<table border=\"1\" class=\"dataframe\">\n",
       "  <thead>\n",
       "    <tr style=\"text-align: right;\">\n",
       "      <th></th>\n",
       "      <th>FID</th>\n",
       "      <th>STATEFP10</th>\n",
       "      <th>COUNTYFP10</th>\n",
       "      <th>TRACTCE10</th>\n",
       "      <th>GEOID10</th>\n",
       "      <th>INTPTLAT10</th>\n",
       "      <th>INTPTLON10</th>\n",
       "      <th>HH_COUNT</th>\n",
       "      <th>MHI</th>\n",
       "      <th>MED_VAL</th>\n",
       "      <th>HOUSINGCOS</th>\n",
       "      <th>DISP_INC</th>\n",
       "      <th>energy_cos</th>\n",
       "      <th>Shape_Area</th>\n",
       "    </tr>\n",
       "  </thead>\n",
       "  <tbody>\n",
       "    <tr>\n",
       "      <th>1699</th>\n",
       "      <td>1699</td>\n",
       "      <td>36</td>\n",
       "      <td>61</td>\n",
       "      <td>27100</td>\n",
       "      <td>36061027100</td>\n",
       "      <td>40.851939</td>\n",
       "      <td>-73.934291</td>\n",
       "      <td>2904</td>\n",
       "      <td>38125</td>\n",
       "      <td>536000</td>\n",
       "      <td>11068.7529</td>\n",
       "      <td>18670.89901</td>\n",
       "      <td>1764.860784</td>\n",
       "      <td>0.000021</td>\n",
       "    </tr>\n",
       "    <tr>\n",
       "      <th>1700</th>\n",
       "      <td>1700</td>\n",
       "      <td>36</td>\n",
       "      <td>61</td>\n",
       "      <td>12900</td>\n",
       "      <td>36061012900</td>\n",
       "      <td>40.765014</td>\n",
       "      <td>-73.999812</td>\n",
       "      <td>3354</td>\n",
       "      <td>76082</td>\n",
       "      <td>807900</td>\n",
       "      <td>21996.9303</td>\n",
       "      <td>29562.14132</td>\n",
       "      <td>1608.671016</td>\n",
       "      <td>0.000043</td>\n",
       "    </tr>\n",
       "    <tr>\n",
       "      <th>1701</th>\n",
       "      <td>1701</td>\n",
       "      <td>36</td>\n",
       "      <td>61</td>\n",
       "      <td>14401</td>\n",
       "      <td>36061014401</td>\n",
       "      <td>40.775249</td>\n",
       "      <td>-73.947552</td>\n",
       "      <td>2633</td>\n",
       "      <td>126518</td>\n",
       "      <td>668400</td>\n",
       "      <td>22181.4524</td>\n",
       "      <td>64418.82528</td>\n",
       "      <td>1718.090675</td>\n",
       "      <td>0.000008</td>\n",
       "    </tr>\n",
       "    <tr>\n",
       "      <th>1702</th>\n",
       "      <td>1702</td>\n",
       "      <td>36</td>\n",
       "      <td>61</td>\n",
       "      <td>9900</td>\n",
       "      <td>36061009900</td>\n",
       "      <td>40.752378</td>\n",
       "      <td>-74.008367</td>\n",
       "      <td>1091</td>\n",
       "      <td>122031</td>\n",
       "      <td>784700</td>\n",
       "      <td>26181.3474</td>\n",
       "      <td>58945.86916</td>\n",
       "      <td>1849.560190</td>\n",
       "      <td>0.000110</td>\n",
       "    </tr>\n",
       "    <tr>\n",
       "      <th>1703</th>\n",
       "      <td>1703</td>\n",
       "      <td>36</td>\n",
       "      <td>61</td>\n",
       "      <td>14601</td>\n",
       "      <td>36061014601</td>\n",
       "      <td>40.777192</td>\n",
       "      <td>-73.952161</td>\n",
       "      <td>2600</td>\n",
       "      <td>89846</td>\n",
       "      <td>713200</td>\n",
       "      <td>21611.7774</td>\n",
       "      <td>39691.01194</td>\n",
       "      <td>1415.971016</td>\n",
       "      <td>0.000008</td>\n",
       "    </tr>\n",
       "  </tbody>\n",
       "</table>\n",
       "</div>"
      ],
      "text/plain": [
       "       FID  STATEFP10 COUNTYFP10  TRACTCE10      GEOID10  INTPTLAT10  \\\n",
       "1699  1699         36         61      27100  36061027100   40.851939   \n",
       "1700  1700         36         61      12900  36061012900   40.765014   \n",
       "1701  1701         36         61      14401  36061014401   40.775249   \n",
       "1702  1702         36         61       9900  36061009900   40.752378   \n",
       "1703  1703         36         61      14601  36061014601   40.777192   \n",
       "\n",
       "      INTPTLON10  HH_COUNT     MHI  MED_VAL  HOUSINGCOS     DISP_INC  \\\n",
       "1699  -73.934291      2904   38125   536000  11068.7529  18670.89901   \n",
       "1700  -73.999812      3354   76082   807900  21996.9303  29562.14132   \n",
       "1701  -73.947552      2633  126518   668400  22181.4524  64418.82528   \n",
       "1702  -74.008367      1091  122031   784700  26181.3474  58945.86916   \n",
       "1703  -73.952161      2600   89846   713200  21611.7774  39691.01194   \n",
       "\n",
       "       energy_cos  Shape_Area  \n",
       "1699  1764.860784    0.000021  \n",
       "1700  1608.671016    0.000043  \n",
       "1701  1718.090675    0.000008  \n",
       "1702  1849.560190    0.000110  \n",
       "1703  1415.971016    0.000008  "
      ]
     },
     "execution_count": 313,
     "metadata": {},
     "output_type": "execute_result"
    }
   ],
   "source": [
    "#census = census[((census['COUNTYFP10'] == '05') & (census['COUNTYFP10'] == '47') & \\\n",
    " #                (census['COUNTYFP10'] == '61') & (census['COUNTYFP10'] == '81') & \\\n",
    "                 #(census['COUNTYFP10'] == '85'))]\n",
    "census['COUNTYFP10'] = census['COUNTYFP10'].astype(str)\n",
    "#census = census[census[\"COUNTYFP10\"].str.contains('05', '47', '61', '81', '85')==True]\n",
    "MHcensus = census[census['COUNTYFP10'] == '61']\n",
    "print(len(MHcensus))\n",
    "MHcensus.head()"
   ]
  },
  {
   "cell_type": "markdown",
   "metadata": {},
   "source": [
    "005 - Bronx\n",
    "047 - Kings (Brooklyn)\n",
    "061 - New York (Manhattan)\n",
    "081 - Queens\n",
    "085 - Richmond (Staten Island)"
   ]
  },
  {
   "cell_type": "code",
   "execution_count": null,
   "metadata": {
    "collapsed": true
   },
   "outputs": [],
   "source": []
  }
 ],
 "metadata": {
  "kernelspec": {
   "display_name": "PUI2016_Python3",
   "language": "python",
   "name": "pui2016_python3"
  },
  "language_info": {
   "codemirror_mode": {
    "name": "ipython",
    "version": 3
   },
   "file_extension": ".py",
   "mimetype": "text/x-python",
   "name": "python",
   "nbconvert_exporter": "python",
   "pygments_lexer": "ipython3",
   "version": "3.5.2"
  }
 },
 "nbformat": 4,
 "nbformat_minor": 0
}
