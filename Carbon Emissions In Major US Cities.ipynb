{
 "cells": [
  {
   "cell_type": "markdown",
   "metadata": {},
   "source": [
    "# Carbon Emissions in Major US Cities\n",
    "## by Adrian Dahlin"
   ]
  },
  {
   "cell_type": "markdown",
   "metadata": {},
   "source": [
    "## Packages"
   ]
  },
  {
   "cell_type": "code",
   "execution_count": 2,
   "metadata": {
    "collapsed": true
   },
   "outputs": [],
   "source": [
    "import pandas as pd"
   ]
  },
  {
   "cell_type": "markdown",
   "metadata": {},
   "source": [
    "# 1) Literature Review"
   ]
  },
  {
   "cell_type": "markdown",
   "metadata": {},
   "source": [
    "A couple years ago I read the book \"Green Metropolis\" by David Owen. It lays out a pretty detailed case for why efficiences in buildings, transportation, etc make cities more sustainable than other forms of development. He argues that Manhattan is the most sustainable place in the world."
   ]
  },
  {
   "cell_type": "markdown",
   "metadata": {},
   "source": [
    "# 2) Gathering and Cleaning Data"
   ]
  },
  {
   "cell_type": "markdown",
   "metadata": {},
   "source": [
    "## 2.A Urban population and population density from the U.S. Census for all cities/metro areas with populations greater than 100,000. Please note that the definition of a “city” is up to you: you may use MSAs, your own selected agglomerations of urban Counties, Primary MSAs, etc. You should justify your selection. You should use data from the 2000 decennial census to match the carbon data below."
   ]
  },
  {
   "cell_type": "markdown",
   "metadata": {},
   "source": [
    "Rationale for using MSAs: cities exist as part of a metropolitan region. To look at only the largest municipalities would be to discount the effect cities have on their suburbs. The structure of a city–including its transportation system, land use choices, geography, economy, and policies–influences the development of suburbs and therefore, the carbon footprint of those suburbs. A city could have low carbon emissions but if a high number of workers commute in by car from the suburbs, the region overall might have a higher climate impact."
   ]
  },
  {
   "cell_type": "markdown",
   "metadata": {},
   "source": [
    "First, getting the MSA data with population numbers."
   ]
  },
  {
   "cell_type": "code",
   "execution_count": 98,
   "metadata": {
    "collapsed": false
   },
   "outputs": [
    {
     "name": "stdout",
     "output_type": "stream",
     "text": [
      "  % Total    % Received % Xferd  Average Speed   Time    Time     Time  Current\n",
      "                                 Dload  Upload   Total   Spent    Left  Speed\n",
      "100 90003  100 90003    0     0   414k      0 --:--:-- --:--:-- --:--:--  455k\n",
      "974\n"
     ]
    },
    {
     "data": {
      "text/html": [
       "<div>\n",
       "<table border=\"1\" class=\"dataframe\">\n",
       "  <thead>\n",
       "    <tr style=\"text-align: right;\">\n",
       "      <th></th>\n",
       "      <th>Metro/\r",
       "Micro Area\r",
       "Code</th>\n",
       "      <th>Metro\r",
       "Div.\r",
       "Code</th>\n",
       "      <th>2000\r",
       "Pop. \r",
       "Rank</th>\n",
       "      <th>Metropolitan Statistical Area\r",
       "Metropolitan Division\r",
       "Micropolitan Statistical Area</th>\n",
       "      <th>Legal/Statistical\r",
       "Area Description</th>\n",
       "      <th>2000 Population</th>\n",
       "      <th>1990 Population</th>\n",
       "      <th># Change 1990 to 2000 Percent</th>\n",
       "      <th>% Change 1990 to 2000 Percent</th>\n",
       "    </tr>\n",
       "  </thead>\n",
       "  <tbody>\n",
       "    <tr>\n",
       "      <th>0</th>\n",
       "      <td>35620</td>\n",
       "      <td>NaN</td>\n",
       "      <td>1</td>\n",
       "      <td>New York-Northern New Jersey-Long Island, NY-N...</td>\n",
       "      <td>Metropolitan Statistical Area</td>\n",
       "      <td>18,323,002</td>\n",
       "      <td>16,846,046</td>\n",
       "      <td>1,476,956</td>\n",
       "      <td>8.8</td>\n",
       "    </tr>\n",
       "    <tr>\n",
       "      <th>1</th>\n",
       "      <td>35620</td>\n",
       "      <td>20764.0</td>\n",
       "      <td>(x)</td>\n",
       "      <td>.Edison, NJ</td>\n",
       "      <td>Metropolitan Division</td>\n",
       "      <td>2,173,869</td>\n",
       "      <td>1,898,386</td>\n",
       "      <td>275,483</td>\n",
       "      <td>14.5</td>\n",
       "    </tr>\n",
       "    <tr>\n",
       "      <th>2</th>\n",
       "      <td>35620</td>\n",
       "      <td>35004.0</td>\n",
       "      <td>(x)</td>\n",
       "      <td>.Nassau-Suffolk, NY3/</td>\n",
       "      <td>Metropolitan Division</td>\n",
       "      <td>2,753,913</td>\n",
       "      <td>2,609,212</td>\n",
       "      <td>144,701</td>\n",
       "      <td>5.5</td>\n",
       "    </tr>\n",
       "  </tbody>\n",
       "</table>\n",
       "</div>"
      ],
      "text/plain": [
       "  Metro/\\rMicro Area\\rCode  Metro\\rDiv.\\rCode 2000\\rPop. \\rRank  \\\n",
       "0                    35620                NaN                 1   \n",
       "1                    35620            20764.0               (x)   \n",
       "2                    35620            35004.0               (x)   \n",
       "\n",
       "  Metropolitan Statistical Area\\rMetropolitan Division\\rMicropolitan Statistical Area  \\\n",
       "0  New York-Northern New Jersey-Long Island, NY-N...                                    \n",
       "1                                        .Edison, NJ                                    \n",
       "2                              .Nassau-Suffolk, NY3/                                    \n",
       "\n",
       "  Legal/Statistical\\rArea Description 2000 Population 1990 Population  \\\n",
       "0       Metropolitan Statistical Area      18,323,002      16,846,046   \n",
       "1               Metropolitan Division       2,173,869       1,898,386   \n",
       "2               Metropolitan Division       2,753,913       2,609,212   \n",
       "\n",
       "  # Change 1990 to 2000 Percent  % Change 1990 to 2000 Percent  \n",
       "0                     1,476,956                            8.8  \n",
       "1                       275,483                           14.5  \n",
       "2                       144,701                            5.5  "
      ]
     },
     "execution_count": 98,
     "metadata": {},
     "output_type": "execute_result"
    }
   ],
   "source": [
    "!curl -O \"https://www.census.gov/population/www/cen2000/briefs/phc-t29/tables/tab03a.csv\"\n",
    "# did some munging in Excel and renamed to \"MSA data.csv\"\n",
    "census1 = pd.read_csv(\"MSA data.csv\")\n",
    "print(len(census1))\n",
    "census1.head(3)"
   ]
  },
  {
   "cell_type": "code",
   "execution_count": 10,
   "metadata": {
    "collapsed": false
   },
   "outputs": [
    {
     "data": {
      "text/plain": [
       "Index([u'Metro/\\rMicro Area\\rCode', u'Metro\\rDiv.\\rCode', u'2000\\rPop. \\rRank',\n",
       "       u'Metropolitan Statistical Area\\rMetropolitan Division\\rMicropolitan Statistical Area',\n",
       "       u'Legal/Statistical\\rArea Description', u'2000 Population',\n",
       "       u'1990 Population', u'# Change 1990 to 2000 Percent',\n",
       "       u'% Change 1990 to 2000 Percent'],\n",
       "      dtype='object')"
      ]
     },
     "execution_count": 10,
     "metadata": {},
     "output_type": "execute_result"
    }
   ],
   "source": [
    "census1.columns"
   ]
  },
  {
   "cell_type": "markdown",
   "metadata": {},
   "source": [
    "Selecting only MSAs of at least population 100,000"
   ]
  },
  {
   "cell_type": "code",
   "execution_count": 24,
   "metadata": {
    "collapsed": false
   },
   "outputs": [
    {
     "name": "stdout",
     "output_type": "stream",
     "text": [
      "370\n"
     ]
    },
    {
     "data": {
      "text/html": [
       "<div>\n",
       "<table border=\"1\" class=\"dataframe\">\n",
       "  <thead>\n",
       "    <tr style=\"text-align: right;\">\n",
       "      <th></th>\n",
       "      <th>Metro/\r",
       "Micro Area\r",
       "Code</th>\n",
       "      <th>Metro\r",
       "Div.\r",
       "Code</th>\n",
       "      <th>2000\r",
       "Pop. \r",
       "Rank</th>\n",
       "      <th>Metropolitan Statistical Area\r",
       "Metropolitan Division\r",
       "Micropolitan Statistical Area</th>\n",
       "      <th>Legal/Statistical\r",
       "Area Description</th>\n",
       "      <th>2000 Population</th>\n",
       "      <th>1990 Population</th>\n",
       "      <th># Change 1990 to 2000 Percent</th>\n",
       "      <th>% Change 1990 to 2000 Percent</th>\n",
       "    </tr>\n",
       "  </thead>\n",
       "  <tbody>\n",
       "    <tr>\n",
       "      <th>0</th>\n",
       "      <td>35620</td>\n",
       "      <td>NaN</td>\n",
       "      <td>1</td>\n",
       "      <td>New York-Northern New Jersey-Long Island, NY-N...</td>\n",
       "      <td>Metropolitan Statistical Area</td>\n",
       "      <td>18,323,002</td>\n",
       "      <td>16,846,046</td>\n",
       "      <td>1,476,956</td>\n",
       "      <td>8.8</td>\n",
       "    </tr>\n",
       "    <tr>\n",
       "      <th>5</th>\n",
       "      <td>31100</td>\n",
       "      <td>NaN</td>\n",
       "      <td>2</td>\n",
       "      <td>Los Angeles-Long Beach-Santa Ana, CA</td>\n",
       "      <td>Metropolitan Statistical Area</td>\n",
       "      <td>12,365,627</td>\n",
       "      <td>11,273,720</td>\n",
       "      <td>1,091,907</td>\n",
       "      <td>9.7</td>\n",
       "    </tr>\n",
       "    <tr>\n",
       "      <th>8</th>\n",
       "      <td>16980</td>\n",
       "      <td>NaN</td>\n",
       "      <td>3</td>\n",
       "      <td>Chicago-Naperville-Joliet, IL-IN-WI</td>\n",
       "      <td>Metropolitan Statistical Area</td>\n",
       "      <td>9,098,316</td>\n",
       "      <td>8,182,076</td>\n",
       "      <td>916,240</td>\n",
       "      <td>11.2</td>\n",
       "    </tr>\n",
       "  </tbody>\n",
       "</table>\n",
       "</div>"
      ],
      "text/plain": [
       "  Metro/\\rMicro Area\\rCode  Metro\\rDiv.\\rCode 2000\\rPop. \\rRank  \\\n",
       "0                    35620                NaN                 1   \n",
       "5                    31100                NaN                 2   \n",
       "8                    16980                NaN                 3   \n",
       "\n",
       "  Metropolitan Statistical Area\\rMetropolitan Division\\rMicropolitan Statistical Area  \\\n",
       "0  New York-Northern New Jersey-Long Island, NY-N...                                    \n",
       "5               Los Angeles-Long Beach-Santa Ana, CA                                    \n",
       "8                Chicago-Naperville-Joliet, IL-IN-WI                                    \n",
       "\n",
       "  Legal/Statistical\\rArea Description 2000 Population 1990 Population  \\\n",
       "0       Metropolitan Statistical Area      18,323,002      16,846,046   \n",
       "5       Metropolitan Statistical Area      12,365,627      11,273,720   \n",
       "8       Metropolitan Statistical Area       9,098,316       8,182,076   \n",
       "\n",
       "  # Change 1990 to 2000 Percent  % Change 1990 to 2000 Percent  \n",
       "0                     1,476,956                            8.8  \n",
       "5                     1,091,907                            9.7  \n",
       "8                       916,240                           11.2  "
      ]
     },
     "execution_count": 24,
     "metadata": {},
     "output_type": "execute_result"
    }
   ],
   "source": [
    "census2 = census1[census1[\"Legal/Statistical\\rArea Description\"] == \"Metropolitan Statistical Area\"]\n",
    "print(len(census2))\n",
    "census2.head(3)"
   ]
  },
  {
   "cell_type": "code",
   "execution_count": 25,
   "metadata": {
    "collapsed": false
   },
   "outputs": [
    {
     "data": {
      "text/plain": [
       "dtype('O')"
      ]
     },
     "execution_count": 25,
     "metadata": {},
     "output_type": "execute_result"
    }
   ],
   "source": [
    "census2['2000 Population'].dtype"
   ]
  },
  {
   "cell_type": "code",
   "execution_count": 42,
   "metadata": {
    "collapsed": false
   },
   "outputs": [
    {
     "name": "stdout",
     "output_type": "stream",
     "text": [
      "340\n",
      "50\n"
     ]
    },
    {
     "name": "stderr",
     "output_type": "stream",
     "text": [
      "/Users/adriandahlin/anaconda/lib/python2.7/site-packages/ipykernel/__main__.py:2: SettingWithCopyWarning: \n",
      "A value is trying to be set on a copy of a slice from a DataFrame.\n",
      "Try using .loc[row_indexer,col_indexer] = value instead\n",
      "\n",
      "See the caveats in the documentation: http://pandas.pydata.org/pandas-docs/stable/indexing.html#indexing-view-versus-copy\n",
      "  from ipykernel import kernelapp as app\n"
     ]
    },
    {
     "data": {
      "text/html": [
       "<div>\n",
       "<table border=\"1\" class=\"dataframe\">\n",
       "  <thead>\n",
       "    <tr style=\"text-align: right;\">\n",
       "      <th></th>\n",
       "      <th>Metro/\r",
       "Micro Area\r",
       "Code</th>\n",
       "      <th>Metro\r",
       "Div.\r",
       "Code</th>\n",
       "      <th>2000\r",
       "Pop. \r",
       "Rank</th>\n",
       "      <th>Metropolitan Statistical Area\r",
       "Metropolitan Division\r",
       "Micropolitan Statistical Area</th>\n",
       "      <th>Legal/Statistical\r",
       "Area Description</th>\n",
       "      <th>2000 Population</th>\n",
       "      <th>1990 Population</th>\n",
       "      <th># Change 1990 to 2000 Percent</th>\n",
       "      <th>% Change 1990 to 2000 Percent</th>\n",
       "    </tr>\n",
       "  </thead>\n",
       "  <tbody>\n",
       "    <tr>\n",
       "      <th>0</th>\n",
       "      <td>35620</td>\n",
       "      <td>NaN</td>\n",
       "      <td>1</td>\n",
       "      <td>New York-Northern New Jersey-Long Island, NY-N...</td>\n",
       "      <td>Metropolitan Statistical Area</td>\n",
       "      <td>18323002</td>\n",
       "      <td>16,846,046</td>\n",
       "      <td>1,476,956</td>\n",
       "      <td>8.8</td>\n",
       "    </tr>\n",
       "    <tr>\n",
       "      <th>5</th>\n",
       "      <td>31100</td>\n",
       "      <td>NaN</td>\n",
       "      <td>2</td>\n",
       "      <td>Los Angeles-Long Beach-Santa Ana, CA</td>\n",
       "      <td>Metropolitan Statistical Area</td>\n",
       "      <td>12365627</td>\n",
       "      <td>11,273,720</td>\n",
       "      <td>1,091,907</td>\n",
       "      <td>9.7</td>\n",
       "    </tr>\n",
       "    <tr>\n",
       "      <th>8</th>\n",
       "      <td>16980</td>\n",
       "      <td>NaN</td>\n",
       "      <td>3</td>\n",
       "      <td>Chicago-Naperville-Joliet, IL-IN-WI</td>\n",
       "      <td>Metropolitan Statistical Area</td>\n",
       "      <td>9098316</td>\n",
       "      <td>8,182,076</td>\n",
       "      <td>916,240</td>\n",
       "      <td>11.2</td>\n",
       "    </tr>\n",
       "  </tbody>\n",
       "</table>\n",
       "</div>"
      ],
      "text/plain": [
       "  Metro/\\rMicro Area\\rCode  Metro\\rDiv.\\rCode 2000\\rPop. \\rRank  \\\n",
       "0                    35620                NaN                 1   \n",
       "5                    31100                NaN                 2   \n",
       "8                    16980                NaN                 3   \n",
       "\n",
       "  Metropolitan Statistical Area\\rMetropolitan Division\\rMicropolitan Statistical Area  \\\n",
       "0  New York-Northern New Jersey-Long Island, NY-N...                                    \n",
       "5               Los Angeles-Long Beach-Santa Ana, CA                                    \n",
       "8                Chicago-Naperville-Joliet, IL-IN-WI                                    \n",
       "\n",
       "  Legal/Statistical\\rArea Description  2000 Population 1990 Population  \\\n",
       "0       Metropolitan Statistical Area         18323002      16,846,046   \n",
       "5       Metropolitan Statistical Area         12365627      11,273,720   \n",
       "8       Metropolitan Statistical Area          9098316       8,182,076   \n",
       "\n",
       "  # Change 1990 to 2000 Percent  % Change 1990 to 2000 Percent  \n",
       "0                     1,476,956                            8.8  \n",
       "5                     1,091,907                            9.7  \n",
       "8                       916,240                           11.2  "
      ]
     },
     "execution_count": 42,
     "metadata": {},
     "output_type": "execute_result"
    }
   ],
   "source": [
    "census2['2000 Population'].replace(regex=True, inplace=True, to_replace=r',', value=r'')\n",
    "census2['2000 Population'] = census2['2000 Population'].astype(int)\n",
    "\n",
    "census3 = census2[census2[\"2000 Population\"] >= 100000]\n",
    "print(len(census3))\n",
    "# and out of curiosity, counting how many MSAs have over 1,000,000 people\n",
    "censusMil = census2[census2[\"2000 Population\"] >= 1000000]\n",
    "print(len(censusMil))\n",
    "census3.head(3)"
   ]
  },
  {
   "cell_type": "markdown",
   "metadata": {},
   "source": [
    "Now getting the MSA data including all the counties encompassed in each."
   ]
  },
  {
   "cell_type": "code",
   "execution_count": 53,
   "metadata": {
    "collapsed": false
   },
   "outputs": [
    {
     "name": "stdout",
     "output_type": "stream",
     "text": [
      "1885\n"
     ]
    },
    {
     "data": {
      "text/html": [
       "<div>\n",
       "<table border=\"1\" class=\"dataframe\">\n",
       "  <thead>\n",
       "    <tr style=\"text-align: right;\">\n",
       "      <th></th>\n",
       "      <th>﻿CBSA Code</th>\n",
       "      <th>Metro Division Code</th>\n",
       "      <th>CSA Code</th>\n",
       "      <th>CBSA Title</th>\n",
       "      <th>Metropolitan/Micropolitan Statistical Area</th>\n",
       "      <th>Metropolitan Division Title</th>\n",
       "      <th>CSA Title</th>\n",
       "      <th>County/County Equivalent</th>\n",
       "      <th>State Name</th>\n",
       "      <th>FIPS State Code</th>\n",
       "      <th>FIPS County Code</th>\n",
       "      <th>Central/Outlying County</th>\n",
       "    </tr>\n",
       "  </thead>\n",
       "  <tbody>\n",
       "    <tr>\n",
       "      <th>0</th>\n",
       "      <td>10100</td>\n",
       "      <td>NaN</td>\n",
       "      <td>NaN</td>\n",
       "      <td>Aberdeen, SD</td>\n",
       "      <td>Micropolitan Statistical Area</td>\n",
       "      <td>NaN</td>\n",
       "      <td>NaN</td>\n",
       "      <td>Brown County</td>\n",
       "      <td>South Dakota</td>\n",
       "      <td>46.0</td>\n",
       "      <td>13.0</td>\n",
       "      <td>Central</td>\n",
       "    </tr>\n",
       "    <tr>\n",
       "      <th>1</th>\n",
       "      <td>10100</td>\n",
       "      <td>NaN</td>\n",
       "      <td>NaN</td>\n",
       "      <td>Aberdeen, SD</td>\n",
       "      <td>Micropolitan Statistical Area</td>\n",
       "      <td>NaN</td>\n",
       "      <td>NaN</td>\n",
       "      <td>Edmunds County</td>\n",
       "      <td>South Dakota</td>\n",
       "      <td>46.0</td>\n",
       "      <td>45.0</td>\n",
       "      <td>Outlying</td>\n",
       "    </tr>\n",
       "    <tr>\n",
       "      <th>2</th>\n",
       "      <td>10140</td>\n",
       "      <td>NaN</td>\n",
       "      <td>NaN</td>\n",
       "      <td>Aberdeen, WA</td>\n",
       "      <td>Micropolitan Statistical Area</td>\n",
       "      <td>NaN</td>\n",
       "      <td>NaN</td>\n",
       "      <td>Grays Harbor County</td>\n",
       "      <td>Washington</td>\n",
       "      <td>53.0</td>\n",
       "      <td>27.0</td>\n",
       "      <td>Central</td>\n",
       "    </tr>\n",
       "    <tr>\n",
       "      <th>3</th>\n",
       "      <td>10180</td>\n",
       "      <td>NaN</td>\n",
       "      <td>NaN</td>\n",
       "      <td>Abilene, TX</td>\n",
       "      <td>Metropolitan Statistical Area</td>\n",
       "      <td>NaN</td>\n",
       "      <td>NaN</td>\n",
       "      <td>Callahan County</td>\n",
       "      <td>Texas</td>\n",
       "      <td>48.0</td>\n",
       "      <td>59.0</td>\n",
       "      <td>Outlying</td>\n",
       "    </tr>\n",
       "    <tr>\n",
       "      <th>4</th>\n",
       "      <td>10180</td>\n",
       "      <td>NaN</td>\n",
       "      <td>NaN</td>\n",
       "      <td>Abilene, TX</td>\n",
       "      <td>Metropolitan Statistical Area</td>\n",
       "      <td>NaN</td>\n",
       "      <td>NaN</td>\n",
       "      <td>Jones County</td>\n",
       "      <td>Texas</td>\n",
       "      <td>48.0</td>\n",
       "      <td>253.0</td>\n",
       "      <td>Outlying</td>\n",
       "    </tr>\n",
       "  </tbody>\n",
       "</table>\n",
       "</div>"
      ],
      "text/plain": [
       "  ﻿CBSA Code  Metro Division Code  CSA Code    CBSA Title  \\\n",
       "0      10100                  NaN       NaN  Aberdeen, SD   \n",
       "1      10100                  NaN       NaN  Aberdeen, SD   \n",
       "2      10140                  NaN       NaN  Aberdeen, WA   \n",
       "3      10180                  NaN       NaN   Abilene, TX   \n",
       "4      10180                  NaN       NaN   Abilene, TX   \n",
       "\n",
       "  Metropolitan/Micropolitan Statistical Area Metropolitan Division Title  \\\n",
       "0              Micropolitan Statistical Area                         NaN   \n",
       "1              Micropolitan Statistical Area                         NaN   \n",
       "2              Micropolitan Statistical Area                         NaN   \n",
       "3              Metropolitan Statistical Area                         NaN   \n",
       "4              Metropolitan Statistical Area                         NaN   \n",
       "\n",
       "  CSA Title County/County Equivalent    State Name  FIPS State Code  \\\n",
       "0       NaN             Brown County  South Dakota             46.0   \n",
       "1       NaN           Edmunds County  South Dakota             46.0   \n",
       "2       NaN      Grays Harbor County    Washington             53.0   \n",
       "3       NaN          Callahan County         Texas             48.0   \n",
       "4       NaN             Jones County         Texas             48.0   \n",
       "\n",
       "   FIPS County Code Central/Outlying County  \n",
       "0              13.0                 Central  \n",
       "1              45.0                Outlying  \n",
       "2              27.0                 Central  \n",
       "3              59.0                Outlying  \n",
       "4             253.0                Outlying  "
      ]
     },
     "execution_count": 53,
     "metadata": {},
     "output_type": "execute_result"
    }
   ],
   "source": [
    "# download from https://www.dol.gov/owcp/regs/feeschedule/fee/fs04ctst.xls\n",
    "# brief munging in Excel\n",
    "MSAcounties = pd.read_csv('MSAs with counties.csv')\n",
    "print(len(MSAcounties))\n",
    "MSAcounties.head()"
   ]
  },
  {
   "cell_type": "code",
   "execution_count": 104,
   "metadata": {
    "collapsed": false
   },
   "outputs": [
    {
     "name": "stdout",
     "output_type": "stream",
     "text": [
      "Index([u'﻿CBSA Code', u'Metro Division Code', u'CSA Code', u'CBSA Title',\n",
      "       u'Metropolitan/Micropolitan Statistical Area',\n",
      "       u'Metropolitan Division Title', u'CSA Title', u'County', u'State Name',\n",
      "       u'FIPS State Code', u'FIPS County Code', u'Central/Outlying County'],\n",
      "      dtype='object')\n"
     ]
    },
    {
     "data": {
      "text/html": [
       "<div>\n",
       "<table border=\"1\" class=\"dataframe\">\n",
       "  <thead>\n",
       "    <tr style=\"text-align: right;\">\n",
       "      <th></th>\n",
       "      <th>﻿CBSA Code</th>\n",
       "      <th>Metro Division Code</th>\n",
       "      <th>CSA Code</th>\n",
       "      <th>CBSA Title</th>\n",
       "      <th>Metropolitan/Micropolitan Statistical Area</th>\n",
       "      <th>Metropolitan Division Title</th>\n",
       "      <th>CSA Title</th>\n",
       "      <th>County</th>\n",
       "      <th>State Name</th>\n",
       "      <th>FIPS State Code</th>\n",
       "      <th>FIPS County Code</th>\n",
       "      <th>Central/Outlying County</th>\n",
       "    </tr>\n",
       "  </thead>\n",
       "  <tbody>\n",
       "    <tr>\n",
       "      <th>3</th>\n",
       "      <td>10180</td>\n",
       "      <td>NaN</td>\n",
       "      <td>NaN</td>\n",
       "      <td>Abilene, TX</td>\n",
       "      <td>Metropolitan Statistical Area</td>\n",
       "      <td>NaN</td>\n",
       "      <td>NaN</td>\n",
       "      <td>Callahan County</td>\n",
       "      <td>Texas</td>\n",
       "      <td>48.0</td>\n",
       "      <td>59.0</td>\n",
       "      <td>Outlying</td>\n",
       "    </tr>\n",
       "    <tr>\n",
       "      <th>4</th>\n",
       "      <td>10180</td>\n",
       "      <td>NaN</td>\n",
       "      <td>NaN</td>\n",
       "      <td>Abilene, TX</td>\n",
       "      <td>Metropolitan Statistical Area</td>\n",
       "      <td>NaN</td>\n",
       "      <td>NaN</td>\n",
       "      <td>Jones County</td>\n",
       "      <td>Texas</td>\n",
       "      <td>48.0</td>\n",
       "      <td>253.0</td>\n",
       "      <td>Outlying</td>\n",
       "    </tr>\n",
       "    <tr>\n",
       "      <th>5</th>\n",
       "      <td>10180</td>\n",
       "      <td>NaN</td>\n",
       "      <td>NaN</td>\n",
       "      <td>Abilene, TX</td>\n",
       "      <td>Metropolitan Statistical Area</td>\n",
       "      <td>NaN</td>\n",
       "      <td>NaN</td>\n",
       "      <td>Taylor County</td>\n",
       "      <td>Texas</td>\n",
       "      <td>48.0</td>\n",
       "      <td>441.0</td>\n",
       "      <td>Central</td>\n",
       "    </tr>\n",
       "  </tbody>\n",
       "</table>\n",
       "</div>"
      ],
      "text/plain": [
       "  ﻿CBSA Code  Metro Division Code  CSA Code   CBSA Title  \\\n",
       "3      10180                  NaN       NaN  Abilene, TX   \n",
       "4      10180                  NaN       NaN  Abilene, TX   \n",
       "5      10180                  NaN       NaN  Abilene, TX   \n",
       "\n",
       "  Metropolitan/Micropolitan Statistical Area Metropolitan Division Title  \\\n",
       "3              Metropolitan Statistical Area                         NaN   \n",
       "4              Metropolitan Statistical Area                         NaN   \n",
       "5              Metropolitan Statistical Area                         NaN   \n",
       "\n",
       "  CSA Title           County State Name  FIPS State Code  FIPS County Code  \\\n",
       "3       NaN  Callahan County      Texas             48.0              59.0   \n",
       "4       NaN     Jones County      Texas             48.0             253.0   \n",
       "5       NaN    Taylor County      Texas             48.0             441.0   \n",
       "\n",
       "  Central/Outlying County  \n",
       "3                Outlying  \n",
       "4                Outlying  \n",
       "5                 Central  "
      ]
     },
     "execution_count": 104,
     "metadata": {},
     "output_type": "execute_result"
    }
   ],
   "source": [
    "MSA1 = MSAcounties[MSAcounties['Metropolitan/Micropolitan Statistical Area'] == \"Metropolitan Statistical Area\"]\n",
    "MSA1.rename(columns={'County/County Equivalent': 'County'}, inplace=True)\n",
    "print(MSA1.columns)\n",
    "MSA1.head(3)"
   ]
  },
  {
   "cell_type": "code",
   "execution_count": 105,
   "metadata": {
    "collapsed": false
   },
   "outputs": [
    {
     "name": "stdout",
     "output_type": "stream",
     "text": [
      "float64\n"
     ]
    },
    {
     "name": "stderr",
     "output_type": "stream",
     "text": [
      "/Users/adriandahlin/anaconda/lib/python2.7/site-packages/ipykernel/__main__.py:3: SettingWithCopyWarning: \n",
      "A value is trying to be set on a copy of a slice from a DataFrame\n",
      "\n",
      "See the caveats in the documentation: http://pandas.pydata.org/pandas-docs/stable/indexing.html#indexing-view-versus-copy\n",
      "  app.launch_new_instance()\n"
     ]
    },
    {
     "data": {
      "text/html": [
       "<div>\n",
       "<table border=\"1\" class=\"dataframe\">\n",
       "  <thead>\n",
       "    <tr style=\"text-align: right;\">\n",
       "      <th></th>\n",
       "      <th>﻿CBSA Code</th>\n",
       "      <th>CBSA Title</th>\n",
       "      <th>State Name</th>\n",
       "      <th>FIPS County Code</th>\n",
       "    </tr>\n",
       "  </thead>\n",
       "  <tbody>\n",
       "    <tr>\n",
       "      <th>3</th>\n",
       "      <td>10180</td>\n",
       "      <td>Abilene, TX</td>\n",
       "      <td>Texas</td>\n",
       "      <td>59.0</td>\n",
       "    </tr>\n",
       "    <tr>\n",
       "      <th>4</th>\n",
       "      <td>10180</td>\n",
       "      <td>Abilene, TX</td>\n",
       "      <td>Texas</td>\n",
       "      <td>253.0</td>\n",
       "    </tr>\n",
       "    <tr>\n",
       "      <th>5</th>\n",
       "      <td>10180</td>\n",
       "      <td>Abilene, TX</td>\n",
       "      <td>Texas</td>\n",
       "      <td>441.0</td>\n",
       "    </tr>\n",
       "  </tbody>\n",
       "</table>\n",
       "</div>"
      ],
      "text/plain": [
       "  ﻿CBSA Code   CBSA Title State Name  FIPS County Code\n",
       "3      10180  Abilene, TX      Texas              59.0\n",
       "4      10180  Abilene, TX      Texas             253.0\n",
       "5      10180  Abilene, TX      Texas             441.0"
      ]
     },
     "execution_count": 105,
     "metadata": {},
     "output_type": "execute_result"
    }
   ],
   "source": [
    "MSA1.drop(['Metro Division Code', 'CSA Code', 'Metropolitan Division Title',\n",
    "           'CSA Title', 'County', 'Central/Outlying County', 'FIPS State Code',\n",
    "           'Metropolitan/Micropolitan Statistical Area'], axis=1, inplace=True)\n",
    "print(MSA1['FIPS County Code'].dtype)\n",
    "MSA1.head(3)"
   ]
  },
  {
   "cell_type": "markdown",
   "metadata": {},
   "source": [
    "## 2.B Per capita carbon emissions from the ASU Vulcan Project (http://vulcan.project.asu.edu/). This dataset provides County-level carbon emissions from multiple sectors. You should download annual data for 2002 and “total” from the “sectors” option. You will need to normalize total emissions by County population. You will also need to aggregate multiple Counties to geographically align to your Census data for each city."
   ]
  },
  {
   "cell_type": "markdown",
   "metadata": {},
   "source": [
    "Potential problem:\n",
    "The two sheets in the file show different quantities in the Total columns. Those in the \"per capita\" sheet are about an order of magnitude higher."
   ]
  },
  {
   "cell_type": "code",
   "execution_count": 61,
   "metadata": {
    "collapsed": false
   },
   "outputs": [
    {
     "data": {
      "text/html": [
       "<div>\n",
       "<table border=\"1\" class=\"dataframe\">\n",
       "  <thead>\n",
       "    <tr style=\"text-align: right;\">\n",
       "      <th></th>\n",
       "      <th>﻿State</th>\n",
       "      <th>County</th>\n",
       "      <th>FIPS</th>\n",
       "      <th>Total</th>\n",
       "      <th>Unnamed: 4</th>\n",
       "      <th>Commercial</th>\n",
       "      <th>Industrial</th>\n",
       "      <th>Residential</th>\n",
       "      <th>Electricity Prod</th>\n",
       "      <th>Onroad</th>\n",
       "      <th>Cement</th>\n",
       "      <th>Aircraft</th>\n",
       "      <th>Airborne</th>\n",
       "      <th>Nonroad</th>\n",
       "      <th>Pop 2000</th>\n",
       "    </tr>\n",
       "  </thead>\n",
       "  <tbody>\n",
       "    <tr>\n",
       "      <th>0</th>\n",
       "      <td>AL</td>\n",
       "      <td>Autauga</td>\n",
       "      <td>1001.0</td>\n",
       "      <td>0.256167</td>\n",
       "      <td>NaN</td>\n",
       "      <td>0.003001</td>\n",
       "      <td>0.004434</td>\n",
       "      <td>0.010148</td>\n",
       "      <td>0.155508</td>\n",
       "      <td>0.074761</td>\n",
       "      <td>0.0</td>\n",
       "      <td>0.000976</td>\n",
       "      <td>0.002453</td>\n",
       "      <td>0.004886</td>\n",
       "      <td>43671.0</td>\n",
       "    </tr>\n",
       "    <tr>\n",
       "      <th>1</th>\n",
       "      <td>AL</td>\n",
       "      <td>Baldwin</td>\n",
       "      <td>1003.0</td>\n",
       "      <td>0.450031</td>\n",
       "      <td>NaN</td>\n",
       "      <td>0.015348</td>\n",
       "      <td>0.011884</td>\n",
       "      <td>0.031948</td>\n",
       "      <td>0.000000</td>\n",
       "      <td>0.278709</td>\n",
       "      <td>0.0</td>\n",
       "      <td>0.017842</td>\n",
       "      <td>0.044849</td>\n",
       "      <td>0.049451</td>\n",
       "      <td>140415.0</td>\n",
       "    </tr>\n",
       "    <tr>\n",
       "      <th>2</th>\n",
       "      <td>AL</td>\n",
       "      <td>Barbour</td>\n",
       "      <td>1005.0</td>\n",
       "      <td>0.099370</td>\n",
       "      <td>NaN</td>\n",
       "      <td>0.001905</td>\n",
       "      <td>0.008555</td>\n",
       "      <td>0.006284</td>\n",
       "      <td>0.000000</td>\n",
       "      <td>0.057143</td>\n",
       "      <td>0.0</td>\n",
       "      <td>0.005469</td>\n",
       "      <td>0.013747</td>\n",
       "      <td>0.006268</td>\n",
       "      <td>29038.0</td>\n",
       "    </tr>\n",
       "    <tr>\n",
       "      <th>3</th>\n",
       "      <td>AL</td>\n",
       "      <td>Bibb</td>\n",
       "      <td>1007.0</td>\n",
       "      <td>0.045945</td>\n",
       "      <td>NaN</td>\n",
       "      <td>0.000769</td>\n",
       "      <td>0.001622</td>\n",
       "      <td>0.004614</td>\n",
       "      <td>0.000000</td>\n",
       "      <td>0.035746</td>\n",
       "      <td>0.0</td>\n",
       "      <td>0.000380</td>\n",
       "      <td>0.000956</td>\n",
       "      <td>0.001858</td>\n",
       "      <td>20826.0</td>\n",
       "    </tr>\n",
       "    <tr>\n",
       "      <th>4</th>\n",
       "      <td>AL</td>\n",
       "      <td>Blount</td>\n",
       "      <td>1009.0</td>\n",
       "      <td>0.114776</td>\n",
       "      <td>NaN</td>\n",
       "      <td>0.001951</td>\n",
       "      <td>0.009059</td>\n",
       "      <td>0.011162</td>\n",
       "      <td>0.000000</td>\n",
       "      <td>0.087401</td>\n",
       "      <td>0.0</td>\n",
       "      <td>0.000298</td>\n",
       "      <td>0.000749</td>\n",
       "      <td>0.004155</td>\n",
       "      <td>51024.0</td>\n",
       "    </tr>\n",
       "  </tbody>\n",
       "</table>\n",
       "</div>"
      ],
      "text/plain": [
       "  ﻿State   County    FIPS     Total  Unnamed: 4  Commercial  Industrial  \\\n",
       "0     AL  Autauga  1001.0  0.256167         NaN    0.003001    0.004434   \n",
       "1     AL  Baldwin  1003.0  0.450031         NaN    0.015348    0.011884   \n",
       "2     AL  Barbour  1005.0  0.099370         NaN    0.001905    0.008555   \n",
       "3     AL     Bibb  1007.0  0.045945         NaN    0.000769    0.001622   \n",
       "4     AL   Blount  1009.0  0.114776         NaN    0.001951    0.009059   \n",
       "\n",
       "   Residential  Electricity Prod    Onroad  Cement  Aircraft  Airborne  \\\n",
       "0     0.010148          0.155508  0.074761     0.0  0.000976  0.002453   \n",
       "1     0.031948          0.000000  0.278709     0.0  0.017842  0.044849   \n",
       "2     0.006284          0.000000  0.057143     0.0  0.005469  0.013747   \n",
       "3     0.004614          0.000000  0.035746     0.0  0.000380  0.000956   \n",
       "4     0.011162          0.000000  0.087401     0.0  0.000298  0.000749   \n",
       "\n",
       "    Nonroad  Pop 2000  \n",
       "0  0.004886   43671.0  \n",
       "1  0.049451  140415.0  \n",
       "2  0.006268   29038.0  \n",
       "3  0.001858   20826.0  \n",
       "4  0.004155   51024.0  "
      ]
     },
     "execution_count": 61,
     "metadata": {},
     "output_type": "execute_result"
    }
   ],
   "source": [
    "# Used Excel to combine data from different sheets.\n",
    "# Copied Pop 2000 from the \"per capita\" sheet and pasted it onto the \"county_sector\" sheet,\n",
    "# which had the FIPS code we need for merging.\n",
    "\n",
    "carbon = pd.read_csv('CarbonPerCapWithFIPS.csv')\n",
    "carbon.head()"
   ]
  },
  {
   "cell_type": "code",
   "execution_count": 67,
   "metadata": {
    "collapsed": false
   },
   "outputs": [
    {
     "data": {
      "text/plain": [
       "Index([u'﻿State', u' County', u' FIPS', u' Total', u'Pop 2000'], dtype='object')"
      ]
     },
     "execution_count": 67,
     "metadata": {},
     "output_type": "execute_result"
    }
   ],
   "source": [
    "carbon.drop(['Unnamed: 4', 'Commercial', 'Industrial',\n",
    "                   'Residential', 'Electricity Prod', 'Onroad',\n",
    "                   'Cement', 'Aircraft', 'Nonroad', 'Airborne'], axis=1, inplace=True)\n",
    "carbon.columns"
   ]
  },
  {
   "cell_type": "code",
   "execution_count": 82,
   "metadata": {
    "collapsed": false
   },
   "outputs": [
    {
     "name": "stdout",
     "output_type": "stream",
     "text": [
      "3142\n"
     ]
    },
    {
     "data": {
      "text/html": [
       "<div>\n",
       "<table border=\"1\" class=\"dataframe\">\n",
       "  <thead>\n",
       "    <tr style=\"text-align: right;\">\n",
       "      <th></th>\n",
       "      <th>﻿State</th>\n",
       "      <th>County</th>\n",
       "      <th>FIPS County Code</th>\n",
       "      <th>Total</th>\n",
       "      <th>Pop 2000</th>\n",
       "      <th>PerCap</th>\n",
       "    </tr>\n",
       "  </thead>\n",
       "  <tbody>\n",
       "    <tr>\n",
       "      <th>0</th>\n",
       "      <td>AL</td>\n",
       "      <td>Autauga</td>\n",
       "      <td>1001.0</td>\n",
       "      <td>0.256167</td>\n",
       "      <td>43671.0</td>\n",
       "      <td>0.000006</td>\n",
       "    </tr>\n",
       "    <tr>\n",
       "      <th>1</th>\n",
       "      <td>AL</td>\n",
       "      <td>Baldwin</td>\n",
       "      <td>1003.0</td>\n",
       "      <td>0.450031</td>\n",
       "      <td>140415.0</td>\n",
       "      <td>0.000003</td>\n",
       "    </tr>\n",
       "    <tr>\n",
       "      <th>2</th>\n",
       "      <td>AL</td>\n",
       "      <td>Barbour</td>\n",
       "      <td>1005.0</td>\n",
       "      <td>0.099370</td>\n",
       "      <td>29038.0</td>\n",
       "      <td>0.000003</td>\n",
       "    </tr>\n",
       "  </tbody>\n",
       "</table>\n",
       "</div>"
      ],
      "text/plain": [
       "  ﻿State   County  FIPS County Code     Total  Pop 2000    PerCap\n",
       "0     AL  Autauga            1001.0  0.256167   43671.0  0.000006\n",
       "1     AL  Baldwin            1003.0  0.450031  140415.0  0.000003\n",
       "2     AL  Barbour            1005.0  0.099370   29038.0  0.000003"
      ]
     },
     "execution_count": 82,
     "metadata": {},
     "output_type": "execute_result"
    }
   ],
   "source": [
    "carbon['PerCap'] = carbon[' Total'] / carbonPerCap['Pop 2000']\n",
    "carbon.rename(columns={' FIPS': 'FIPS County Code'}, inplace=True)\n",
    "#carbon['FIPS County Code'].dropna(inplace=False)\n",
    "print(len(carbon))\n",
    "carbon.head(3)"
   ]
  },
  {
   "cell_type": "code",
   "execution_count": 83,
   "metadata": {
    "collapsed": false
   },
   "outputs": [
    {
     "data": {
      "text/plain": [
       "dtype('float64')"
      ]
     },
     "execution_count": 83,
     "metadata": {},
     "output_type": "execute_result"
    }
   ],
   "source": [
    "carbon['FIPS County Code'].dtype"
   ]
  },
  {
   "cell_type": "markdown",
   "metadata": {},
   "source": [
    "## 2.C Merges"
   ]
  },
  {
   "cell_type": "markdown",
   "metadata": {},
   "source": [
    "My plan is to merge the carbon data with the second census dataset - the one that has the individual counties. I wrangled the carbon emissions data so that it included FIPS code, which the census data also has, enabling a merge. That merge is not working, however, and I'm stumped after a little troubleshooting. The FIPS code given in the census data is 2-3 digits, while the FIPS codes in the carbon data are four digits (at a quick glance anyway).\n",
    "\n",
    "The next step would be to use something like groupby to add up the population and carbon emissions for all counties in each MSA. Then simple division shows carbon per capita in each MSA."
   ]
  },
  {
   "cell_type": "code",
   "execution_count": 112,
   "metadata": {
    "collapsed": false
   },
   "outputs": [
    {
     "data": {
      "text/plain": [
       "3      59.0\n",
       "4     253.0\n",
       "5     441.0\n",
       "9       3.0\n",
       "10      5.0\n",
       "Name: FIPS County Code, dtype: float64"
      ]
     },
     "execution_count": 112,
     "metadata": {},
     "output_type": "execute_result"
    }
   ],
   "source": [
    "MSA1['FIPS County Code'].head()"
   ]
  },
  {
   "cell_type": "code",
   "execution_count": 111,
   "metadata": {
    "collapsed": false,
    "scrolled": true
   },
   "outputs": [
    {
     "data": {
      "text/plain": [
       "0    1001.0\n",
       "1    1003.0\n",
       "2    1005.0\n",
       "3    1007.0\n",
       "4    1009.0\n",
       "Name: FIPS County Code, dtype: float64"
      ]
     },
     "execution_count": 111,
     "metadata": {},
     "output_type": "execute_result"
    }
   ],
   "source": [
    "carbon['FIPS County Code'].head()"
   ]
  },
  {
   "cell_type": "code",
   "execution_count": 92,
   "metadata": {
    "collapsed": false
   },
   "outputs": [
    {
     "data": {
      "text/html": [
       "<div>\n",
       "<table border=\"1\" class=\"dataframe\">\n",
       "  <thead>\n",
       "    <tr style=\"text-align: right;\">\n",
       "      <th></th>\n",
       "      <th>﻿CBSA Code</th>\n",
       "      <th>CBSA Title</th>\n",
       "      <th>Metropolitan/Micropolitan Statistical Area</th>\n",
       "      <th>State Name</th>\n",
       "      <th>FIPS State Code</th>\n",
       "      <th>FIPS County Code</th>\n",
       "      <th>﻿State</th>\n",
       "      <th>County</th>\n",
       "      <th>Total</th>\n",
       "      <th>Pop 2000</th>\n",
       "      <th>PerCap</th>\n",
       "    </tr>\n",
       "  </thead>\n",
       "  <tbody>\n",
       "  </tbody>\n",
       "</table>\n",
       "</div>"
      ],
      "text/plain": [
       "Empty DataFrame\n",
       "Columns: [﻿CBSA Code, CBSA Title, Metropolitan/Micropolitan Statistical Area, State Name, FIPS State Code, FIPS County Code, ﻿State,  County,  Total, Pop 2000, PerCap]\n",
       "Index: []"
      ]
     },
     "execution_count": 92,
     "metadata": {},
     "output_type": "execute_result"
    }
   ],
   "source": [
    "merge1 = pd.merge(MSA1, carbon, on=['FIPS County Code'])\n",
    "merge1.head()"
   ]
  },
  {
   "cell_type": "markdown",
   "metadata": {},
   "source": [
    "Also need to merge existing data with the following, to get population density per MSA:"
   ]
  },
  {
   "cell_type": "code",
   "execution_count": 107,
   "metadata": {
    "collapsed": false
   },
   "outputs": [
    {
     "data": {
      "text/html": [
       "<div>\n",
       "<table border=\"1\" class=\"dataframe\">\n",
       "  <thead>\n",
       "    <tr style=\"text-align: right;\">\n",
       "      <th></th>\n",
       "      <th>GEO.id</th>\n",
       "      <th>GEO.id2</th>\n",
       "      <th>GEO.display-label</th>\n",
       "      <th>GCT_STUB.target-geo-id</th>\n",
       "      <th>GCT_STUB.target-geo-id2</th>\n",
       "      <th>GCT_STUB.display-label</th>\n",
       "      <th>GCT_STUB.display-label.1</th>\n",
       "      <th>HC01</th>\n",
       "      <th>HC02</th>\n",
       "      <th>HC04</th>\n",
       "      <th>HC05</th>\n",
       "      <th>HC06</th>\n",
       "      <th>HC08</th>\n",
       "      <th>HC09</th>\n",
       "    </tr>\n",
       "  </thead>\n",
       "  <tbody>\n",
       "    <tr>\n",
       "      <th>0</th>\n",
       "      <td>Id</td>\n",
       "      <td>Id2</td>\n",
       "      <td>Geography</td>\n",
       "      <td>Target Geo Id</td>\n",
       "      <td>Target Geo Id2</td>\n",
       "      <td>Geographical Area</td>\n",
       "      <td>Geographical Area</td>\n",
       "      <td>Population</td>\n",
       "      <td>Housing  units</td>\n",
       "      <td>Area in square miles - Total area</td>\n",
       "      <td>Area in square miles - Water area</td>\n",
       "      <td>Area in square miles - Land area</td>\n",
       "      <td>Density per square mile of land area - Population</td>\n",
       "      <td>Density per square mile of land area - Housing...</td>\n",
       "    </tr>\n",
       "    <tr>\n",
       "      <th>1</th>\n",
       "      <td>0100000US</td>\n",
       "      <td>NaN</td>\n",
       "      <td>United States</td>\n",
       "      <td>0100000US</td>\n",
       "      <td>NaN</td>\n",
       "      <td>United States</td>\n",
       "      <td>United States</td>\n",
       "      <td>281421906</td>\n",
       "      <td>115904641</td>\n",
       "      <td>3794083.06</td>\n",
       "      <td>256644.62</td>\n",
       "      <td>3537438.44</td>\n",
       "      <td>79.6</td>\n",
       "      <td>32.8</td>\n",
       "    </tr>\n",
       "    <tr>\n",
       "      <th>2</th>\n",
       "      <td>0100000US</td>\n",
       "      <td>NaN</td>\n",
       "      <td>United States</td>\n",
       "      <td>0100052US</td>\n",
       "      <td>NaN</td>\n",
       "      <td>United States - In metropolitan area</td>\n",
       "      <td>In metropolitan area</td>\n",
       "      <td>225981679</td>\n",
       "      <td>90812960</td>\n",
       "      <td>764595.13</td>\n",
       "      <td>58805.54</td>\n",
       "      <td>705789.59</td>\n",
       "      <td>320.2</td>\n",
       "      <td>128.7</td>\n",
       "    </tr>\n",
       "  </tbody>\n",
       "</table>\n",
       "</div>"
      ],
      "text/plain": [
       "      GEO.id GEO.id2 GEO.display-label GCT_STUB.target-geo-id  \\\n",
       "0         Id     Id2         Geography          Target Geo Id   \n",
       "1  0100000US     NaN     United States              0100000US   \n",
       "2  0100000US     NaN     United States              0100052US   \n",
       "\n",
       "  GCT_STUB.target-geo-id2                GCT_STUB.display-label  \\\n",
       "0          Target Geo Id2                     Geographical Area   \n",
       "1                     NaN                         United States   \n",
       "2                     NaN  United States - In metropolitan area   \n",
       "\n",
       "  GCT_STUB.display-label.1        HC01            HC02  \\\n",
       "0        Geographical Area  Population  Housing  units   \n",
       "1            United States   281421906       115904641   \n",
       "2     In metropolitan area   225981679        90812960   \n",
       "\n",
       "                                HC04                               HC05  \\\n",
       "0  Area in square miles - Total area  Area in square miles - Water area   \n",
       "1                         3794083.06                          256644.62   \n",
       "2                          764595.13                           58805.54   \n",
       "\n",
       "                               HC06  \\\n",
       "0  Area in square miles - Land area   \n",
       "1                        3537438.44   \n",
       "2                         705789.59   \n",
       "\n",
       "                                                HC08  \\\n",
       "0  Density per square mile of land area - Population   \n",
       "1                                               79.6   \n",
       "2                                              320.2   \n",
       "\n",
       "                                                HC09  \n",
       "0  Density per square mile of land area - Housing...  \n",
       "1                                               32.8  \n",
       "2                                              128.7  "
      ]
     },
     "execution_count": 107,
     "metadata": {},
     "output_type": "execute_result"
    }
   ],
   "source": [
    "densityData = pd.read_csv('MSAWithLandAreaAndPop.csv')\n",
    "densityData.head(3)"
   ]
  },
  {
   "cell_type": "markdown",
   "metadata": {},
   "source": [
    "# 3) Analysis"
   ]
  },
  {
   "cell_type": "markdown",
   "metadata": {},
   "source": [
    "I'm running out of time so I'm showing methodology here. These are the methods I'd use if I could get that merge to work."
   ]
  },
  {
   "cell_type": "markdown",
   "metadata": {},
   "source": [
    "## 3.A Scatterplots"
   ]
  },
  {
   "cell_type": "code",
   "execution_count": null,
   "metadata": {
    "collapsed": true
   },
   "outputs": [],
   "source": [
    "emissions = merge1['column name']\n",
    "density = merge1['other column name']"
   ]
  },
  {
   "cell_type": "code",
   "execution_count": null,
   "metadata": {
    "collapsed": true
   },
   "outputs": [],
   "source": [
    "fig, ax = plt.subplots()\n",
    "fig.set_size_inches(?, ?)\n",
    "ax.plot(density, emissions, '.', label='=  Metropolitan Statistical Area')\n",
    "ax.set_title('Relationship Between Population Density of a Metropolitan Area\\\n",
    "             and Its Carbon Emissions Per Capita')\n",
    "ax.set_ylabel('Carbon Dioxide Emissions Per Capita', fontsize=18)\n",
    "ax.set_xlabel('Population Density (unit)', fontsize=18)\n",
    "plt.legend(loc=?)\n",
    "plt.show()"
   ]
  },
  {
   "cell_type": "markdown",
   "metadata": {},
   "source": [
    "## 3.B  Ranking Cities by Per Capita Emissions"
   ]
  },
  {
   "cell_type": "markdown",
   "metadata": {},
   "source": [
    "Simple sorting of a dataframe."
   ]
  },
  {
   "cell_type": "markdown",
   "metadata": {},
   "source": [
    "## 3.C Regression "
   ]
  },
  {
   "cell_type": "markdown",
   "metadata": {},
   "source": [
    "I'd probably try linear regression on the simple scatterplot first, then do a log of the x axis since the population density varies so much and has so many values clustered close to the origin."
   ]
  },
  {
   "cell_type": "markdown",
   "metadata": {},
   "source": [
    "## 3.D Other charts/graphs/maps"
   ]
  },
  {
   "cell_type": "markdown",
   "metadata": {},
   "source": [
    "I'd like to create a map in Carto or ArcMap once the single merged table is available. Make it a map with two features: a choropleth of population density plus a proportionately-sized dot visualization on top of the MSAs that represents emissions per capita."
   ]
  },
  {
   "cell_type": "markdown",
   "metadata": {},
   "source": [
    "# 4) Discussion"
   ]
  },
  {
   "cell_type": "markdown",
   "metadata": {
    "collapsed": true
   },
   "source": [
    "I expect that the analysis would support the conclusions reached by David Owen: higher density means lower emissions per person. As far as the question of \"optimal city size\" I think you need to look at metros outside the US to analyze this. We have only one mega-city (NY), but there are several others of about the same size and one or two significantly larger. With that amount of data you MIGHT be able to make conclusions about optimal size - unless Tokyo and Jakarta have lower emissions per capita than the rest.\n",
    "\n",
    "It also would be interesting to do a non-linear analysis (visual assessment of the scatterplot might suggest whether or not this would be worthwhile). This might produce recommendations for comparative carbon benefits of various city densities along the curve."
   ]
  },
  {
   "cell_type": "code",
   "execution_count": null,
   "metadata": {
    "collapsed": true
   },
   "outputs": [],
   "source": []
  }
 ],
 "metadata": {
  "anaconda-cloud": {},
  "kernelspec": {
   "display_name": "Python [Root]",
   "language": "python",
   "name": "Python [Root]"
  },
  "language_info": {
   "codemirror_mode": {
    "name": "ipython",
    "version": 2
   },
   "file_extension": ".py",
   "mimetype": "text/x-python",
   "name": "python",
   "nbconvert_exporter": "python",
   "pygments_lexer": "ipython2",
   "version": "2.7.12"
  }
 },
 "nbformat": 4,
 "nbformat_minor": 0
}
