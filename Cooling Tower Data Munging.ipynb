{
 "cells": [
  {
   "cell_type": "markdown",
   "metadata": {},
   "source": [
    "# How many cooling towers are there in NYC?"
   ]
  },
  {
   "cell_type": "code",
   "execution_count": 1,
   "metadata": {
    "collapsed": true
   },
   "outputs": [],
   "source": [
    "import pandas as pd"
   ]
  },
  {
   "cell_type": "markdown",
   "metadata": {},
   "source": [
    "## Data from NY State DOH"
   ]
  },
  {
   "cell_type": "code",
   "execution_count": 21,
   "metadata": {
    "collapsed": false
   },
   "outputs": [
    {
     "data": {
      "text/html": [
       "<div>\n",
       "<table border=\"1\" class=\"dataframe\">\n",
       "  <thead>\n",
       "    <tr style=\"text-align: right;\">\n",
       "      <th></th>\n",
       "      <th>Equipment County</th>\n",
       "      <th>Equipment Borough</th>\n",
       "      <th>Equipment Street No.</th>\n",
       "      <th>Equipment Street Address</th>\n",
       "      <th>Equipment City</th>\n",
       "      <th>Equipment Zip Code</th>\n",
       "      <th>Equip. Unique ID</th>\n",
       "      <th>Intended Use</th>\n",
       "      <th>Manufacturer</th>\n",
       "      <th>Model</th>\n",
       "      <th>Cooling Capacity</th>\n",
       "      <th>Cooling Capacity Unit</th>\n",
       "      <th>Commissioned Date</th>\n",
       "      <th>Inspection Date</th>\n",
       "      <th>Date of Bacteriological Sample Collection</th>\n",
       "      <th>Date of Legionella Sample Collection</th>\n",
       "      <th>Location 1</th>\n",
       "    </tr>\n",
       "  </thead>\n",
       "  <tbody>\n",
       "    <tr>\n",
       "      <th>0</th>\n",
       "      <td>New York</td>\n",
       "      <td>Manhattan</td>\n",
       "      <td>140</td>\n",
       "      <td>West Street</td>\n",
       "      <td>New York</td>\n",
       "      <td>10007.0</td>\n",
       "      <td>6</td>\n",
       "      <td>Air Conditioning</td>\n",
       "      <td>Marley</td>\n",
       "      <td>NC7132SM</td>\n",
       "      <td>600.0</td>\n",
       "      <td>Tonnage</td>\n",
       "      <td>08/10/2005</td>\n",
       "      <td>NaN</td>\n",
       "      <td>NaN</td>\n",
       "      <td>NaN</td>\n",
       "      <td>(40.713989343, -74.01331175)</td>\n",
       "    </tr>\n",
       "    <tr>\n",
       "      <th>1</th>\n",
       "      <td>New York</td>\n",
       "      <td>Manhattan</td>\n",
       "      <td>601</td>\n",
       "      <td>Lexington Avenue</td>\n",
       "      <td>New York</td>\n",
       "      <td>10022.0</td>\n",
       "      <td>7</td>\n",
       "      <td>Air Conditioning</td>\n",
       "      <td>Marley</td>\n",
       "      <td>475-314</td>\n",
       "      <td>5500.0</td>\n",
       "      <td>Tonnage</td>\n",
       "      <td>01/01/1976</td>\n",
       "      <td>01/04/2017</td>\n",
       "      <td>10/17/2016</td>\n",
       "      <td>12/29/2016</td>\n",
       "      <td>(40.758779432, -73.970483529)</td>\n",
       "    </tr>\n",
       "    <tr>\n",
       "      <th>2</th>\n",
       "      <td>New York</td>\n",
       "      <td>Manhattan</td>\n",
       "      <td>205</td>\n",
       "      <td>East 67th Street</td>\n",
       "      <td>New York</td>\n",
       "      <td>10065.0</td>\n",
       "      <td>14</td>\n",
       "      <td>Air Conditioning</td>\n",
       "      <td>Baltimore Aircoil</td>\n",
       "      <td>VT1-340QMX</td>\n",
       "      <td>315.0</td>\n",
       "      <td>Tonnage</td>\n",
       "      <td>07/01/2003</td>\n",
       "      <td>10/17/2016</td>\n",
       "      <td>10/17/2016</td>\n",
       "      <td>10/17/2016</td>\n",
       "      <td>(40.766343808, -73.962182705)</td>\n",
       "    </tr>\n",
       "    <tr>\n",
       "      <th>3</th>\n",
       "      <td>New York</td>\n",
       "      <td>Manhattan</td>\n",
       "      <td>114</td>\n",
       "      <td>W 47th St</td>\n",
       "      <td>New York</td>\n",
       "      <td>10036.0</td>\n",
       "      <td>15</td>\n",
       "      <td>Air Conditioning</td>\n",
       "      <td>BAC</td>\n",
       "      <td>T26030CS</td>\n",
       "      <td>1291.0</td>\n",
       "      <td>Tonnage</td>\n",
       "      <td>01/01/2005</td>\n",
       "      <td>11/09/2016</td>\n",
       "      <td>12/08/2016</td>\n",
       "      <td>12/08/2016</td>\n",
       "      <td>(40.758350679, -73.982927233)</td>\n",
       "    </tr>\n",
       "    <tr>\n",
       "      <th>4</th>\n",
       "      <td>New York</td>\n",
       "      <td>Manhattan</td>\n",
       "      <td>114</td>\n",
       "      <td>W 47 St</td>\n",
       "      <td>New York</td>\n",
       "      <td>10036.0</td>\n",
       "      <td>16</td>\n",
       "      <td>Air Conditioning</td>\n",
       "      <td>BAC</td>\n",
       "      <td>T2683NCS</td>\n",
       "      <td>750.0</td>\n",
       "      <td>Tonnage</td>\n",
       "      <td>01/01/2005</td>\n",
       "      <td>11/09/2016</td>\n",
       "      <td>12/08/2016</td>\n",
       "      <td>12/08/2016</td>\n",
       "      <td>(40.758350679, -73.982927233)</td>\n",
       "    </tr>\n",
       "  </tbody>\n",
       "</table>\n",
       "</div>"
      ],
      "text/plain": [
       "  Equipment County Equipment Borough Equipment Street No.  \\\n",
       "0         New York         Manhattan                  140   \n",
       "1         New York         Manhattan                  601   \n",
       "2         New York         Manhattan                  205   \n",
       "3         New York         Manhattan                  114   \n",
       "4         New York         Manhattan                  114   \n",
       "\n",
       "  Equipment Street Address Equipment City  Equipment Zip Code  \\\n",
       "0              West Street       New York             10007.0   \n",
       "1         Lexington Avenue       New York             10022.0   \n",
       "2         East 67th Street       New York             10065.0   \n",
       "3                W 47th St       New York             10036.0   \n",
       "4                  W 47 St       New York             10036.0   \n",
       "\n",
       "   Equip. Unique ID      Intended Use       Manufacturer       Model  \\\n",
       "0                 6  Air Conditioning             Marley   NC7132SM    \n",
       "1                 7  Air Conditioning             Marley     475-314   \n",
       "2                14  Air Conditioning  Baltimore Aircoil  VT1-340QMX   \n",
       "3                15  Air Conditioning                BAC    T26030CS   \n",
       "4                16  Air Conditioning                BAC    T2683NCS   \n",
       "\n",
       "   Cooling Capacity Cooling Capacity Unit Commissioned Date Inspection Date  \\\n",
       "0             600.0               Tonnage        08/10/2005             NaN   \n",
       "1            5500.0               Tonnage        01/01/1976      01/04/2017   \n",
       "2             315.0               Tonnage        07/01/2003      10/17/2016   \n",
       "3            1291.0               Tonnage        01/01/2005      11/09/2016   \n",
       "4             750.0               Tonnage        01/01/2005      11/09/2016   \n",
       "\n",
       "  Date of Bacteriological Sample Collection  \\\n",
       "0                                       NaN   \n",
       "1                                10/17/2016   \n",
       "2                                10/17/2016   \n",
       "3                                12/08/2016   \n",
       "4                                12/08/2016   \n",
       "\n",
       "  Date of Legionella Sample Collection                      Location 1  \n",
       "0                                   NaN   (40.713989343, -74.01331175)  \n",
       "1                            12/29/2016  (40.758779432, -73.970483529)  \n",
       "2                            10/17/2016  (40.766343808, -73.962182705)  \n",
       "3                            12/08/2016  (40.758350679, -73.982927233)  \n",
       "4                            12/08/2016  (40.758350679, -73.982927233)  "
      ]
     },
     "execution_count": 21,
     "metadata": {},
     "output_type": "execute_result"
    }
   ],
   "source": [
    "# source = https://health.data.ny.gov/Health/Registered-Cooling-Tower-Map/unmf-baqa\n",
    "# filtered that data by the county column and then downloaded\n",
    "\n",
    "stateHealth = pd.read_csv('Registered_Cooling_Tower_Map.csv')\n",
    "stateHealth.head()"
   ]
  },
  {
   "cell_type": "code",
   "execution_count": 22,
   "metadata": {
    "collapsed": false
   },
   "outputs": [
    {
     "data": {
      "text/plain": [
       "4007"
      ]
     },
     "execution_count": 22,
     "metadata": {},
     "output_type": "execute_result"
    }
   ],
   "source": [
    "len(stateHealth)"
   ]
  },
  {
   "cell_type": "code",
   "execution_count": 23,
   "metadata": {
    "collapsed": false
   },
   "outputs": [
    {
     "data": {
      "text/plain": [
       "4007"
      ]
     },
     "execution_count": 23,
     "metadata": {},
     "output_type": "execute_result"
    }
   ],
   "source": [
    "len(stateHealth['Equip. Unique ID'].unique())"
   ]
  },
  {
   "cell_type": "code",
   "execution_count": 24,
   "metadata": {
    "collapsed": true
   },
   "outputs": [],
   "source": [
    "stateHealth.to_csv(path_or_buf='legion_data_nyc.csv')"
   ]
  },
  {
   "cell_type": "code",
   "execution_count": null,
   "metadata": {
    "collapsed": true
   },
   "outputs": [],
   "source": []
  }
 ],
 "metadata": {
  "anaconda-cloud": {},
  "kernelspec": {
   "display_name": "Python [Root]",
   "language": "python",
   "name": "Python [Root]"
  },
  "language_info": {
   "codemirror_mode": {
    "name": "ipython",
    "version": 2
   },
   "file_extension": ".py",
   "mimetype": "text/x-python",
   "name": "python",
   "nbconvert_exporter": "python",
   "pygments_lexer": "ipython2",
   "version": "2.7.12"
  }
 },
 "nbformat": 4,
 "nbformat_minor": 0
}
