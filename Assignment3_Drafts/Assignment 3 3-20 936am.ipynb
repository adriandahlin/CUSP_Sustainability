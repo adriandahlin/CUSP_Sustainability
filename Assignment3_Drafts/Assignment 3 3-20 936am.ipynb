{
 "cells": [
  {
   "cell_type": "code",
   "execution_count": 160,
   "metadata": {
    "collapsed": false
   },
   "outputs": [
    {
     "name": "stdout",
     "output_type": "stream",
     "text": [
      "Populating the interactive namespace from numpy and matplotlib\n"
     ]
    }
   ],
   "source": [
    "import pandas as pd\n",
    "import pylab as pl\n",
    "\n",
    "import statsmodels.api as sm\n",
    "\n",
    "import numpy as np\n",
    "import matplotlib.mlab as mlab\n",
    "import matplotlib.pyplot as plt\n",
    "%pylab inline"
   ]
  },
  {
   "cell_type": "markdown",
   "metadata": {},
   "source": [
    "# Data Munging"
   ]
  },
  {
   "cell_type": "markdown",
   "metadata": {},
   "source": [
    "## Importing and cleaning energy usage data (LL84) per building in NYC for 2015 (reported in 2016)"
   ]
  },
  {
   "cell_type": "code",
   "execution_count": 396,
   "metadata": {
    "collapsed": false
   },
   "outputs": [
    {
     "name": "stdout",
     "output_type": "stream",
     "text": [
      "13223\n"
     ]
    },
    {
     "data": {
      "text/html": [
       "<div>\n",
       "<table border=\"1\" class=\"dataframe\">\n",
       "  <thead>\n",
       "    <tr style=\"text-align: right;\">\n",
       "      <th></th>\n",
       "      <th>﻿Record Number</th>\n",
       "      <th>Order</th>\n",
       "      <th>NYC Borough, Block and Lot (BBL)</th>\n",
       "      <th>Co-reported BBL Status</th>\n",
       "      <th>BBLs Co-reported</th>\n",
       "      <th>Reported NYC Building Identification Numbers (BINs)</th>\n",
       "      <th>Property Name</th>\n",
       "      <th>Parent Property Id</th>\n",
       "      <th>Parent Property Name</th>\n",
       "      <th>Street Number</th>\n",
       "      <th>...</th>\n",
       "      <th>Direct GHG Emissions (Metric Tons CO2e)</th>\n",
       "      <th>Indirect GHG Emissions (Metric Tons CO2e)</th>\n",
       "      <th>DOF Property Floor Area (ft²)</th>\n",
       "      <th>Property GFA - Self-reported (ft²)</th>\n",
       "      <th>Water Use (All Water Sources) (kgal)</th>\n",
       "      <th>Municipally Supplied Potable Water - Indoor Intensity (gal/ft²)</th>\n",
       "      <th>Release Date</th>\n",
       "      <th>DEP Provided Water Use (kgal)</th>\n",
       "      <th>Automatic Water Benchmarking Eligible</th>\n",
       "      <th>Reported Water Method</th>\n",
       "    </tr>\n",
       "  </thead>\n",
       "  <tbody>\n",
       "    <tr>\n",
       "      <th>0</th>\n",
       "      <td>4113711.0</td>\n",
       "      <td>1</td>\n",
       "      <td>1.003360e+09</td>\n",
       "      <td>NaN</td>\n",
       "      <td>NaN</td>\n",
       "      <td>1088884</td>\n",
       "      <td>16 Bialystoker Place</td>\n",
       "      <td>Not Applicable: Standalone Property</td>\n",
       "      <td>Not Applicable: Standalone Property</td>\n",
       "      <td>15.0</td>\n",
       "      <td>...</td>\n",
       "      <td>290.2</td>\n",
       "      <td>146.1</td>\n",
       "      <td>98052.0</td>\n",
       "      <td>98000.0</td>\n",
       "      <td>NaN</td>\n",
       "      <td>NaN</td>\n",
       "      <td>4/13/16 11:08 AM</td>\n",
       "      <td>NaN</td>\n",
       "      <td>NaN</td>\n",
       "      <td>NaN</td>\n",
       "    </tr>\n",
       "  </tbody>\n",
       "</table>\n",
       "<p>1 rows × 57 columns</p>\n",
       "</div>"
      ],
      "text/plain": [
       "   ﻿Record Number  Order  NYC Borough, Block and Lot (BBL)  \\\n",
       "0       4113711.0      1                      1.003360e+09   \n",
       "\n",
       "  Co-reported BBL Status BBLs Co-reported  \\\n",
       "0                    NaN              NaN   \n",
       "\n",
       "  Reported NYC Building Identification Numbers (BINs)         Property Name  \\\n",
       "0                                            1088884   16 Bialystoker Place   \n",
       "\n",
       "                    Parent Property Id                 Parent Property Name  \\\n",
       "0  Not Applicable: Standalone Property  Not Applicable: Standalone Property   \n",
       "\n",
       "   Street Number          ...           \\\n",
       "0           15.0          ...            \n",
       "\n",
       "  Direct GHG Emissions (Metric Tons CO2e)  \\\n",
       "0                                   290.2   \n",
       "\n",
       "   Indirect GHG Emissions (Metric Tons CO2e) DOF Property Floor Area (ft²)  \\\n",
       "0                                      146.1                       98052.0   \n",
       "\n",
       "  Property GFA - Self-reported (ft²) Water Use (All Water Sources) (kgal)  \\\n",
       "0                            98000.0                                  NaN   \n",
       "\n",
       "  Municipally Supplied Potable Water - Indoor Intensity (gal/ft²)  \\\n",
       "0                                                NaN                \n",
       "\n",
       "       Release Date  DEP Provided Water Use (kgal)  \\\n",
       "0  4/13/16 11:08 AM                            NaN   \n",
       "\n",
       "  Automatic Water Benchmarking Eligible Reported Water Method  \n",
       "0                                   NaN                   NaN  \n",
       "\n",
       "[1 rows x 57 columns]"
      ]
     },
     "execution_count": 396,
     "metadata": {},
     "output_type": "execute_result"
    }
   ],
   "source": [
    "energy = pd.read_csv(\"nyc_benchmarking_disclosure_data_reported_in_2016.csv\")\n",
    "print(len(energy))\n",
    "energy.head(1)"
   ]
  },
  {
   "cell_type": "code",
   "execution_count": 397,
   "metadata": {
    "collapsed": false
   },
   "outputs": [
    {
     "data": {
      "text/html": [
       "<div>\n",
       "<table border=\"1\" class=\"dataframe\">\n",
       "  <thead>\n",
       "    <tr style=\"text-align: right;\">\n",
       "      <th></th>\n",
       "      <th>BBL</th>\n",
       "      <th>BIN</th>\n",
       "      <th>Street Number</th>\n",
       "      <th>Street Name</th>\n",
       "      <th>Zip Code</th>\n",
       "      <th>Borough</th>\n",
       "      <th>Property Type</th>\n",
       "      <th>Year Built</th>\n",
       "      <th>ENERGY STAR Score</th>\n",
       "      <th>Weather Normalized Site EUI (kBtu/ft²)</th>\n",
       "      <th>Weather Normalized Source EUI (kBtu/ft²)</th>\n",
       "      <th>Fuel Oil #4 Use (kBtu)</th>\n",
       "      <th>Fuel Oil #5 &amp; 6 Use (kBtu)</th>\n",
       "      <th>Emissions(CO2e)</th>\n",
       "      <th>DOF Property Floor Area (ft²)</th>\n",
       "    </tr>\n",
       "  </thead>\n",
       "  <tbody>\n",
       "    <tr>\n",
       "      <th>0</th>\n",
       "      <td>1.003360e+09</td>\n",
       "      <td>1088884</td>\n",
       "      <td>15.0</td>\n",
       "      <td>BIALYSTOKER PLACE</td>\n",
       "      <td>10002.0</td>\n",
       "      <td>Manhattan</td>\n",
       "      <td>Multifamily Housing</td>\n",
       "      <td>1982</td>\n",
       "      <td>87.0</td>\n",
       "      <td>74.4</td>\n",
       "      <td>115.7</td>\n",
       "      <td>Not Available</td>\n",
       "      <td>Not Available</td>\n",
       "      <td>436.3</td>\n",
       "      <td>98052.0</td>\n",
       "    </tr>\n",
       "  </tbody>\n",
       "</table>\n",
       "</div>"
      ],
      "text/plain": [
       "            BBL      BIN  Street Number           Street Name  Zip Code  \\\n",
       "0  1.003360e+09  1088884           15.0  BIALYSTOKER PLACE      10002.0   \n",
       "\n",
       "     Borough        Property Type Year Built  ENERGY STAR Score  \\\n",
       "0  Manhattan  Multifamily Housing       1982               87.0   \n",
       "\n",
       "   Weather Normalized Site EUI (kBtu/ft²)  \\\n",
       "0                                    74.4   \n",
       "\n",
       "   Weather Normalized Source EUI (kBtu/ft²) Fuel Oil #4 Use (kBtu)  \\\n",
       "0                                     115.7          Not Available   \n",
       "\n",
       "  Fuel Oil #5 & 6 Use (kBtu)  Emissions(CO2e)  DOF Property Floor Area (ft²)  \n",
       "0              Not Available            436.3                        98052.0  "
      ]
     },
     "execution_count": 397,
     "metadata": {},
     "output_type": "execute_result"
    }
   ],
   "source": [
    "energy.rename(columns={'NYC Borough, Block and Lot (BBL)':\"BBL\", \\\n",
    "                       'Reported NYC Building Identification Numbers (BINs)':'BIN', \\\n",
    "                       'Direct GHG Emissions (Metric Tons CO2e)':'directCO2e', \\\n",
    "                       'Indirect GHG Emissions (Metric Tons CO2e)':'indirectCO2e', \\\n",
    "                      'Total GHG Emissions (Metric Tons CO2e)':'Emissions(CO2e)', \\\n",
    "                      'Water Use (All Water Sources) (kgal)':'water_use', \\\n",
    "                       'Primary Property Type - Self Selected':'Property Type',\n",
    "                      'Electricity Use - Grid Purchase (kBtu)':'grid_electricity(kBtu)'}, inplace=True)\n",
    "energy.drop(['Municipally Supplied Potable Water - Indoor Intensity (gal/ft²)', 'Property GFA - Self-reported (ft²)', \\\n",
    "            'DEP Provided Water Use (kgal)', 'Automatic Water Benchmarking Eligible', 'Co-reported BBL Status', \\\n",
    "            'BBLs Co-reported', 'Weather Normalized Site Natural Gas Use (therms)', 'Reported Water Method', \\\n",
    "            'District Chilled Water Use (kBtu)', 'Natural Gas Use (kBtu)', 'District Steam Use (kBtu)', \\\n",
    "            'District Hot Water Use (kBtu)', 'Diesel #2 Use (kBtu)', 'DOF Benchmarking Submission Status',\n",
    "       'water_use', 'Release Date',\n",
    "       'List of All Property Use Types at Property',\n",
    "       'Largest Property Use Type', 'Metered Areas (Energy)', 'Metered Areas  (Water)',\n",
    "       'Largest Property Use Type - Gross Floor Area (ft²)',\n",
    "       '2nd Largest Property Use Type', 'Order', 'Weather Normalized Site Electricity (kWh)',\n",
    "       '2nd Largest Property Use - Gross Floor Area (ft²)',\n",
    "       '3rd Largest Property Use Type', '﻿Record Number', 'directCO2e', 'indirectCO2e',\n",
    "       '3rd Largest Property Use Type - Gross Floor Area (ft²)','Fuel Oil #1 Use (kBtu)', 'Fuel Oil #2 Use (kBtu)', \\\n",
    "              'Weather Normalized Site Electricity Intensity (kWh/ft²)',\n",
    "       'Weather Normalized Site Natural Gas Intensity (therms/ft²)',\n",
    "       'Source EUI (kBtu/ft²)','Property Name', 'grid_electricity(kBtu)', 'Occupancy',\n",
    "       'Parent Property Id', 'Parent Property Name','Site EUI (kBtu/ft²)','Number of Buildings - Self-reported'], axis=1, inplace=True)\n",
    "energy.head(1)"
   ]
  },
  {
   "cell_type": "code",
   "execution_count": 398,
   "metadata": {
    "collapsed": false
   },
   "outputs": [
    {
     "data": {
      "text/plain": [
       "Index(['BBL', 'BIN', 'Street Number', 'Street Name', 'Zip Code', 'Borough',\n",
       "       'Property Type', 'Year Built', 'ENERGY STAR Score',\n",
       "       'Weather Normalized Site EUI (kBtu/ft²)',\n",
       "       'Weather Normalized Source EUI (kBtu/ft²)', 'Fuel Oil #4 Use (kBtu)',\n",
       "       'Fuel Oil #5 & 6 Use (kBtu)', 'Emissions(CO2e)',\n",
       "       'DOF Property Floor Area (ft²)'],\n",
       "      dtype='object')"
      ]
     },
     "execution_count": 398,
     "metadata": {},
     "output_type": "execute_result"
    }
   ],
   "source": [
    "energy.columns"
   ]
  },
  {
   "cell_type": "code",
   "execution_count": 399,
   "metadata": {
    "collapsed": false
   },
   "outputs": [
    {
     "data": {
      "text/plain": [
       "10745"
      ]
     },
     "execution_count": 399,
     "metadata": {},
     "output_type": "execute_result"
    }
   ],
   "source": [
    "energy = energy[energy[\"BIN\"].str.contains(';')==False]\n",
    "energy = energy[energy[\"BIN\"].str.contains(',')==False]\n",
    "energy = energy[energy[\"BIN\"].str.contains(':')==False]\n",
    "energy = energy[energy[\"BIN\"].str.contains('-')==False]\n",
    "len(energy)"
   ]
  },
  {
   "cell_type": "code",
   "execution_count": 400,
   "metadata": {
    "collapsed": false
   },
   "outputs": [
    {
     "name": "stderr",
     "output_type": "stream",
     "text": [
      "/opt/rh/anaconda/root/envs/PUI2016_Python3/lib/python3.5/site-packages/ipykernel/__main__.py:1: FutureWarning: sort(columns=....) is deprecated, use sort_values(by=.....)\n",
      "  if __name__ == '__main__':\n"
     ]
    },
    {
     "data": {
      "text/html": [
       "<div>\n",
       "<table border=\"1\" class=\"dataframe\">\n",
       "  <thead>\n",
       "    <tr style=\"text-align: right;\">\n",
       "      <th></th>\n",
       "      <th>BBL</th>\n",
       "      <th>BIN</th>\n",
       "      <th>Street Number</th>\n",
       "      <th>Street Name</th>\n",
       "      <th>Zip Code</th>\n",
       "      <th>Borough</th>\n",
       "      <th>Property Type</th>\n",
       "      <th>Year Built</th>\n",
       "      <th>ENERGY STAR Score</th>\n",
       "      <th>Weather Normalized Site EUI (kBtu/ft²)</th>\n",
       "      <th>Weather Normalized Source EUI (kBtu/ft²)</th>\n",
       "      <th>Fuel Oil #4 Use (kBtu)</th>\n",
       "      <th>Fuel Oil #5 &amp; 6 Use (kBtu)</th>\n",
       "      <th>Emissions(CO2e)</th>\n",
       "      <th>DOF Property Floor Area (ft²)</th>\n",
       "    </tr>\n",
       "  </thead>\n",
       "  <tbody>\n",
       "    <tr>\n",
       "      <th>903</th>\n",
       "      <td>1.007390e+09</td>\n",
       "      <td>1013043</td>\n",
       "      <td>103.0</td>\n",
       "      <td>8 AVENUE</td>\n",
       "      <td>10011.0</td>\n",
       "      <td>Manhattan</td>\n",
       "      <td>Office</td>\n",
       "      <td>1932</td>\n",
       "      <td>NaN</td>\n",
       "      <td>16887.0</td>\n",
       "      <td>20726.3</td>\n",
       "      <td>Not Available</td>\n",
       "      <td>Not Available</td>\n",
       "      <td>3221505.2</td>\n",
       "      <td>2161994.0</td>\n",
       "    </tr>\n",
       "    <tr>\n",
       "      <th>2936</th>\n",
       "      <td>1.012908e+09</td>\n",
       "      <td>1035762</td>\n",
       "      <td>2.0</td>\n",
       "      <td>EAST   55 STREET</td>\n",
       "      <td>10022.0</td>\n",
       "      <td>Manhattan</td>\n",
       "      <td>Hotel</td>\n",
       "      <td>1904</td>\n",
       "      <td>1.0</td>\n",
       "      <td>88338.3</td>\n",
       "      <td>106404.3</td>\n",
       "      <td>Not Available</td>\n",
       "      <td>Not Available</td>\n",
       "      <td>2482353.9</td>\n",
       "      <td>323504.0</td>\n",
       "    </tr>\n",
       "    <tr>\n",
       "      <th>3391</th>\n",
       "      <td>1.013910e+09</td>\n",
       "      <td>Not Available</td>\n",
       "      <td>981.0</td>\n",
       "      <td>MADISON AVENUE</td>\n",
       "      <td>10075.0</td>\n",
       "      <td>Manhattan</td>\n",
       "      <td>Hotel</td>\n",
       "      <td>1930</td>\n",
       "      <td>1.0</td>\n",
       "      <td>127429.9</td>\n",
       "      <td>153403.2</td>\n",
       "      <td>Not Available</td>\n",
       "      <td>Not Available</td>\n",
       "      <td>2470066.7</td>\n",
       "      <td>294142.0</td>\n",
       "    </tr>\n",
       "    <tr>\n",
       "      <th>1985</th>\n",
       "      <td>1.010110e+09</td>\n",
       "      <td>1023750</td>\n",
       "      <td>919.0</td>\n",
       "      <td>7 AVENUE</td>\n",
       "      <td>10019.0</td>\n",
       "      <td>Manhattan</td>\n",
       "      <td>Other - Lodging/Residential</td>\n",
       "      <td>1927</td>\n",
       "      <td>NaN</td>\n",
       "      <td>87342.8</td>\n",
       "      <td>105160.8</td>\n",
       "      <td>Not Available</td>\n",
       "      <td>Not Available</td>\n",
       "      <td>2320035.4</td>\n",
       "      <td>353996.0</td>\n",
       "    </tr>\n",
       "    <tr>\n",
       "      <th>3520</th>\n",
       "      <td>1.014158e+09</td>\n",
       "      <td>1043547</td>\n",
       "      <td>200.0</td>\n",
       "      <td>EAST   61 STREET</td>\n",
       "      <td>10065.0</td>\n",
       "      <td>Manhattan</td>\n",
       "      <td>Multifamily Housing</td>\n",
       "      <td>1984</td>\n",
       "      <td>1.0</td>\n",
       "      <td>131121.4</td>\n",
       "      <td>157841.6</td>\n",
       "      <td>Not Available</td>\n",
       "      <td>Not Available</td>\n",
       "      <td>2193812.2</td>\n",
       "      <td>322852.0</td>\n",
       "    </tr>\n",
       "  </tbody>\n",
       "</table>\n",
       "</div>"
      ],
      "text/plain": [
       "               BBL            BIN  Street Number           Street Name  \\\n",
       "903   1.007390e+09        1013043          103.0     8 AVENUE            \n",
       "2936  1.012908e+09        1035762            2.0  EAST   55 STREET       \n",
       "3391  1.013910e+09  Not Available          981.0  MADISON AVENUE         \n",
       "1985  1.010110e+09        1023750          919.0     7 AVENUE            \n",
       "3520  1.014158e+09        1043547          200.0  EAST   61 STREET       \n",
       "\n",
       "      Zip Code    Borough                Property Type Year Built  \\\n",
       "903    10011.0  Manhattan                       Office       1932   \n",
       "2936   10022.0  Manhattan                        Hotel       1904   \n",
       "3391   10075.0  Manhattan                        Hotel       1930   \n",
       "1985   10019.0  Manhattan  Other - Lodging/Residential       1927   \n",
       "3520   10065.0  Manhattan          Multifamily Housing       1984   \n",
       "\n",
       "      ENERGY STAR Score  Weather Normalized Site EUI (kBtu/ft²)  \\\n",
       "903                 NaN                                 16887.0   \n",
       "2936                1.0                                 88338.3   \n",
       "3391                1.0                                127429.9   \n",
       "1985                NaN                                 87342.8   \n",
       "3520                1.0                                131121.4   \n",
       "\n",
       "      Weather Normalized Source EUI (kBtu/ft²) Fuel Oil #4 Use (kBtu)  \\\n",
       "903                                    20726.3          Not Available   \n",
       "2936                                  106404.3          Not Available   \n",
       "3391                                  153403.2          Not Available   \n",
       "1985                                  105160.8          Not Available   \n",
       "3520                                  157841.6          Not Available   \n",
       "\n",
       "     Fuel Oil #5 & 6 Use (kBtu)  Emissions(CO2e)  \\\n",
       "903               Not Available        3221505.2   \n",
       "2936              Not Available        2482353.9   \n",
       "3391              Not Available        2470066.7   \n",
       "1985              Not Available        2320035.4   \n",
       "3520              Not Available        2193812.2   \n",
       "\n",
       "      DOF Property Floor Area (ft²)  \n",
       "903                       2161994.0  \n",
       "2936                       323504.0  \n",
       "3391                       294142.0  \n",
       "1985                       353996.0  \n",
       "3520                       322852.0  "
      ]
     },
     "execution_count": 400,
     "metadata": {},
     "output_type": "execute_result"
    }
   ],
   "source": [
    "energy.sort(columns=['Emissions(CO2e)'], axis=0, ascending=False, inplace=True)\n",
    "energy = energy[energy[\"BIN\"] != '1040808']\n",
    "energy.head()"
   ]
  },
  {
   "cell_type": "code",
   "execution_count": null,
   "metadata": {
    "collapsed": false
   },
   "outputs": [],
   "source": [
    "#energy['BIN'] = energy['BIN'].astype(float)"
   ]
  },
  {
   "cell_type": "markdown",
   "metadata": {},
   "source": [
    "## Importing and cleaning PLUTO data for Manhattan (other borough files were too large for Jupyter)"
   ]
  },
  {
   "cell_type": "code",
   "execution_count": 381,
   "metadata": {
    "collapsed": false
   },
   "outputs": [
    {
     "name": "stdout",
     "output_type": "stream",
     "text": [
      "17478\n"
     ]
    },
    {
     "data": {
      "text/plain": [
       "Index(['Borough', 'Block', 'Lot', 'CD', 'CT2010', 'CB2010', 'SchoolDist',\n",
       "       'Council', 'ZipCode', 'FireComp', 'PolicePrct', 'HealthArea', 'Address',\n",
       "       'ZoneDist1', 'BldgClass', 'LandUse', 'OwnerType', 'LotArea', 'BldgArea',\n",
       "       'ComArea', 'ResArea', 'OfficeArea', 'RetailArea', 'GarageArea',\n",
       "       'StrgeArea', 'FactryArea', 'OtherArea', 'AreaSource', 'NumBldgs',\n",
       "       'NumFloors', 'UnitsRes', 'UnitsTotal', 'LotType', 'BsmtCode',\n",
       "       'AssessLand', 'AssessTot', 'ExemptLand', 'ExemptTot', 'YearBuilt',\n",
       "       'BoroCode', 'BBL', 'Tract2010', 'XCoord', 'YCoord', 'PLUTOMapID',\n",
       "       'Version'],\n",
       "      dtype='object')"
      ]
     },
     "execution_count": 381,
     "metadata": {},
     "output_type": "execute_result"
    }
   ],
   "source": [
    "MHpluto = pd.read_csv('MN_reduced.csv').dropna()\n",
    "print(len(MHpluto))\n",
    "MHpluto.columns"
   ]
  },
  {
   "cell_type": "code",
   "execution_count": 382,
   "metadata": {
    "collapsed": false
   },
   "outputs": [
    {
     "data": {
      "text/html": [
       "<div>\n",
       "<table border=\"1\" class=\"dataframe\">\n",
       "  <thead>\n",
       "    <tr style=\"text-align: right;\">\n",
       "      <th></th>\n",
       "      <th>CT2010</th>\n",
       "      <th>CB2010</th>\n",
       "      <th>ZipCode</th>\n",
       "      <th>HealthArea</th>\n",
       "      <th>Address</th>\n",
       "      <th>LotArea</th>\n",
       "      <th>BldgArea</th>\n",
       "      <th>AssessTot</th>\n",
       "      <th>BBL</th>\n",
       "      <th>Tract2010</th>\n",
       "      <th>XCoord</th>\n",
       "      <th>YCoord</th>\n",
       "      <th>PLUTOMapID</th>\n",
       "    </tr>\n",
       "  </thead>\n",
       "  <tbody>\n",
       "    <tr>\n",
       "      <th>0</th>\n",
       "      <td>5.0</td>\n",
       "      <td>1018.0</td>\n",
       "      <td>10004.0</td>\n",
       "      <td>8100.0</td>\n",
       "      <td>1 GOVERNORS ISLAND</td>\n",
       "      <td>7736692</td>\n",
       "      <td>2725731</td>\n",
       "      <td>156510900</td>\n",
       "      <td>1000010010</td>\n",
       "      <td>5</td>\n",
       "      <td>979071.0</td>\n",
       "      <td>190225.0</td>\n",
       "      <td>1</td>\n",
       "    </tr>\n",
       "    <tr>\n",
       "      <th>1</th>\n",
       "      <td>1.0</td>\n",
       "      <td>1001.0</td>\n",
       "      <td>10004.0</td>\n",
       "      <td>8200.0</td>\n",
       "      <td>1 LIBERTY ISLAND</td>\n",
       "      <td>541886</td>\n",
       "      <td>541886</td>\n",
       "      <td>12197250</td>\n",
       "      <td>1000010101</td>\n",
       "      <td>1</td>\n",
       "      <td>971677.0</td>\n",
       "      <td>190636.0</td>\n",
       "      <td>1</td>\n",
       "    </tr>\n",
       "    <tr>\n",
       "      <th>5</th>\n",
       "      <td>9.0</td>\n",
       "      <td>1025.0</td>\n",
       "      <td>10004.0</td>\n",
       "      <td>7700.0</td>\n",
       "      <td>MARGINAL STREET</td>\n",
       "      <td>209215</td>\n",
       "      <td>280000</td>\n",
       "      <td>32193900</td>\n",
       "      <td>1000020001</td>\n",
       "      <td>9</td>\n",
       "      <td>980670.0</td>\n",
       "      <td>194440.0</td>\n",
       "      <td>1</td>\n",
       "    </tr>\n",
       "  </tbody>\n",
       "</table>\n",
       "</div>"
      ],
      "text/plain": [
       "   CT2010  CB2010  ZipCode  HealthArea                  Address  LotArea  \\\n",
       "0     5.0  1018.0  10004.0      8100.0       1 GOVERNORS ISLAND  7736692   \n",
       "1     1.0  1001.0  10004.0      8200.0         1 LIBERTY ISLAND   541886   \n",
       "5     9.0  1025.0  10004.0      7700.0          MARGINAL STREET   209215   \n",
       "\n",
       "   BldgArea  AssessTot         BBL  Tract2010    XCoord    YCoord  PLUTOMapID  \n",
       "0   2725731  156510900  1000010010          5  979071.0  190225.0           1  \n",
       "1    541886   12197250  1000010101          1  971677.0  190636.0           1  \n",
       "5    280000   32193900  1000020001          9  980670.0  194440.0           1  "
      ]
     },
     "execution_count": 382,
     "metadata": {},
     "output_type": "execute_result"
    }
   ],
   "source": [
    "MHpluto.drop(['Borough', 'Block', 'Lot', 'CD', 'Council', 'ComArea', 'ResArea', 'OfficeArea', 'RetailArea', \\\n",
    "              'GarageArea', 'StrgeArea', 'FactryArea', 'OtherArea', 'AreaSource', 'NumBldgs', 'ExemptLand', \\\n",
    "              'ExemptTot', 'YearBuilt', 'Version', 'ZoneDist1', 'UnitsRes', 'UnitsTotal', 'BsmtCode', \\\n",
    "              'AssessLand', 'BoroCode', 'FireComp', 'PolicePrct', 'SchoolDist', 'NumFloors', \\\n",
    "             'LotType', 'BldgClass', 'LandUse', 'OwnerType'], axis=1, inplace=True)\n",
    "MHpluto.head(3)"
   ]
  },
  {
   "cell_type": "code",
   "execution_count": 383,
   "metadata": {
    "collapsed": false
   },
   "outputs": [],
   "source": [
    "energy.BBL = energy.BBL.astype(float)\n",
    "MHpluto.BBL = MHpluto.BBL.astype(float)"
   ]
  },
  {
   "cell_type": "code",
   "execution_count": 426,
   "metadata": {
    "collapsed": false
   },
   "outputs": [
    {
     "name": "stdout",
     "output_type": "stream",
     "text": [
      "10744\n"
     ]
    },
    {
     "data": {
      "text/plain": [
       "17478"
      ]
     },
     "execution_count": 426,
     "metadata": {},
     "output_type": "execute_result"
    }
   ],
   "source": [
    "print(len(energy.BBL.unique()))\n",
    "len(MHpluto.BBL.unique())"
   ]
  },
  {
   "cell_type": "code",
   "execution_count": 9,
   "metadata": {
    "collapsed": false
   },
   "outputs": [
    {
     "data": {
      "text/plain": [
       "numpy.float64"
      ]
     },
     "execution_count": 9,
     "metadata": {},
     "output_type": "execute_result"
    }
   ],
   "source": [
    "type(MHpluto.BBL[1])"
   ]
  },
  {
   "cell_type": "code",
   "execution_count": 10,
   "metadata": {
    "collapsed": false
   },
   "outputs": [
    {
     "data": {
      "text/plain": [
       "numpy.float64"
      ]
     },
     "execution_count": 10,
     "metadata": {},
     "output_type": "execute_result"
    }
   ],
   "source": [
    "type(energy.BBL[1])"
   ]
  },
  {
   "cell_type": "markdown",
   "metadata": {},
   "source": [
    "## Merging building energy and PLUTO data for Manhattan (on Borough-Block-Lot)."
   ]
  },
  {
   "cell_type": "code",
   "execution_count": 401,
   "metadata": {
    "collapsed": false
   },
   "outputs": [
    {
     "name": "stdout",
     "output_type": "stream",
     "text": [
      "1990\n"
     ]
    },
    {
     "data": {
      "text/plain": [
       "Index(['BBL', 'BIN', 'Street Number', 'Street Name', 'Zip Code', 'Borough',\n",
       "       'Property Type', 'Year Built', 'ENERGY STAR Score',\n",
       "       'Weather Normalized Site EUI (kBtu/ft²)',\n",
       "       'Weather Normalized Source EUI (kBtu/ft²)', 'Fuel Oil #4 Use (kBtu)',\n",
       "       'Fuel Oil #5 & 6 Use (kBtu)', 'Emissions(CO2e)',\n",
       "       'DOF Property Floor Area (ft²)', 'CT2010', 'CB2010', 'ZipCode',\n",
       "       'HealthArea', 'Address', 'LotArea', 'BldgArea', 'AssessTot',\n",
       "       'Tract2010', 'XCoord', 'YCoord', 'PLUTOMapID'],\n",
       "      dtype='object')"
      ]
     },
     "execution_count": 401,
     "metadata": {},
     "output_type": "execute_result"
    }
   ],
   "source": [
    "energyPLUTO = pd.merge(energy, MHpluto, on=['BBL'], how='inner')\n",
    "#energyPLUTO.rename(columns={'Tract2010':'CT2010'}, inplace=True)\n",
    "energyPLUTO['CT2010'] = energyPLUTO['CT2010'].astype(float)\n",
    "print(len(energyPLUTO))\n",
    "energyPLUTO.columns"
   ]
  },
  {
   "cell_type": "code",
   "execution_count": 402,
   "metadata": {
    "collapsed": false
   },
   "outputs": [
    {
     "data": {
      "text/html": [
       "<div>\n",
       "<table border=\"1\" class=\"dataframe\">\n",
       "  <thead>\n",
       "    <tr style=\"text-align: right;\">\n",
       "      <th></th>\n",
       "      <th>BBL</th>\n",
       "      <th>BIN</th>\n",
       "      <th>Street Number</th>\n",
       "      <th>Street Name</th>\n",
       "      <th>Zip Code</th>\n",
       "      <th>Borough</th>\n",
       "      <th>Property Type</th>\n",
       "      <th>Year Built</th>\n",
       "      <th>ENERGY STAR Score</th>\n",
       "      <th>Weather Normalized Site EUI (kBtu/ft²)</th>\n",
       "      <th>...</th>\n",
       "      <th>ZipCode</th>\n",
       "      <th>HealthArea</th>\n",
       "      <th>Address</th>\n",
       "      <th>LotArea</th>\n",
       "      <th>BldgArea</th>\n",
       "      <th>AssessTot</th>\n",
       "      <th>Tract2010</th>\n",
       "      <th>XCoord</th>\n",
       "      <th>YCoord</th>\n",
       "      <th>PLUTOMapID</th>\n",
       "    </tr>\n",
       "  </thead>\n",
       "  <tbody>\n",
       "    <tr>\n",
       "      <th>0</th>\n",
       "      <td>1.007390e+09</td>\n",
       "      <td>1013043</td>\n",
       "      <td>103.0</td>\n",
       "      <td>8 AVENUE</td>\n",
       "      <td>10011.0</td>\n",
       "      <td>Manhattan</td>\n",
       "      <td>Office</td>\n",
       "      <td>1932</td>\n",
       "      <td>NaN</td>\n",
       "      <td>16887.0</td>\n",
       "      <td>...</td>\n",
       "      <td>10011.0</td>\n",
       "      <td>5600.0</td>\n",
       "      <td>103 8 AVENUE</td>\n",
       "      <td>165200</td>\n",
       "      <td>2161994</td>\n",
       "      <td>389704050</td>\n",
       "      <td>83</td>\n",
       "      <td>983361.0</td>\n",
       "      <td>209374.0</td>\n",
       "      <td>1</td>\n",
       "    </tr>\n",
       "    <tr>\n",
       "      <th>1</th>\n",
       "      <td>1.013910e+09</td>\n",
       "      <td>Not Available</td>\n",
       "      <td>981.0</td>\n",
       "      <td>MADISON AVENUE</td>\n",
       "      <td>10075.0</td>\n",
       "      <td>Manhattan</td>\n",
       "      <td>Hotel</td>\n",
       "      <td>1930</td>\n",
       "      <td>1.0</td>\n",
       "      <td>127429.9</td>\n",
       "      <td>...</td>\n",
       "      <td>10021.0</td>\n",
       "      <td>4100.0</td>\n",
       "      <td>981 MADISON AVENUE</td>\n",
       "      <td>18803</td>\n",
       "      <td>294142</td>\n",
       "      <td>70865100</td>\n",
       "      <td>130</td>\n",
       "      <td>994500.0</td>\n",
       "      <td>221407.0</td>\n",
       "      <td>1</td>\n",
       "    </tr>\n",
       "    <tr>\n",
       "      <th>2</th>\n",
       "      <td>1.010110e+09</td>\n",
       "      <td>1023750</td>\n",
       "      <td>919.0</td>\n",
       "      <td>7 AVENUE</td>\n",
       "      <td>10019.0</td>\n",
       "      <td>Manhattan</td>\n",
       "      <td>Other - Lodging/Residential</td>\n",
       "      <td>1927</td>\n",
       "      <td>NaN</td>\n",
       "      <td>87342.8</td>\n",
       "      <td>...</td>\n",
       "      <td>10019.0</td>\n",
       "      <td>4700.0</td>\n",
       "      <td>919 7 AVENUE</td>\n",
       "      <td>20083</td>\n",
       "      <td>353996</td>\n",
       "      <td>22344750</td>\n",
       "      <td>137</td>\n",
       "      <td>990067.0</td>\n",
       "      <td>218490.0</td>\n",
       "      <td>1</td>\n",
       "    </tr>\n",
       "    <tr>\n",
       "      <th>3</th>\n",
       "      <td>1.014158e+09</td>\n",
       "      <td>1043547</td>\n",
       "      <td>200.0</td>\n",
       "      <td>EAST   61 STREET</td>\n",
       "      <td>10065.0</td>\n",
       "      <td>Manhattan</td>\n",
       "      <td>Multifamily Housing</td>\n",
       "      <td>1984</td>\n",
       "      <td>1.0</td>\n",
       "      <td>131121.4</td>\n",
       "      <td>...</td>\n",
       "      <td>10065.0</td>\n",
       "      <td>4900.0</td>\n",
       "      <td>200 EAST 61 STREET</td>\n",
       "      <td>19983</td>\n",
       "      <td>251954</td>\n",
       "      <td>42912902</td>\n",
       "      <td>110</td>\n",
       "      <td>993782.0</td>\n",
       "      <td>217029.0</td>\n",
       "      <td>1</td>\n",
       "    </tr>\n",
       "    <tr>\n",
       "      <th>4</th>\n",
       "      <td>1.000680e+09</td>\n",
       "      <td>1001116</td>\n",
       "      <td>100.0</td>\n",
       "      <td>WILLIAM STREET</td>\n",
       "      <td>10038.0</td>\n",
       "      <td>Manhattan</td>\n",
       "      <td>Office</td>\n",
       "      <td>1972</td>\n",
       "      <td>1.0</td>\n",
       "      <td>59092.0</td>\n",
       "      <td>...</td>\n",
       "      <td>10038.0</td>\n",
       "      <td>7700.0</td>\n",
       "      <td>100 WILLIAM STREET</td>\n",
       "      <td>18513</td>\n",
       "      <td>377120</td>\n",
       "      <td>31847400</td>\n",
       "      <td>1502</td>\n",
       "      <td>982254.0</td>\n",
       "      <td>197346.0</td>\n",
       "      <td>1</td>\n",
       "    </tr>\n",
       "  </tbody>\n",
       "</table>\n",
       "<p>5 rows × 27 columns</p>\n",
       "</div>"
      ],
      "text/plain": [
       "            BBL            BIN  Street Number           Street Name  Zip Code  \\\n",
       "0  1.007390e+09        1013043          103.0     8 AVENUE            10011.0   \n",
       "1  1.013910e+09  Not Available          981.0  MADISON AVENUE         10075.0   \n",
       "2  1.010110e+09        1023750          919.0     7 AVENUE            10019.0   \n",
       "3  1.014158e+09        1043547          200.0  EAST   61 STREET       10065.0   \n",
       "4  1.000680e+09        1001116          100.0  WILLIAM STREET         10038.0   \n",
       "\n",
       "     Borough                Property Type Year Built  ENERGY STAR Score  \\\n",
       "0  Manhattan                       Office       1932                NaN   \n",
       "1  Manhattan                        Hotel       1930                1.0   \n",
       "2  Manhattan  Other - Lodging/Residential       1927                NaN   \n",
       "3  Manhattan          Multifamily Housing       1984                1.0   \n",
       "4  Manhattan                       Office       1972                1.0   \n",
       "\n",
       "   Weather Normalized Site EUI (kBtu/ft²)    ...      ZipCode HealthArea  \\\n",
       "0                                 16887.0    ...      10011.0     5600.0   \n",
       "1                                127429.9    ...      10021.0     4100.0   \n",
       "2                                 87342.8    ...      10019.0     4700.0   \n",
       "3                                131121.4    ...      10065.0     4900.0   \n",
       "4                                 59092.0    ...      10038.0     7700.0   \n",
       "\n",
       "              Address  LotArea  BldgArea  AssessTot  Tract2010    XCoord  \\\n",
       "0        103 8 AVENUE   165200   2161994  389704050         83  983361.0   \n",
       "1  981 MADISON AVENUE    18803    294142   70865100        130  994500.0   \n",
       "2        919 7 AVENUE    20083    353996   22344750        137  990067.0   \n",
       "3  200 EAST 61 STREET    19983    251954   42912902        110  993782.0   \n",
       "4  100 WILLIAM STREET    18513    377120   31847400       1502  982254.0   \n",
       "\n",
       "     YCoord PLUTOMapID  \n",
       "0  209374.0          1  \n",
       "1  221407.0          1  \n",
       "2  218490.0          1  \n",
       "3  217029.0          1  \n",
       "4  197346.0          1  \n",
       "\n",
       "[5 rows x 27 columns]"
      ]
     },
     "execution_count": 402,
     "metadata": {},
     "output_type": "execute_result"
    }
   ],
   "source": [
    "energyPLUTO.head()"
   ]
  },
  {
   "cell_type": "code",
   "execution_count": 403,
   "metadata": {
    "collapsed": false
   },
   "outputs": [],
   "source": [
    "energyPLUTO.to_csv(path_or_buf='energyPLUTO.csv')"
   ]
  },
  {
   "cell_type": "markdown",
   "metadata": {},
   "source": [
    "## Counting the buildings per zip code (not really necessary)"
   ]
  },
  {
   "cell_type": "code",
   "execution_count": 335,
   "metadata": {
    "collapsed": false
   },
   "outputs": [
    {
     "data": {
      "text/html": [
       "<div>\n",
       "<table border=\"1\" class=\"dataframe\">\n",
       "  <thead>\n",
       "    <tr style=\"text-align: right;\">\n",
       "      <th></th>\n",
       "      <th>Buildings/Zip</th>\n",
       "    </tr>\n",
       "    <tr>\n",
       "      <th>Zip Code</th>\n",
       "      <th></th>\n",
       "    </tr>\n",
       "  </thead>\n",
       "  <tbody>\n",
       "    <tr>\n",
       "      <th>10001.0</th>\n",
       "      <td>78</td>\n",
       "    </tr>\n",
       "    <tr>\n",
       "      <th>10002.0</th>\n",
       "      <td>20</td>\n",
       "    </tr>\n",
       "    <tr>\n",
       "      <th>10003.0</th>\n",
       "      <td>83</td>\n",
       "    </tr>\n",
       "  </tbody>\n",
       "</table>\n",
       "</div>"
      ],
      "text/plain": [
       "          Buildings/Zip\n",
       "Zip Code               \n",
       "10001.0              78\n",
       "10002.0              20\n",
       "10003.0              83"
      ]
     },
     "execution_count": 335,
     "metadata": {},
     "output_type": "execute_result"
    }
   ],
   "source": [
    "grouped = energyPLUTO.groupby('Zip Code')\n",
    "zips = pd.DataFrame(grouped['Zip Code'].apply(np.size))\n",
    "zips.rename(columns={'Zip Code':'Buildings/Zip'}, inplace=True)\n",
    "zips.head(3)"
   ]
  },
  {
   "cell_type": "markdown",
   "metadata": {},
   "source": [
    "## Importing and cleaning asthma data for Manhattan zip codes from 2012-2014. Discharge rate is per 10,000 population."
   ]
  },
  {
   "cell_type": "code",
   "execution_count": 114,
   "metadata": {
    "collapsed": false
   },
   "outputs": [
    {
     "name": "stdout",
     "output_type": "stream",
     "text": [
      "43\n",
      "Index(['﻿Zip Code', 'Discharges2012-2014', 'Discharge_Rate'], dtype='object')\n"
     ]
    },
    {
     "data": {
      "text/html": [
       "<div>\n",
       "<table border=\"1\" class=\"dataframe\">\n",
       "  <thead>\n",
       "    <tr style=\"text-align: right;\">\n",
       "      <th></th>\n",
       "      <th>﻿Zip Code</th>\n",
       "      <th>Discharges2012-2014</th>\n",
       "      <th>Discharge_Rate</th>\n",
       "    </tr>\n",
       "  </thead>\n",
       "  <tbody>\n",
       "    <tr>\n",
       "      <th>0</th>\n",
       "      <td>10001</td>\n",
       "      <td>159</td>\n",
       "      <td>21.9</td>\n",
       "    </tr>\n",
       "    <tr>\n",
       "      <th>1</th>\n",
       "      <td>10002</td>\n",
       "      <td>592</td>\n",
       "      <td>23.9</td>\n",
       "    </tr>\n",
       "    <tr>\n",
       "      <th>2</th>\n",
       "      <td>10003</td>\n",
       "      <td>130</td>\n",
       "      <td>7.7</td>\n",
       "    </tr>\n",
       "  </tbody>\n",
       "</table>\n",
       "</div>"
      ],
      "text/plain": [
       "   ﻿Zip Code Discharges2012-2014  Discharge_Rate\n",
       "0      10001                 159            21.9\n",
       "1      10002                 592            23.9\n",
       "2      10003                 130             7.7"
      ]
     },
     "execution_count": 114,
     "metadata": {},
     "output_type": "execute_result"
    }
   ],
   "source": [
    "MHasthma = pd.read_csv('MHasthma.csv')\n",
    "print(len(MHasthma))\n",
    "print(MHasthma.columns)\n",
    "MHasthma.head(3)"
   ]
  },
  {
   "cell_type": "code",
   "execution_count": 115,
   "metadata": {
    "collapsed": true
   },
   "outputs": [],
   "source": [
    "MHasthma.rename(columns={'﻿Zip Code':'Zip Code'}, inplace=True)"
   ]
  },
  {
   "cell_type": "code",
   "execution_count": 116,
   "metadata": {
    "collapsed": false
   },
   "outputs": [
    {
     "data": {
      "text/plain": [
       "numpy.int64"
      ]
     },
     "execution_count": 116,
     "metadata": {},
     "output_type": "execute_result"
    }
   ],
   "source": [
    "type(MHasthma['Zip Code'][1])"
   ]
  },
  {
   "cell_type": "code",
   "execution_count": 118,
   "metadata": {
    "collapsed": false
   },
   "outputs": [
    {
     "data": {
      "text/html": [
       "<div>\n",
       "<table border=\"1\" class=\"dataframe\">\n",
       "  <thead>\n",
       "    <tr style=\"text-align: right;\">\n",
       "      <th></th>\n",
       "      <th>Zip Code</th>\n",
       "      <th>Discharges2012-2014</th>\n",
       "      <th>Discharge_Rate</th>\n",
       "    </tr>\n",
       "  </thead>\n",
       "  <tbody>\n",
       "    <tr>\n",
       "      <th>0</th>\n",
       "      <td>10001.0</td>\n",
       "      <td>159</td>\n",
       "      <td>21.9</td>\n",
       "    </tr>\n",
       "    <tr>\n",
       "      <th>1</th>\n",
       "      <td>10002.0</td>\n",
       "      <td>592</td>\n",
       "      <td>23.9</td>\n",
       "    </tr>\n",
       "  </tbody>\n",
       "</table>\n",
       "</div>"
      ],
      "text/plain": [
       "   Zip Code Discharges2012-2014  Discharge_Rate\n",
       "0   10001.0                 159            21.9\n",
       "1   10002.0                 592            23.9"
      ]
     },
     "execution_count": 118,
     "metadata": {},
     "output_type": "execute_result"
    }
   ],
   "source": [
    "MHasthma['Zip Code'] = MHasthma['Zip Code'].astype(float)\n",
    "MHasthma.head(2)"
   ]
  },
  {
   "cell_type": "markdown",
   "metadata": {
    "collapsed": true
   },
   "source": [
    "## Merging household income with building energy and PLUTO data (last two already merged)"
   ]
  },
  {
   "cell_type": "code",
   "execution_count": 361,
   "metadata": {
    "collapsed": false
   },
   "outputs": [
    {
     "name": "stdout",
     "output_type": "stream",
     "text": [
      "5296\n"
     ]
    }
   ],
   "source": [
    "# census data from:\n",
    "# http://data.beta.nyc/dataset/median-household-income-2010-census-tracts/resource/5a7c26b5-f8b0-4a3f-87fe-56a9c2ff5692\n",
    "census = pd.read_csv('medianhouseholdincomecensustract.csv')\n",
    "print(len(census))"
   ]
  },
  {
   "cell_type": "code",
   "execution_count": 362,
   "metadata": {
    "collapsed": false
   },
   "outputs": [],
   "source": [
    "census.drop(['REtax_ACS', 'AVG_TTL', 'LOCALNAME', 'MCR_ANNUAL',\n",
    "       'MSMOC_TOT_', 'TAX_RET', 'Avg_TransC', 'REtaxperow', 'PERC_RENT', 'PERC_OWN', 'OHU_RENT', \\\n",
    "            'OHU_OWN', 'State', 'COUNTY'], axis=1, inplace=True)\n",
    "census.rename(columns={'TRACTCE10':'CT2010'}, inplace=True) \n",
    "census['CT2010'] = census['CT2010'].astype(float)"
   ]
  },
  {
   "cell_type": "markdown",
   "metadata": {},
   "source": [
    "005 - Bronx\n",
    "047 - Kings (Brooklyn)\n",
    "061 - New York (Manhattan)\n",
    "081 - Queens\n",
    "085 - Richmond (Staten Island)"
   ]
  },
  {
   "cell_type": "code",
   "execution_count": 417,
   "metadata": {
    "collapsed": false
   },
   "outputs": [
    {
     "name": "stdout",
     "output_type": "stream",
     "text": [
      "# of census tracts = \n",
      "288\n"
     ]
    },
    {
     "data": {
      "text/html": [
       "<div>\n",
       "<table border=\"1\" class=\"dataframe\">\n",
       "  <thead>\n",
       "    <tr style=\"text-align: right;\">\n",
       "      <th></th>\n",
       "      <th>FID</th>\n",
       "      <th>STATEFP10</th>\n",
       "      <th>COUNTYFP10</th>\n",
       "      <th>CT2010</th>\n",
       "      <th>GEOID10</th>\n",
       "      <th>INTPTLAT10</th>\n",
       "      <th>INTPTLON10</th>\n",
       "      <th>HH_COUNT</th>\n",
       "      <th>MHI</th>\n",
       "      <th>MED_VAL</th>\n",
       "      <th>HOUSINGCOS</th>\n",
       "      <th>DISP_INC</th>\n",
       "      <th>energy_cos</th>\n",
       "      <th>Shape_Area</th>\n",
       "    </tr>\n",
       "  </thead>\n",
       "  <tbody>\n",
       "    <tr>\n",
       "      <th>1699</th>\n",
       "      <td>1699</td>\n",
       "      <td>36</td>\n",
       "      <td>61</td>\n",
       "      <td>27100.0</td>\n",
       "      <td>36061027100</td>\n",
       "      <td>40.851939</td>\n",
       "      <td>-73.934291</td>\n",
       "      <td>2904</td>\n",
       "      <td>38125</td>\n",
       "      <td>536000</td>\n",
       "      <td>11068.7529</td>\n",
       "      <td>18670.89901</td>\n",
       "      <td>1764.860784</td>\n",
       "      <td>0.000021</td>\n",
       "    </tr>\n",
       "    <tr>\n",
       "      <th>1700</th>\n",
       "      <td>1700</td>\n",
       "      <td>36</td>\n",
       "      <td>61</td>\n",
       "      <td>12900.0</td>\n",
       "      <td>36061012900</td>\n",
       "      <td>40.765014</td>\n",
       "      <td>-73.999812</td>\n",
       "      <td>3354</td>\n",
       "      <td>76082</td>\n",
       "      <td>807900</td>\n",
       "      <td>21996.9303</td>\n",
       "      <td>29562.14132</td>\n",
       "      <td>1608.671016</td>\n",
       "      <td>0.000043</td>\n",
       "    </tr>\n",
       "    <tr>\n",
       "      <th>1701</th>\n",
       "      <td>1701</td>\n",
       "      <td>36</td>\n",
       "      <td>61</td>\n",
       "      <td>14401.0</td>\n",
       "      <td>36061014401</td>\n",
       "      <td>40.775249</td>\n",
       "      <td>-73.947552</td>\n",
       "      <td>2633</td>\n",
       "      <td>126518</td>\n",
       "      <td>668400</td>\n",
       "      <td>22181.4524</td>\n",
       "      <td>64418.82528</td>\n",
       "      <td>1718.090675</td>\n",
       "      <td>0.000008</td>\n",
       "    </tr>\n",
       "    <tr>\n",
       "      <th>1702</th>\n",
       "      <td>1702</td>\n",
       "      <td>36</td>\n",
       "      <td>61</td>\n",
       "      <td>9900.0</td>\n",
       "      <td>36061009900</td>\n",
       "      <td>40.752378</td>\n",
       "      <td>-74.008367</td>\n",
       "      <td>1091</td>\n",
       "      <td>122031</td>\n",
       "      <td>784700</td>\n",
       "      <td>26181.3474</td>\n",
       "      <td>58945.86916</td>\n",
       "      <td>1849.560190</td>\n",
       "      <td>0.000110</td>\n",
       "    </tr>\n",
       "    <tr>\n",
       "      <th>1703</th>\n",
       "      <td>1703</td>\n",
       "      <td>36</td>\n",
       "      <td>61</td>\n",
       "      <td>14601.0</td>\n",
       "      <td>36061014601</td>\n",
       "      <td>40.777192</td>\n",
       "      <td>-73.952161</td>\n",
       "      <td>2600</td>\n",
       "      <td>89846</td>\n",
       "      <td>713200</td>\n",
       "      <td>21611.7774</td>\n",
       "      <td>39691.01194</td>\n",
       "      <td>1415.971016</td>\n",
       "      <td>0.000008</td>\n",
       "    </tr>\n",
       "  </tbody>\n",
       "</table>\n",
       "</div>"
      ],
      "text/plain": [
       "       FID  STATEFP10 COUNTYFP10   CT2010      GEOID10  INTPTLAT10  \\\n",
       "1699  1699         36         61  27100.0  36061027100   40.851939   \n",
       "1700  1700         36         61  12900.0  36061012900   40.765014   \n",
       "1701  1701         36         61  14401.0  36061014401   40.775249   \n",
       "1702  1702         36         61   9900.0  36061009900   40.752378   \n",
       "1703  1703         36         61  14601.0  36061014601   40.777192   \n",
       "\n",
       "      INTPTLON10  HH_COUNT     MHI  MED_VAL  HOUSINGCOS     DISP_INC  \\\n",
       "1699  -73.934291      2904   38125   536000  11068.7529  18670.89901   \n",
       "1700  -73.999812      3354   76082   807900  21996.9303  29562.14132   \n",
       "1701  -73.947552      2633  126518   668400  22181.4524  64418.82528   \n",
       "1702  -74.008367      1091  122031   784700  26181.3474  58945.86916   \n",
       "1703  -73.952161      2600   89846   713200  21611.7774  39691.01194   \n",
       "\n",
       "       energy_cos  Shape_Area  \n",
       "1699  1764.860784    0.000021  \n",
       "1700  1608.671016    0.000043  \n",
       "1701  1718.090675    0.000008  \n",
       "1702  1849.560190    0.000110  \n",
       "1703  1415.971016    0.000008  "
      ]
     },
     "execution_count": 417,
     "metadata": {},
     "output_type": "execute_result"
    }
   ],
   "source": [
    "census['COUNTYFP10'] = census['COUNTYFP10'].astype(str)\n",
    "MHcensus = census[census['COUNTYFP10'] == '61']\n",
    "print('# of census tracts = ')\n",
    "print(len(MHcensus))\n",
    "MHcensus.head()"
   ]
  },
  {
   "cell_type": "markdown",
   "metadata": {},
   "source": [
    "### Filtering energy+PLUTO data by multifamily housing and grouping by census tract"
   ]
  },
  {
   "cell_type": "code",
   "execution_count": 438,
   "metadata": {
    "collapsed": true
   },
   "outputs": [],
   "source": [
    "energyPLUTO_res = energyPLUTO[energyPLUTO['Property Type'] == 'Multifamily Housing']\n",
    "energyPLUTO_ct = energyPLUTO_res.groupby(['CT2010'])[['Weather Normalized Site EUI (kBtu/ft²)', 'Emissions(CO2e)'\\\n",
    "                                          , 'DOF Property Floor Area (ft²)']].sum()\n",
    "energyPLUTO_ct['Total Site EUI'] = energyPLUTO_ct['Weather Normalized Site EUI (kBtu/ft²)'] * \\\n",
    "    energyPLUTO_ct['DOF Property Floor Area (ft²)']\n",
    "energyPLUTO_ct['CT2010'] = energyPLUTO_ct.index\n",
    "# need to remove period from CT2010\n",
    "y = len(energyPLUTO_ct)\n",
    "energyPLUTO_ct.index = np.arange(0,y)"
   ]
  },
  {
   "cell_type": "code",
   "execution_count": 442,
   "metadata": {
    "collapsed": false
   },
   "outputs": [
    {
     "name": "stdout",
     "output_type": "stream",
     "text": [
      "241\n"
     ]
    },
    {
     "data": {
      "text/html": [
       "<div>\n",
       "<table border=\"1\" class=\"dataframe\">\n",
       "  <thead>\n",
       "    <tr style=\"text-align: right;\">\n",
       "      <th></th>\n",
       "      <th>Weather Normalized Site EUI (kBtu/ft²)</th>\n",
       "      <th>Emissions(CO2e)</th>\n",
       "      <th>DOF Property Floor Area (ft²)</th>\n",
       "      <th>Total Site EUI</th>\n",
       "      <th>CT2010</th>\n",
       "    </tr>\n",
       "  </thead>\n",
       "  <tbody>\n",
       "    <tr>\n",
       "      <th>236</th>\n",
       "      <td>361.2</td>\n",
       "      <td>3918.5</td>\n",
       "      <td>510199.0</td>\n",
       "      <td>1.842839e+08</td>\n",
       "      <td>295.00</td>\n",
       "    </tr>\n",
       "    <tr>\n",
       "      <th>237</th>\n",
       "      <td>162.9</td>\n",
       "      <td>1304.1</td>\n",
       "      <td>204287.0</td>\n",
       "      <td>3.327835e+07</td>\n",
       "      <td>303.00</td>\n",
       "    </tr>\n",
       "    <tr>\n",
       "      <th>238</th>\n",
       "      <td>263.7</td>\n",
       "      <td>1522.4</td>\n",
       "      <td>189994.0</td>\n",
       "      <td>5.010142e+07</td>\n",
       "      <td>309.00</td>\n",
       "    </tr>\n",
       "    <tr>\n",
       "      <th>239</th>\n",
       "      <td>148.1</td>\n",
       "      <td>3817.7</td>\n",
       "      <td>698425.0</td>\n",
       "      <td>1.034367e+08</td>\n",
       "      <td>317.03</td>\n",
       "    </tr>\n",
       "    <tr>\n",
       "      <th>240</th>\n",
       "      <td>1081.5</td>\n",
       "      <td>17620.9</td>\n",
       "      <td>3444757.0</td>\n",
       "      <td>3.725505e+09</td>\n",
       "      <td>317.04</td>\n",
       "    </tr>\n",
       "  </tbody>\n",
       "</table>\n",
       "</div>"
      ],
      "text/plain": [
       "     Weather Normalized Site EUI (kBtu/ft²)  Emissions(CO2e)  \\\n",
       "236                                   361.2           3918.5   \n",
       "237                                   162.9           1304.1   \n",
       "238                                   263.7           1522.4   \n",
       "239                                   148.1           3817.7   \n",
       "240                                  1081.5          17620.9   \n",
       "\n",
       "     DOF Property Floor Area (ft²)  Total Site EUI  CT2010  \n",
       "236                       510199.0    1.842839e+08  295.00  \n",
       "237                       204287.0    3.327835e+07  303.00  \n",
       "238                       189994.0    5.010142e+07  309.00  \n",
       "239                       698425.0    1.034367e+08  317.03  \n",
       "240                      3444757.0    3.725505e+09  317.04  "
      ]
     },
     "execution_count": 442,
     "metadata": {},
     "output_type": "execute_result"
    }
   ],
   "source": [
    "print(y)\n",
    "energyPLUTO_ct.tail()"
   ]
  },
  {
   "cell_type": "code",
   "execution_count": 422,
   "metadata": {
    "collapsed": false
   },
   "outputs": [
    {
     "name": "stdout",
     "output_type": "stream",
     "text": [
      "# of census tracts left = \n",
      "257\n"
     ]
    },
    {
     "data": {
      "text/plain": [
       "Index(['BBL', 'BIN', 'Street Number', 'Street Name', 'Zip Code', 'Borough',\n",
       "       'Property Type', 'Year Built', 'ENERGY STAR Score',\n",
       "       'Weather Normalized Site EUI (kBtu/ft²)',\n",
       "       'Weather Normalized Source EUI (kBtu/ft²)', 'Fuel Oil #4 Use (kBtu)',\n",
       "       'Fuel Oil #5 & 6 Use (kBtu)', 'Emissions(CO2e)',\n",
       "       'DOF Property Floor Area (ft²)', 'CT2010', 'CB2010', 'ZipCode',\n",
       "       'HealthArea', 'Address', 'LotArea', 'BldgArea', 'AssessTot',\n",
       "       'Tract2010', 'XCoord', 'YCoord', 'PLUTOMapID', 'FID', 'STATEFP10',\n",
       "       'COUNTYFP10', 'GEOID10', 'INTPTLAT10', 'INTPTLON10', 'HH_COUNT', 'MHI',\n",
       "       'MED_VAL', 'HOUSINGCOS', 'DISP_INC', 'energy_cos', 'Shape_Area'],\n",
       "      dtype='object')"
      ]
     },
     "execution_count": 422,
     "metadata": {},
     "output_type": "execute_result"
    }
   ],
   "source": [
    "incmnrgplt = pd.merge(energyPLUTO, census, on='CT2010', how='inner')\n",
    "print('# of census tracts left = ')\n",
    "print(len(incmnrgplt))\n",
    "incmnrgplt.columns"
   ]
  },
  {
   "cell_type": "markdown",
   "metadata": {},
   "source": [
    "# 1.1 How can we develop a metric for understanding energy performance and peer building comparison that accounts for the differences in building and occupancy characteristics that impact consumption?"
   ]
  },
  {
   "cell_type": "markdown",
   "metadata": {
    "collapsed": true
   },
   "source": [
    "# 2.1 What is the relationship between building energy use and public health, measured by the local asthma hospitalization rate?"
   ]
  },
  {
   "cell_type": "markdown",
   "metadata": {},
   "source": [
    "### Merging just the building energy data with asthma data. Grouping building energy by zip code first. Leaving out PLUTO and Census for now.\n",
    "\n",
    "### Using Weather Normalized Site EUI, because the environmental impacts of a building's electricity source don't affect the health of people around the building (as long as, like most buildings, it gets its electricity from the grid)."
   ]
  },
  {
   "cell_type": "code",
   "execution_count": 341,
   "metadata": {
    "collapsed": false
   },
   "outputs": [],
   "source": [
    "energy_Zip = energy.groupby(['Zip Code'])[['Weather Normalized Site EUI (kBtu/ft²)', 'Emissions(CO2e)'\\\n",
    "                                          , 'DOF Property Floor Area (ft²)']].sum()"
   ]
  },
  {
   "cell_type": "code",
   "execution_count": 427,
   "metadata": {
    "collapsed": false
   },
   "outputs": [
    {
     "name": "stdout",
     "output_type": "stream",
     "text": [
      "188\n"
     ]
    },
    {
     "data": {
      "text/html": [
       "<div>\n",
       "<table border=\"1\" class=\"dataframe\">\n",
       "  <thead>\n",
       "    <tr style=\"text-align: right;\">\n",
       "      <th></th>\n",
       "      <th>Weather Normalized Site EUI (kBtu/ft²)</th>\n",
       "      <th>Emissions(CO2e)</th>\n",
       "      <th>DOF Property Floor Area (ft²)</th>\n",
       "      <th>Total Site EUI</th>\n",
       "      <th>Zip Code</th>\n",
       "    </tr>\n",
       "  </thead>\n",
       "  <tbody>\n",
       "    <tr>\n",
       "      <th>0</th>\n",
       "      <td>12612.0</td>\n",
       "      <td>285257.8</td>\n",
       "      <td>48767947.0</td>\n",
       "      <td>6.150613e+11</td>\n",
       "      <td>0</td>\n",
       "    </tr>\n",
       "    <tr>\n",
       "      <th>1</th>\n",
       "      <td>2998.4</td>\n",
       "      <td>33170.0</td>\n",
       "      <td>4658910.0</td>\n",
       "      <td>1.396928e+10</td>\n",
       "      <td>1</td>\n",
       "    </tr>\n",
       "    <tr>\n",
       "      <th>2</th>\n",
       "      <td>112037.2</td>\n",
       "      <td>2604604.4</td>\n",
       "      <td>30109217.0</td>\n",
       "      <td>3.373352e+12</td>\n",
       "      <td>2</td>\n",
       "    </tr>\n",
       "    <tr>\n",
       "      <th>3</th>\n",
       "      <td>22145.1</td>\n",
       "      <td>549393.4</td>\n",
       "      <td>20278695.0</td>\n",
       "      <td>4.490737e+11</td>\n",
       "      <td>3</td>\n",
       "    </tr>\n",
       "    <tr>\n",
       "      <th>4</th>\n",
       "      <td>78828.7</td>\n",
       "      <td>1356384.2</td>\n",
       "      <td>17566683.0</td>\n",
       "      <td>1.384759e+12</td>\n",
       "      <td>4</td>\n",
       "    </tr>\n",
       "  </tbody>\n",
       "</table>\n",
       "</div>"
      ],
      "text/plain": [
       "   Weather Normalized Site EUI (kBtu/ft²)  Emissions(CO2e)  \\\n",
       "0                                 12612.0         285257.8   \n",
       "1                                  2998.4          33170.0   \n",
       "2                                112037.2        2604604.4   \n",
       "3                                 22145.1         549393.4   \n",
       "4                                 78828.7        1356384.2   \n",
       "\n",
       "   DOF Property Floor Area (ft²)  Total Site EUI  Zip Code  \n",
       "0                     48767947.0    6.150613e+11         0  \n",
       "1                      4658910.0    1.396928e+10         1  \n",
       "2                     30109217.0    3.373352e+12         2  \n",
       "3                     20278695.0    4.490737e+11         3  \n",
       "4                     17566683.0    1.384759e+12         4  "
      ]
     },
     "execution_count": 427,
     "metadata": {},
     "output_type": "execute_result"
    }
   ],
   "source": [
    "energy_Zip['Total Site EUI'] = energy_Zip['Weather Normalized Site EUI (kBtu/ft²)'] * \\\n",
    "    energy_Zip['DOF Property Floor Area (ft²)']\n",
    "energy_Zip['Zip Code'] = energy_Zip.index\n",
    "x = len(energy_Zip)\n",
    "energy_Zip.index = np.arange(0,x)\n",
    "print(x)\n",
    "energy_Zip.head()"
   ]
  },
  {
   "cell_type": "code",
   "execution_count": 343,
   "metadata": {
    "collapsed": false
   },
   "outputs": [
    {
     "name": "stdout",
     "output_type": "stream",
     "text": [
      "42\n"
     ]
    },
    {
     "data": {
      "text/html": [
       "<div>\n",
       "<table border=\"1\" class=\"dataframe\">\n",
       "  <thead>\n",
       "    <tr style=\"text-align: right;\">\n",
       "      <th></th>\n",
       "      <th>Weather Normalized Site EUI (kBtu/ft²)</th>\n",
       "      <th>Emissions(CO2e)</th>\n",
       "      <th>DOF Property Floor Area (ft²)</th>\n",
       "      <th>Total Site EUI</th>\n",
       "      <th>Zip Code</th>\n",
       "      <th>Discharges2012-2014</th>\n",
       "      <th>Discharge_Rate</th>\n",
       "    </tr>\n",
       "  </thead>\n",
       "  <tbody>\n",
       "    <tr>\n",
       "      <th>0</th>\n",
       "      <td>12612.0</td>\n",
       "      <td>285257.8</td>\n",
       "      <td>48767947.0</td>\n",
       "      <td>6.150613e+11</td>\n",
       "      <td>10001</td>\n",
       "      <td>159.0</td>\n",
       "      <td>21.9</td>\n",
       "    </tr>\n",
       "    <tr>\n",
       "      <th>1</th>\n",
       "      <td>2998.4</td>\n",
       "      <td>33170.0</td>\n",
       "      <td>4658910.0</td>\n",
       "      <td>1.396928e+10</td>\n",
       "      <td>10002</td>\n",
       "      <td>592.0</td>\n",
       "      <td>23.9</td>\n",
       "    </tr>\n",
       "    <tr>\n",
       "      <th>2</th>\n",
       "      <td>112037.2</td>\n",
       "      <td>2604604.4</td>\n",
       "      <td>30109217.0</td>\n",
       "      <td>3.373352e+12</td>\n",
       "      <td>10003</td>\n",
       "      <td>130.0</td>\n",
       "      <td>7.7</td>\n",
       "    </tr>\n",
       "    <tr>\n",
       "      <th>3</th>\n",
       "      <td>22145.1</td>\n",
       "      <td>549393.4</td>\n",
       "      <td>20278695.0</td>\n",
       "      <td>4.490737e+11</td>\n",
       "      <td>10004</td>\n",
       "      <td>NaN</td>\n",
       "      <td>NaN</td>\n",
       "    </tr>\n",
       "    <tr>\n",
       "      <th>4</th>\n",
       "      <td>78828.7</td>\n",
       "      <td>1356384.2</td>\n",
       "      <td>17566683.0</td>\n",
       "      <td>1.384759e+12</td>\n",
       "      <td>10005</td>\n",
       "      <td>6.0</td>\n",
       "      <td>2.2</td>\n",
       "    </tr>\n",
       "  </tbody>\n",
       "</table>\n",
       "</div>"
      ],
      "text/plain": [
       "   Weather Normalized Site EUI (kBtu/ft²)  Emissions(CO2e)  \\\n",
       "0                                 12612.0         285257.8   \n",
       "1                                  2998.4          33170.0   \n",
       "2                                112037.2        2604604.4   \n",
       "3                                 22145.1         549393.4   \n",
       "4                                 78828.7        1356384.2   \n",
       "\n",
       "   DOF Property Floor Area (ft²)  Total Site EUI  Zip Code  \\\n",
       "0                     48767947.0    6.150613e+11     10001   \n",
       "1                      4658910.0    1.396928e+10     10002   \n",
       "2                     30109217.0    3.373352e+12     10003   \n",
       "3                     20278695.0    4.490737e+11     10004   \n",
       "4                     17566683.0    1.384759e+12     10005   \n",
       "\n",
       "   Discharges2012-2014  Discharge_Rate  \n",
       "0                159.0            21.9  \n",
       "1                592.0            23.9  \n",
       "2                130.0             7.7  \n",
       "3                  NaN             NaN  \n",
       "4                  6.0             2.2  "
      ]
     },
     "execution_count": 343,
     "metadata": {},
     "output_type": "execute_result"
    }
   ],
   "source": [
    "MHasthmaZip = pd.merge(energy_Zip, MHasthma, on=['Zip Code'], how='inner')\n",
    "MHasthmaZip['Discharges2012-2014'] = MHasthmaZip['Discharges2012-2014'].str.replace(',', '')\n",
    "MHasthmaZip['Discharges2012-2014'] = MHasthmaZip['Discharges2012-2014'].astype(float)\n",
    "MHasthmaZip['Zip Code'] = MHasthmaZip['Zip Code'].astype(int)\n",
    "MHasthmaZip.to_csv(path_or_buf='MH_asthma_energy_per_zip.csv')\n",
    "print(len(MHasthmaZip))\n",
    "MHasthmaZip.head()"
   ]
  },
  {
   "cell_type": "code",
   "execution_count": null,
   "metadata": {
    "collapsed": false
   },
   "outputs": [],
   "source": [
    "pl.figure(figsize=(8,4))\n",
    "pl.scatter(MHasthmaZip['Total Site EUI'], MHasthmaZip['Discharge_Rate'], s=100, \\\n",
    "           cmap='bone', label=('Zip Codes'), marker=\".\")\n",
    "pl.xlabel(\"Weather Normalized Site EUI * DOF Property Floor Area \", fontsize=10)\n",
    "pl.ylabel(\"Asthma Discharge Rate\", fontsize=10)\n",
    "pl.title(\"Building Energy Use and Asthma Discharge Rate Per MH Zip Code\", fontsize=14)\n",
    "pl.legend()"
   ]
  },
  {
   "cell_type": "code",
   "execution_count": null,
   "metadata": {
    "collapsed": false
   },
   "outputs": [],
   "source": [
    "pl.figure(figsize=(10,4))\n",
    "pl.scatter(MHasthmaZip['Emissions(CO2e)'], MHasthmaZip['Discharge_Rate'], s=100, \\\n",
    "           cmap='bone', label=('Zip Codes'), marker=\".\")\n",
    "pl.xlabel(\"Emissions(CO2e)\", fontsize=10)\n",
    "pl.ylabel(\"Asthma Discharge Rate\", fontsize=10)\n",
    "pl.title(\"Building Emissions and Asthma Discharge Rates Per MH Zip Code\", fontsize=14)\n",
    "pl.legend()"
   ]
  },
  {
   "cell_type": "code",
   "execution_count": null,
   "metadata": {
    "collapsed": false
   },
   "outputs": [],
   "source": [
    "pl.figure(figsize=(10,4))\n",
    "pl.scatter(MHasthmaZip['Emissions(CO2e)'], MHasthmaZip['Discharges2012-2014'], s=100, \\\n",
    "           cmap='bone', label=('Zip Codes'), marker=\".\")\n",
    "pl.xlabel(\"Emissions (CO2e) of all Buildings in Zip Code\", fontsize=10)\n",
    "pl.ylabel(\"Asthma Discharges 2012-2014\", fontsize=10)\n",
    "pl.title(\"Building Emissions and Asthma Discharges Per MH Zip Code\", fontsize=14)\n",
    "pl.legend()"
   ]
  },
  {
   "cell_type": "markdown",
   "metadata": {},
   "source": [
    "## 2.2 What is the relationship between neighborhood income and residential building energy use?"
   ]
  },
  {
   "cell_type": "code",
   "execution_count": 407,
   "metadata": {
    "collapsed": false
   },
   "outputs": [
    {
     "data": {
      "text/plain": [
       "Index(['BBL', 'BIN', 'Street Number', 'Street Name', 'Zip Code', 'Borough',\n",
       "       'Property Type', 'Year Built', 'ENERGY STAR Score',\n",
       "       'Weather Normalized Site EUI (kBtu/ft²)',\n",
       "       'Weather Normalized Source EUI (kBtu/ft²)', 'Fuel Oil #4 Use (kBtu)',\n",
       "       'Fuel Oil #5 & 6 Use (kBtu)', 'Emissions(CO2e)',\n",
       "       'DOF Property Floor Area (ft²)', 'CT2010', 'CB2010', 'ZipCode',\n",
       "       'HealthArea', 'Address', 'LotArea', 'BldgArea', 'AssessTot',\n",
       "       'Tract2010', 'XCoord', 'YCoord', 'PLUTOMapID', 'FID', 'STATEFP10',\n",
       "       'COUNTYFP10', 'GEOID10', 'INTPTLAT10', 'INTPTLON10', 'HH_COUNT', 'MHI',\n",
       "       'MED_VAL', 'HOUSINGCOS', 'DISP_INC', 'energy_cos', 'Shape_Area'],\n",
       "      dtype='object')"
      ]
     },
     "execution_count": 407,
     "metadata": {},
     "output_type": "execute_result"
    }
   ],
   "source": [
    "incmnrgplt.columns"
   ]
  },
  {
   "cell_type": "code",
   "execution_count": 410,
   "metadata": {
    "collapsed": false
   },
   "outputs": [
    {
     "data": {
      "text/plain": [
       "257"
      ]
     },
     "execution_count": 410,
     "metadata": {},
     "output_type": "execute_result"
    }
   ],
   "source": [
    "len(incmnrgplt)"
   ]
  },
  {
   "cell_type": "code",
   "execution_count": 409,
   "metadata": {
    "collapsed": false
   },
   "outputs": [
    {
     "data": {
      "text/plain": [
       "array(['Office', 'Hotel', 'Multifamily Housing', 'Other',\n",
       "       'Residence Hall/Dormitory', 'College/University', 'K-12 School'], dtype=object)"
      ]
     },
     "execution_count": 409,
     "metadata": {},
     "output_type": "execute_result"
    }
   ],
   "source": [
    "incmnrgplt['Property Type'].unique()"
   ]
  },
  {
   "cell_type": "code",
   "execution_count": 423,
   "metadata": {
    "collapsed": false
   },
   "outputs": [
    {
     "name": "stdout",
     "output_type": "stream",
     "text": [
      "Number of census tracts out of 257 that have multifamily housing  =\n"
     ]
    },
    {
     "data": {
      "text/plain": [
       "74"
      ]
     },
     "execution_count": 423,
     "metadata": {},
     "output_type": "execute_result"
    }
   ],
   "source": [
    "incmnrgplt = incmnrgplt[incmnrgplt['Property Type'] == 'Multifamily Housing']\n",
    "print('Number of census tracts out of 257 that have multifamily housing  =')\n",
    "len(incmnrgplt)"
   ]
  },
  {
   "cell_type": "code",
   "execution_count": 406,
   "metadata": {
    "collapsed": true
   },
   "outputs": [],
   "source": [
    "incmnrgplt.to_csv(path_or_buf='incmnrgplt.csv')"
   ]
  },
  {
   "cell_type": "code",
   "execution_count": null,
   "metadata": {
    "collapsed": true
   },
   "outputs": [],
   "source": []
  }
 ],
 "metadata": {
  "kernelspec": {
   "display_name": "PUI2016_Python3",
   "language": "python",
   "name": "pui2016_python3"
  },
  "language_info": {
   "codemirror_mode": {
    "name": "ipython",
    "version": 3
   },
   "file_extension": ".py",
   "mimetype": "text/x-python",
   "name": "python",
   "nbconvert_exporter": "python",
   "pygments_lexer": "ipython3",
   "version": "3.5.2"
  }
 },
 "nbformat": 4,
 "nbformat_minor": 0
}
