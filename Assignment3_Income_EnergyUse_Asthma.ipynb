{
 "cells": [
  {
   "cell_type": "code",
   "execution_count": 676,
   "metadata": {
    "collapsed": false
   },
   "outputs": [
    {
     "name": "stdout",
     "output_type": "stream",
     "text": [
      "Populating the interactive namespace from numpy and matplotlib\n"
     ]
    }
   ],
   "source": [
    "import os\n",
    "import pandas as pd\n",
    "import geopandas as gpd\n",
    "import pylab as pl\n",
    "\n",
    "import statsmodels.api as sm\n",
    "\n",
    "import pysal as ps\n",
    "\n",
    "import numpy as np\n",
    "import matplotlib.mlab as mlab\n",
    "import matplotlib.pyplot as plt\n",
    "%pylab inline"
   ]
  },
  {
   "cell_type": "code",
   "execution_count": 677,
   "metadata": {
    "collapsed": false
   },
   "outputs": [
    {
     "name": "stdout",
     "output_type": "stream",
     "text": [
      "PUIDATA env variable is set\n"
     ]
    }
   ],
   "source": [
    "if os.getenv(\"PUIDATA\") is None:\n",
    "    print (\"must set PUIDATA env variable\")\n",
    "else:\n",
    "    print('PUIDATA env variable is set')"
   ]
  },
  {
   "cell_type": "markdown",
   "metadata": {},
   "source": [
    "# Data Munging"
   ]
  },
  {
   "cell_type": "markdown",
   "metadata": {},
   "source": [
    "## Importing and cleaning energy usage data (LL84) per building in NYC for 2015 (reported in 2016)"
   ]
  },
  {
   "cell_type": "code",
   "execution_count": 614,
   "metadata": {
    "collapsed": false
   },
   "outputs": [
    {
     "name": "stdout",
     "output_type": "stream",
     "text": [
      "13223\n"
     ]
    },
    {
     "data": {
      "text/html": [
       "<div>\n",
       "<table border=\"1\" class=\"dataframe\">\n",
       "  <thead>\n",
       "    <tr style=\"text-align: right;\">\n",
       "      <th></th>\n",
       "      <th>﻿Record Number</th>\n",
       "      <th>Order</th>\n",
       "      <th>NYC Borough, Block and Lot (BBL)</th>\n",
       "      <th>Co-reported BBL Status</th>\n",
       "      <th>BBLs Co-reported</th>\n",
       "      <th>Reported NYC Building Identification Numbers (BINs)</th>\n",
       "      <th>Property Name</th>\n",
       "      <th>Parent Property Id</th>\n",
       "      <th>Parent Property Name</th>\n",
       "      <th>Street Number</th>\n",
       "      <th>...</th>\n",
       "      <th>Direct GHG Emissions (Metric Tons CO2e)</th>\n",
       "      <th>Indirect GHG Emissions (Metric Tons CO2e)</th>\n",
       "      <th>DOF Property Floor Area (ft²)</th>\n",
       "      <th>Property GFA - Self-reported (ft²)</th>\n",
       "      <th>Water Use (All Water Sources) (kgal)</th>\n",
       "      <th>Municipally Supplied Potable Water - Indoor Intensity (gal/ft²)</th>\n",
       "      <th>Release Date</th>\n",
       "      <th>DEP Provided Water Use (kgal)</th>\n",
       "      <th>Automatic Water Benchmarking Eligible</th>\n",
       "      <th>Reported Water Method</th>\n",
       "    </tr>\n",
       "  </thead>\n",
       "  <tbody>\n",
       "    <tr>\n",
       "      <th>0</th>\n",
       "      <td>4113711.0</td>\n",
       "      <td>1</td>\n",
       "      <td>1.003360e+09</td>\n",
       "      <td>NaN</td>\n",
       "      <td>NaN</td>\n",
       "      <td>1088884</td>\n",
       "      <td>16 Bialystoker Place</td>\n",
       "      <td>Not Applicable: Standalone Property</td>\n",
       "      <td>Not Applicable: Standalone Property</td>\n",
       "      <td>15.0</td>\n",
       "      <td>...</td>\n",
       "      <td>290.2</td>\n",
       "      <td>146.1</td>\n",
       "      <td>98052.0</td>\n",
       "      <td>98000.0</td>\n",
       "      <td>NaN</td>\n",
       "      <td>NaN</td>\n",
       "      <td>4/13/16 11:08 AM</td>\n",
       "      <td>NaN</td>\n",
       "      <td>NaN</td>\n",
       "      <td>NaN</td>\n",
       "    </tr>\n",
       "  </tbody>\n",
       "</table>\n",
       "<p>1 rows × 57 columns</p>\n",
       "</div>"
      ],
      "text/plain": [
       "   ﻿Record Number  Order  NYC Borough, Block and Lot (BBL)  \\\n",
       "0       4113711.0      1                      1.003360e+09   \n",
       "\n",
       "  Co-reported BBL Status BBLs Co-reported  \\\n",
       "0                    NaN              NaN   \n",
       "\n",
       "  Reported NYC Building Identification Numbers (BINs)         Property Name  \\\n",
       "0                                            1088884   16 Bialystoker Place   \n",
       "\n",
       "                    Parent Property Id                 Parent Property Name  \\\n",
       "0  Not Applicable: Standalone Property  Not Applicable: Standalone Property   \n",
       "\n",
       "   Street Number          ...           \\\n",
       "0           15.0          ...            \n",
       "\n",
       "  Direct GHG Emissions (Metric Tons CO2e)  \\\n",
       "0                                   290.2   \n",
       "\n",
       "   Indirect GHG Emissions (Metric Tons CO2e) DOF Property Floor Area (ft²)  \\\n",
       "0                                      146.1                       98052.0   \n",
       "\n",
       "  Property GFA - Self-reported (ft²) Water Use (All Water Sources) (kgal)  \\\n",
       "0                            98000.0                                  NaN   \n",
       "\n",
       "  Municipally Supplied Potable Water - Indoor Intensity (gal/ft²)  \\\n",
       "0                                                NaN                \n",
       "\n",
       "       Release Date  DEP Provided Water Use (kgal)  \\\n",
       "0  4/13/16 11:08 AM                            NaN   \n",
       "\n",
       "  Automatic Water Benchmarking Eligible Reported Water Method  \n",
       "0                                   NaN                   NaN  \n",
       "\n",
       "[1 rows x 57 columns]"
      ]
     },
     "execution_count": 614,
     "metadata": {},
     "output_type": "execute_result"
    }
   ],
   "source": [
    "energy = pd.read_csv(\"nyc_benchmarking_disclosure_data_reported_in_2016.csv\")\n",
    "print(len(energy))\n",
    "energy.head(1)"
   ]
  },
  {
   "cell_type": "code",
   "execution_count": 615,
   "metadata": {
    "collapsed": false
   },
   "outputs": [
    {
     "data": {
      "text/html": [
       "<div>\n",
       "<table border=\"1\" class=\"dataframe\">\n",
       "  <thead>\n",
       "    <tr style=\"text-align: right;\">\n",
       "      <th></th>\n",
       "      <th>BBL</th>\n",
       "      <th>BIN</th>\n",
       "      <th>Street Number</th>\n",
       "      <th>Street Name</th>\n",
       "      <th>Zip Code</th>\n",
       "      <th>Borough</th>\n",
       "      <th>Property Type</th>\n",
       "      <th>Year Built</th>\n",
       "      <th>ENERGY STAR Score</th>\n",
       "      <th>Weather Normalized Site EUI (kBtu/ft²)</th>\n",
       "      <th>Weather Normalized Source EUI (kBtu/ft²)</th>\n",
       "      <th>Fuel Oil #4 Use (kBtu)</th>\n",
       "      <th>Fuel Oil #5 &amp; 6 Use (kBtu)</th>\n",
       "      <th>Emissions(CO2e)</th>\n",
       "      <th>directCO2e</th>\n",
       "      <th>indirectCO2e</th>\n",
       "      <th>DOF Property Floor Area (ft²)</th>\n",
       "    </tr>\n",
       "  </thead>\n",
       "  <tbody>\n",
       "    <tr>\n",
       "      <th>0</th>\n",
       "      <td>1.003360e+09</td>\n",
       "      <td>1088884</td>\n",
       "      <td>15.0</td>\n",
       "      <td>BIALYSTOKER PLACE</td>\n",
       "      <td>10002.0</td>\n",
       "      <td>Manhattan</td>\n",
       "      <td>Multifamily Housing</td>\n",
       "      <td>1982</td>\n",
       "      <td>87.0</td>\n",
       "      <td>74.4</td>\n",
       "      <td>115.7</td>\n",
       "      <td>Not Available</td>\n",
       "      <td>Not Available</td>\n",
       "      <td>436.3</td>\n",
       "      <td>290.2</td>\n",
       "      <td>146.1</td>\n",
       "      <td>98052.0</td>\n",
       "    </tr>\n",
       "  </tbody>\n",
       "</table>\n",
       "</div>"
      ],
      "text/plain": [
       "            BBL      BIN  Street Number           Street Name  Zip Code  \\\n",
       "0  1.003360e+09  1088884           15.0  BIALYSTOKER PLACE      10002.0   \n",
       "\n",
       "     Borough        Property Type Year Built  ENERGY STAR Score  \\\n",
       "0  Manhattan  Multifamily Housing       1982               87.0   \n",
       "\n",
       "   Weather Normalized Site EUI (kBtu/ft²)  \\\n",
       "0                                    74.4   \n",
       "\n",
       "   Weather Normalized Source EUI (kBtu/ft²) Fuel Oil #4 Use (kBtu)  \\\n",
       "0                                     115.7          Not Available   \n",
       "\n",
       "  Fuel Oil #5 & 6 Use (kBtu)  Emissions(CO2e)  directCO2e  indirectCO2e  \\\n",
       "0              Not Available            436.3       290.2         146.1   \n",
       "\n",
       "   DOF Property Floor Area (ft²)  \n",
       "0                        98052.0  "
      ]
     },
     "execution_count": 615,
     "metadata": {},
     "output_type": "execute_result"
    }
   ],
   "source": [
    "energy.rename(columns={'NYC Borough, Block and Lot (BBL)':\"BBL\", \\\n",
    "                       'Reported NYC Building Identification Numbers (BINs)':'BIN', \\\n",
    "                       'Direct GHG Emissions (Metric Tons CO2e)':'directCO2e', \\\n",
    "                       'Indirect GHG Emissions (Metric Tons CO2e)':'indirectCO2e', \\\n",
    "                      'Total GHG Emissions (Metric Tons CO2e)':'Emissions(CO2e)', \\\n",
    "                      'Water Use (All Water Sources) (kgal)':'water_use', \\\n",
    "                       'Primary Property Type - Self Selected':'Property Type',\n",
    "                      'Electricity Use - Grid Purchase (kBtu)':'grid_electricity(kBtu)'}, inplace=True)\n",
    "energy.drop(['Municipally Supplied Potable Water - Indoor Intensity (gal/ft²)', 'Property GFA - Self-reported (ft²)', \\\n",
    "            'DEP Provided Water Use (kgal)', 'Automatic Water Benchmarking Eligible', 'Co-reported BBL Status', \\\n",
    "            'BBLs Co-reported', 'Weather Normalized Site Natural Gas Use (therms)', 'Reported Water Method', \\\n",
    "            'District Chilled Water Use (kBtu)', 'Natural Gas Use (kBtu)', 'District Steam Use (kBtu)', \\\n",
    "            'District Hot Water Use (kBtu)', 'Diesel #2 Use (kBtu)', 'DOF Benchmarking Submission Status',\n",
    "       'water_use', 'Release Date',\n",
    "       'List of All Property Use Types at Property',\n",
    "       'Largest Property Use Type', 'Metered Areas (Energy)', 'Metered Areas  (Water)',\n",
    "       'Largest Property Use Type - Gross Floor Area (ft²)',\n",
    "       '2nd Largest Property Use Type', 'Order', 'Weather Normalized Site Electricity (kWh)',\n",
    "       '2nd Largest Property Use - Gross Floor Area (ft²)',\n",
    "       '3rd Largest Property Use Type', '﻿Record Number',\n",
    "       '3rd Largest Property Use Type - Gross Floor Area (ft²)','Fuel Oil #1 Use (kBtu)', 'Fuel Oil #2 Use (kBtu)', \\\n",
    "              'Weather Normalized Site Electricity Intensity (kWh/ft²)',\n",
    "       'Weather Normalized Site Natural Gas Intensity (therms/ft²)',\n",
    "       'Source EUI (kBtu/ft²)','Property Name', 'grid_electricity(kBtu)', 'Occupancy',\n",
    "       'Parent Property Id', 'Parent Property Name','Site EUI (kBtu/ft²)','Number of Buildings - Self-reported'], axis=1, inplace=True)\n",
    "energy.head(1)"
   ]
  },
  {
   "cell_type": "code",
   "execution_count": 616,
   "metadata": {
    "collapsed": false,
    "scrolled": true
   },
   "outputs": [
    {
     "data": {
      "text/plain": [
       "Index(['BBL', 'BIN', 'Street Number', 'Street Name', 'Zip Code', 'Borough',\n",
       "       'Property Type', 'Year Built', 'ENERGY STAR Score',\n",
       "       'Weather Normalized Site EUI (kBtu/ft²)',\n",
       "       'Weather Normalized Source EUI (kBtu/ft²)', 'Fuel Oil #4 Use (kBtu)',\n",
       "       'Fuel Oil #5 & 6 Use (kBtu)', 'Emissions(CO2e)', 'directCO2e',\n",
       "       'indirectCO2e', 'DOF Property Floor Area (ft²)'],\n",
       "      dtype='object')"
      ]
     },
     "execution_count": 616,
     "metadata": {},
     "output_type": "execute_result"
    }
   ],
   "source": [
    "energy.columns"
   ]
  },
  {
   "cell_type": "code",
   "execution_count": 617,
   "metadata": {
    "collapsed": false
   },
   "outputs": [
    {
     "data": {
      "text/plain": [
       "10745"
      ]
     },
     "execution_count": 617,
     "metadata": {},
     "output_type": "execute_result"
    }
   ],
   "source": [
    "energy = energy[energy[\"BIN\"].str.contains(';')==False]\n",
    "energy = energy[energy[\"BIN\"].str.contains(',')==False]\n",
    "energy = energy[energy[\"BIN\"].str.contains(':')==False]\n",
    "energy = energy[energy[\"BIN\"].str.contains('-')==False]\n",
    "len(energy)"
   ]
  },
  {
   "cell_type": "code",
   "execution_count": 618,
   "metadata": {
    "collapsed": false
   },
   "outputs": [
    {
     "name": "stderr",
     "output_type": "stream",
     "text": [
      "/opt/rh/anaconda/root/envs/PUI2016_Python3/lib/python3.5/site-packages/ipykernel/__main__.py:3: FutureWarning: sort(columns=....) is deprecated, use sort_values(by=.....)\n",
      "  app.launch_new_instance()\n"
     ]
    },
    {
     "data": {
      "text/html": [
       "<div>\n",
       "<table border=\"1\" class=\"dataframe\">\n",
       "  <thead>\n",
       "    <tr style=\"text-align: right;\">\n",
       "      <th></th>\n",
       "      <th>BBL</th>\n",
       "      <th>BIN</th>\n",
       "      <th>Street Number</th>\n",
       "      <th>Street Name</th>\n",
       "      <th>Zip Code</th>\n",
       "      <th>Borough</th>\n",
       "      <th>Property Type</th>\n",
       "      <th>Year Built</th>\n",
       "      <th>ENERGY STAR Score</th>\n",
       "      <th>Weather Normalized Site EUI (kBtu/ft²)</th>\n",
       "      <th>Weather Normalized Source EUI (kBtu/ft²)</th>\n",
       "      <th>Fuel Oil #4 Use (kBtu)</th>\n",
       "      <th>Fuel Oil #5 &amp; 6 Use (kBtu)</th>\n",
       "      <th>Emissions(CO2e)</th>\n",
       "      <th>directCO2e</th>\n",
       "      <th>indirectCO2e</th>\n",
       "      <th>DOF Property Floor Area (ft²)</th>\n",
       "    </tr>\n",
       "  </thead>\n",
       "  <tbody>\n",
       "    <tr>\n",
       "      <th>3293</th>\n",
       "      <td>1.013758e+09</td>\n",
       "      <td>1040808</td>\n",
       "      <td>660.0</td>\n",
       "      <td>MADISON AVENUE</td>\n",
       "      <td>10065</td>\n",
       "      <td>Manhattan</td>\n",
       "      <td>Office</td>\n",
       "      <td>1958</td>\n",
       "      <td>1.0</td>\n",
       "      <td>NaN</td>\n",
       "      <td>NaN</td>\n",
       "      <td>Not Available</td>\n",
       "      <td>Not Available</td>\n",
       "      <td>15014684.7</td>\n",
       "      <td>134.7</td>\n",
       "      <td>15014550.0</td>\n",
       "      <td>475963.0</td>\n",
       "    </tr>\n",
       "    <tr>\n",
       "      <th>903</th>\n",
       "      <td>1.007390e+09</td>\n",
       "      <td>1013043</td>\n",
       "      <td>103.0</td>\n",
       "      <td>8 AVENUE</td>\n",
       "      <td>10011</td>\n",
       "      <td>Manhattan</td>\n",
       "      <td>Office</td>\n",
       "      <td>1932</td>\n",
       "      <td>NaN</td>\n",
       "      <td>16887.0</td>\n",
       "      <td>20726.3</td>\n",
       "      <td>Not Available</td>\n",
       "      <td>Not Available</td>\n",
       "      <td>3221505.2</td>\n",
       "      <td>26.2</td>\n",
       "      <td>3221479.0</td>\n",
       "      <td>2161994.0</td>\n",
       "    </tr>\n",
       "    <tr>\n",
       "      <th>2936</th>\n",
       "      <td>1.012908e+09</td>\n",
       "      <td>1035762</td>\n",
       "      <td>2.0</td>\n",
       "      <td>EAST   55 STREET</td>\n",
       "      <td>10022</td>\n",
       "      <td>Manhattan</td>\n",
       "      <td>Hotel</td>\n",
       "      <td>1904</td>\n",
       "      <td>1.0</td>\n",
       "      <td>88338.3</td>\n",
       "      <td>106404.3</td>\n",
       "      <td>Not Available</td>\n",
       "      <td>Not Available</td>\n",
       "      <td>2482353.9</td>\n",
       "      <td>256.9</td>\n",
       "      <td>2482097.0</td>\n",
       "      <td>323504.0</td>\n",
       "    </tr>\n",
       "    <tr>\n",
       "      <th>3391</th>\n",
       "      <td>1.013910e+09</td>\n",
       "      <td>Not Available</td>\n",
       "      <td>981.0</td>\n",
       "      <td>MADISON AVENUE</td>\n",
       "      <td>10075</td>\n",
       "      <td>Manhattan</td>\n",
       "      <td>Hotel</td>\n",
       "      <td>1930</td>\n",
       "      <td>1.0</td>\n",
       "      <td>127429.9</td>\n",
       "      <td>153403.2</td>\n",
       "      <td>Not Available</td>\n",
       "      <td>Not Available</td>\n",
       "      <td>2470066.7</td>\n",
       "      <td>126.7</td>\n",
       "      <td>2469940.0</td>\n",
       "      <td>294142.0</td>\n",
       "    </tr>\n",
       "    <tr>\n",
       "      <th>1985</th>\n",
       "      <td>1.010110e+09</td>\n",
       "      <td>1023750</td>\n",
       "      <td>919.0</td>\n",
       "      <td>7 AVENUE</td>\n",
       "      <td>10019</td>\n",
       "      <td>Manhattan</td>\n",
       "      <td>Other - Lodging/Residential</td>\n",
       "      <td>1927</td>\n",
       "      <td>NaN</td>\n",
       "      <td>87342.8</td>\n",
       "      <td>105160.8</td>\n",
       "      <td>Not Available</td>\n",
       "      <td>Not Available</td>\n",
       "      <td>2320035.4</td>\n",
       "      <td>187.4</td>\n",
       "      <td>2319848.0</td>\n",
       "      <td>353996.0</td>\n",
       "    </tr>\n",
       "  </tbody>\n",
       "</table>\n",
       "</div>"
      ],
      "text/plain": [
       "               BBL            BIN  Street Number           Street Name  \\\n",
       "3293  1.013758e+09        1040808          660.0  MADISON AVENUE         \n",
       "903   1.007390e+09        1013043          103.0     8 AVENUE            \n",
       "2936  1.012908e+09        1035762            2.0  EAST   55 STREET       \n",
       "3391  1.013910e+09  Not Available          981.0  MADISON AVENUE         \n",
       "1985  1.010110e+09        1023750          919.0     7 AVENUE            \n",
       "\n",
       "     Zip Code    Borough                Property Type Year Built  \\\n",
       "3293    10065  Manhattan                       Office       1958   \n",
       "903     10011  Manhattan                       Office       1932   \n",
       "2936    10022  Manhattan                        Hotel       1904   \n",
       "3391    10075  Manhattan                        Hotel       1930   \n",
       "1985    10019  Manhattan  Other - Lodging/Residential       1927   \n",
       "\n",
       "      ENERGY STAR Score  Weather Normalized Site EUI (kBtu/ft²)  \\\n",
       "3293                1.0                                     NaN   \n",
       "903                 NaN                                 16887.0   \n",
       "2936                1.0                                 88338.3   \n",
       "3391                1.0                                127429.9   \n",
       "1985                NaN                                 87342.8   \n",
       "\n",
       "      Weather Normalized Source EUI (kBtu/ft²) Fuel Oil #4 Use (kBtu)  \\\n",
       "3293                                       NaN          Not Available   \n",
       "903                                    20726.3          Not Available   \n",
       "2936                                  106404.3          Not Available   \n",
       "3391                                  153403.2          Not Available   \n",
       "1985                                  105160.8          Not Available   \n",
       "\n",
       "     Fuel Oil #5 & 6 Use (kBtu)  Emissions(CO2e)  directCO2e  indirectCO2e  \\\n",
       "3293              Not Available       15014684.7       134.7    15014550.0   \n",
       "903               Not Available        3221505.2        26.2     3221479.0   \n",
       "2936              Not Available        2482353.9       256.9     2482097.0   \n",
       "3391              Not Available        2470066.7       126.7     2469940.0   \n",
       "1985              Not Available        2320035.4       187.4     2319848.0   \n",
       "\n",
       "      DOF Property Floor Area (ft²)  \n",
       "3293                       475963.0  \n",
       "903                       2161994.0  \n",
       "2936                       323504.0  \n",
       "3391                       294142.0  \n",
       "1985                       353996.0  "
      ]
     },
     "execution_count": 618,
     "metadata": {},
     "output_type": "execute_result"
    }
   ],
   "source": [
    "energy['Zip Code'] = energy['Zip Code'].astype(str)\n",
    "energy['Zip Code'] = energy['Zip Code'].map(lambda x: x.lstrip('').rstrip('.0'))\n",
    "energy.sort(columns=['Emissions(CO2e)'], axis=0, ascending=False, inplace=True)\n",
    "\n",
    "# another way I removed a single outlier before using STD method below\n",
    "#energy = energy[energy[\"BIN\"] != '1040808']\n",
    "energy.head()"
   ]
  },
  {
   "cell_type": "code",
   "execution_count": 619,
   "metadata": {
    "collapsed": false
   },
   "outputs": [
    {
     "name": "stdout",
     "output_type": "stream",
     "text": [
      "Descriptive Statistics for Direct (on-site) Emissions (C02e):\n",
      "Standard Deviation:  6673.66343245\n",
      "Mean:  482.816907458\n",
      "Median:  293.15\n"
     ]
    }
   ],
   "source": [
    "print('Descriptive Statistics for Direct (on-site) Emissions (C02e):')\n",
    "print(\"Standard Deviation: \", energy['directCO2e'].std())\n",
    "print(\"Mean: \", energy['directCO2e'].mean())\n",
    "print(\"Median: \", energy['directCO2e'].median())"
   ]
  },
  {
   "cell_type": "code",
   "execution_count": 620,
   "metadata": {
    "collapsed": false
   },
   "outputs": [
    {
     "data": {
      "text/plain": [
       "9497"
      ]
     },
     "execution_count": 620,
     "metadata": {},
     "output_type": "execute_result"
    }
   ],
   "source": [
    "# removing outliers\n",
    "energy = energy[energy['directCO2e'] \n",
    "                < (energy['directCO2e'].mean())\n",
    "                + (energy['directCO2e'].std()*2)]\n",
    "energy = energy[energy['directCO2e'] \n",
    "                > (energy['directCO2e'].mean())\n",
    "                - (energy['directCO2e'].std()*2)]\n",
    "energy = energy[energy['directCO2e'] != 0]\n",
    "len(energy)"
   ]
  },
  {
   "cell_type": "code",
   "execution_count": 621,
   "metadata": {
    "collapsed": false
   },
   "outputs": [
    {
     "name": "stdout",
     "output_type": "stream",
     "text": [
      "Descriptive Statistics for Direct (on-site) Emissions (C02e):\n",
      "Standard Deviation:  548.081045868\n",
      "Mean:  432.594935243\n",
      "Median:  311.8\n"
     ]
    }
   ],
   "source": [
    "# wow that's a big difference in STD; makes the above look wrong\n",
    "print('Descriptive Statistics for Direct (on-site) Emissions (C02e):')\n",
    "print(\"Standard Deviation: \", energy['directCO2e'].std())\n",
    "print(\"Mean: \", energy['directCO2e'].mean())\n",
    "print(\"Median: \", energy['directCO2e'].median())"
   ]
  },
  {
   "cell_type": "markdown",
   "metadata": {},
   "source": [
    "## Importing and cleaning PLUTO data for Manhattan (other borough files were too large for Jupyter)"
   ]
  },
  {
   "cell_type": "code",
   "execution_count": 664,
   "metadata": {
    "collapsed": false
   },
   "outputs": [
    {
     "name": "stdout",
     "output_type": "stream",
     "text": [
      "17478\n"
     ]
    },
    {
     "data": {
      "text/plain": [
       "Index(['Address', 'AreaSource', 'AssessLand', 'AssessTot', 'BBL', 'BldgArea',\n",
       "       'BldgClass', 'Block', 'BoroCode', 'Borough', 'BsmtCode', 'CB2010', 'CD',\n",
       "       'CT2010', 'ComArea', 'Council', 'ExemptLand', 'ExemptTot', 'FactryArea',\n",
       "       'FireComp', 'GarageArea', 'HealthArea', 'LandUse', 'Lot', 'LotArea',\n",
       "       'LotType', 'NumBldgs', 'NumFloors', 'OfficeArea', 'OtherArea',\n",
       "       'OwnerType', 'PLUTOMapID', 'PolicePrct', 'ResArea', 'RetailArea',\n",
       "       'SchoolDist', 'StrgeArea', 'Tract2010', 'UnitsRes', 'UnitsTotal',\n",
       "       'Version', 'XCoord', 'YCoord', 'YearBuilt', 'ZipCode', 'ZoneDist1'],\n",
       "      dtype='object')"
      ]
     },
     "execution_count": 664,
     "metadata": {},
     "output_type": "execute_result"
    }
   ],
   "source": [
    "MHpluto = pd.read_csv('MN_reduced.csv').dropna()\n",
    "MHpluto = MHpluto.sort_index(axis=1)\n",
    "print(len(MHpluto))\n",
    "MHpluto.columns"
   ]
  },
  {
   "cell_type": "code",
   "execution_count": 665,
   "metadata": {
    "collapsed": false
   },
   "outputs": [],
   "source": [
    "MHpluto.drop(['Borough', 'Block', 'Lot', 'CD', 'Council', 'ComArea', 'ResArea', 'OfficeArea', 'RetailArea', \\\n",
    "              'GarageArea', 'StrgeArea', 'FactryArea', 'OtherArea', 'AreaSource', 'NumBldgs', 'ExemptLand', \\\n",
    "              'ExemptTot', 'YearBuilt', 'Version', 'ZoneDist1', 'UnitsRes', 'UnitsTotal', 'BsmtCode', \\\n",
    "              'AssessLand', 'BoroCode', 'FireComp', 'PolicePrct', 'SchoolDist', 'NumFloors', \\\n",
    "             'LotType', 'BldgClass', 'LandUse', 'OwnerType'], axis=1, inplace=True)\n",
    "MHpluto.rename(columns={'ZipCode':'Zip Code'}, inplace=True)\n",
    "MHpluto['Zip Code'] = MHpluto['Zip Code'].astype(str)\n",
    "MHpluto['Zip Code'] = MHpluto['Zip Code'].map(lambda x: x.lstrip('').rstrip('.0'))"
   ]
  },
  {
   "cell_type": "code",
   "execution_count": 666,
   "metadata": {
    "collapsed": false
   },
   "outputs": [
    {
     "data": {
      "text/html": [
       "<div>\n",
       "<table border=\"1\" class=\"dataframe\">\n",
       "  <thead>\n",
       "    <tr style=\"text-align: right;\">\n",
       "      <th></th>\n",
       "      <th>Address</th>\n",
       "      <th>AssessTot</th>\n",
       "      <th>BBL</th>\n",
       "      <th>BldgArea</th>\n",
       "      <th>CB2010</th>\n",
       "      <th>CT2010</th>\n",
       "      <th>HealthArea</th>\n",
       "      <th>LotArea</th>\n",
       "      <th>PLUTOMapID</th>\n",
       "      <th>Tract2010</th>\n",
       "      <th>XCoord</th>\n",
       "      <th>YCoord</th>\n",
       "      <th>Zip Code</th>\n",
       "    </tr>\n",
       "  </thead>\n",
       "  <tbody>\n",
       "    <tr>\n",
       "      <th>0</th>\n",
       "      <td>1 GOVERNORS ISLAND</td>\n",
       "      <td>156510900</td>\n",
       "      <td>1000010010</td>\n",
       "      <td>2725731</td>\n",
       "      <td>1018.0</td>\n",
       "      <td>5.0</td>\n",
       "      <td>8100.0</td>\n",
       "      <td>7736692</td>\n",
       "      <td>1</td>\n",
       "      <td>5</td>\n",
       "      <td>979071.0</td>\n",
       "      <td>190225.0</td>\n",
       "      <td>10004</td>\n",
       "    </tr>\n",
       "    <tr>\n",
       "      <th>1</th>\n",
       "      <td>1 LIBERTY ISLAND</td>\n",
       "      <td>12197250</td>\n",
       "      <td>1000010101</td>\n",
       "      <td>541886</td>\n",
       "      <td>1001.0</td>\n",
       "      <td>1.0</td>\n",
       "      <td>8200.0</td>\n",
       "      <td>541886</td>\n",
       "      <td>1</td>\n",
       "      <td>1</td>\n",
       "      <td>971677.0</td>\n",
       "      <td>190636.0</td>\n",
       "      <td>10004</td>\n",
       "    </tr>\n",
       "    <tr>\n",
       "      <th>5</th>\n",
       "      <td>MARGINAL STREET</td>\n",
       "      <td>32193900</td>\n",
       "      <td>1000020001</td>\n",
       "      <td>280000</td>\n",
       "      <td>1025.0</td>\n",
       "      <td>9.0</td>\n",
       "      <td>7700.0</td>\n",
       "      <td>209215</td>\n",
       "      <td>1</td>\n",
       "      <td>9</td>\n",
       "      <td>980670.0</td>\n",
       "      <td>194440.0</td>\n",
       "      <td>10004</td>\n",
       "    </tr>\n",
       "  </tbody>\n",
       "</table>\n",
       "</div>"
      ],
      "text/plain": [
       "                   Address  AssessTot         BBL  BldgArea  CB2010  CT2010  \\\n",
       "0       1 GOVERNORS ISLAND  156510900  1000010010   2725731  1018.0     5.0   \n",
       "1         1 LIBERTY ISLAND   12197250  1000010101    541886  1001.0     1.0   \n",
       "5          MARGINAL STREET   32193900  1000020001    280000  1025.0     9.0   \n",
       "\n",
       "   HealthArea  LotArea  PLUTOMapID  Tract2010    XCoord    YCoord Zip Code  \n",
       "0      8100.0  7736692           1          5  979071.0  190225.0    10004  \n",
       "1      8200.0   541886           1          1  971677.0  190636.0    10004  \n",
       "5      7700.0   209215           1          9  980670.0  194440.0    10004  "
      ]
     },
     "execution_count": 666,
     "metadata": {},
     "output_type": "execute_result"
    }
   ],
   "source": [
    "# creating GEOID10 from state + county + CT2010\n",
    "# MHpluto['GEOID10'] = '36061' + \n",
    "MHpluto.head(3)"
   ]
  },
  {
   "cell_type": "code",
   "execution_count": 383,
   "metadata": {
    "collapsed": false
   },
   "outputs": [],
   "source": [
    "energy.BBL = energy.BBL.astype(float)\n",
    "MHpluto.BBL = MHpluto.BBL.astype(float)"
   ]
  },
  {
   "cell_type": "code",
   "execution_count": null,
   "metadata": {
    "collapsed": false
   },
   "outputs": [],
   "source": [
    "MHpluto.CT2010 = MHpluto.CT2010.astype(str)"
   ]
  },
  {
   "cell_type": "code",
   "execution_count": null,
   "metadata": {
    "collapsed": true
   },
   "outputs": [],
   "source": [
    "# need to combine columns to create full census GEOID"
   ]
  },
  {
   "cell_type": "code",
   "execution_count": 426,
   "metadata": {
    "collapsed": false
   },
   "outputs": [
    {
     "name": "stdout",
     "output_type": "stream",
     "text": [
      "10744\n"
     ]
    },
    {
     "data": {
      "text/plain": [
       "17478"
      ]
     },
     "execution_count": 426,
     "metadata": {},
     "output_type": "execute_result"
    }
   ],
   "source": [
    "print(len(energy.BBL.unique()))\n",
    "len(MHpluto.BBL.unique())"
   ]
  },
  {
   "cell_type": "code",
   "execution_count": 9,
   "metadata": {
    "collapsed": false
   },
   "outputs": [
    {
     "data": {
      "text/plain": [
       "numpy.float64"
      ]
     },
     "execution_count": 9,
     "metadata": {},
     "output_type": "execute_result"
    }
   ],
   "source": [
    "type(MHpluto.BBL[1])"
   ]
  },
  {
   "cell_type": "code",
   "execution_count": 10,
   "metadata": {
    "collapsed": false
   },
   "outputs": [
    {
     "data": {
      "text/plain": [
       "numpy.float64"
      ]
     },
     "execution_count": 10,
     "metadata": {},
     "output_type": "execute_result"
    }
   ],
   "source": [
    "type(energy.BBL[1])"
   ]
  },
  {
   "cell_type": "markdown",
   "metadata": {},
   "source": [
    "## Merging building energy and PLUTO data for Manhattan (on Borough-Block-Lot)."
   ]
  },
  {
   "cell_type": "code",
   "execution_count": 622,
   "metadata": {
    "collapsed": false
   },
   "outputs": [
    {
     "name": "stdout",
     "output_type": "stream",
     "text": [
      "1582\n"
     ]
    },
    {
     "data": {
      "text/plain": [
       "Index(['BBL', 'BIN', 'Street Number', 'Street Name', 'Zip Code', 'Borough',\n",
       "       'Property Type', 'Year Built', 'ENERGY STAR Score',\n",
       "       'Weather Normalized Site EUI (kBtu/ft²)',\n",
       "       'Weather Normalized Source EUI (kBtu/ft²)', 'Fuel Oil #4 Use (kBtu)',\n",
       "       'Fuel Oil #5 & 6 Use (kBtu)', 'Emissions(CO2e)', 'directCO2e',\n",
       "       'indirectCO2e', 'DOF Property Floor Area (ft²)', 'Address', 'AssessTot',\n",
       "       'BldgArea', 'CB2010', 'CT2010', 'HealthArea', 'LotArea', 'PLUTOMapID',\n",
       "       'Tract2010', 'XCoord', 'YCoord', 'ZipCode'],\n",
       "      dtype='object')"
      ]
     },
     "execution_count": 622,
     "metadata": {},
     "output_type": "execute_result"
    }
   ],
   "source": [
    "energyPLUTO = pd.merge(energy, MHpluto, on=['BBL'], how='inner')\n",
    "#energyPLUTO.rename(columns={'Tract2010':'CT2010'}, inplace=True)\n",
    "#energyPLUTO['CT2010'] = energyPLUTO['CT2010'].astype(float)\n",
    "print(len(energyPLUTO))\n",
    "energyPLUTO.columns"
   ]
  },
  {
   "cell_type": "code",
   "execution_count": 624,
   "metadata": {
    "collapsed": false
   },
   "outputs": [
    {
     "data": {
      "text/html": [
       "<div>\n",
       "<table border=\"1\" class=\"dataframe\">\n",
       "  <thead>\n",
       "    <tr style=\"text-align: right;\">\n",
       "      <th></th>\n",
       "      <th>BBL</th>\n",
       "      <th>BIN</th>\n",
       "      <th>Street Number</th>\n",
       "      <th>Street Name</th>\n",
       "      <th>Zip Code</th>\n",
       "      <th>Borough</th>\n",
       "      <th>Property Type</th>\n",
       "      <th>Year Built</th>\n",
       "      <th>ENERGY STAR Score</th>\n",
       "      <th>Weather Normalized Site EUI (kBtu/ft²)</th>\n",
       "      <th>...</th>\n",
       "      <th>BldgArea</th>\n",
       "      <th>CB2010</th>\n",
       "      <th>CT2010</th>\n",
       "      <th>HealthArea</th>\n",
       "      <th>LotArea</th>\n",
       "      <th>PLUTOMapID</th>\n",
       "      <th>Tract2010</th>\n",
       "      <th>XCoord</th>\n",
       "      <th>YCoord</th>\n",
       "      <th>ZipCode</th>\n",
       "    </tr>\n",
       "  </thead>\n",
       "  <tbody>\n",
       "    <tr>\n",
       "      <th>1580</th>\n",
       "      <td>1.005450e+09</td>\n",
       "      <td>1008806</td>\n",
       "      <td>752.0</td>\n",
       "      <td>BROADWAY</td>\n",
       "      <td>10003</td>\n",
       "      <td>Manhattan</td>\n",
       "      <td>Multifamily Housing</td>\n",
       "      <td>1981</td>\n",
       "      <td>NaN</td>\n",
       "      <td>NaN</td>\n",
       "      <td>...</td>\n",
       "      <td>147773</td>\n",
       "      <td>1005.0</td>\n",
       "      <td>57.0</td>\n",
       "      <td>5700.0</td>\n",
       "      <td>15030</td>\n",
       "      <td>1</td>\n",
       "      <td>57</td>\n",
       "      <td>986391.0</td>\n",
       "      <td>205326.0</td>\n",
       "      <td>10003.0</td>\n",
       "    </tr>\n",
       "    <tr>\n",
       "      <th>1581</th>\n",
       "      <td>1.014650e+09</td>\n",
       "      <td>1045808</td>\n",
       "      <td>1306.0</td>\n",
       "      <td>1 AVENUE</td>\n",
       "      <td>10021</td>\n",
       "      <td>Manhattan</td>\n",
       "      <td>Multifamily Housing</td>\n",
       "      <td>1979</td>\n",
       "      <td>NaN</td>\n",
       "      <td>NaN</td>\n",
       "      <td>...</td>\n",
       "      <td>357785</td>\n",
       "      <td>4000.0</td>\n",
       "      <td>124.0</td>\n",
       "      <td>4300.0</td>\n",
       "      <td>34286</td>\n",
       "      <td>1</td>\n",
       "      <td>124</td>\n",
       "      <td>996370.0</td>\n",
       "      <td>218622.0</td>\n",
       "      <td>10021.0</td>\n",
       "    </tr>\n",
       "  </tbody>\n",
       "</table>\n",
       "<p>2 rows × 29 columns</p>\n",
       "</div>"
      ],
      "text/plain": [
       "               BBL      BIN  Street Number           Street Name Zip Code  \\\n",
       "1580  1.005450e+09  1008806          752.0  BROADWAY                10003   \n",
       "1581  1.014650e+09  1045808         1306.0     1 AVENUE             10021   \n",
       "\n",
       "        Borough        Property Type Year Built  ENERGY STAR Score  \\\n",
       "1580  Manhattan  Multifamily Housing       1981                NaN   \n",
       "1581  Manhattan  Multifamily Housing       1979                NaN   \n",
       "\n",
       "      Weather Normalized Site EUI (kBtu/ft²)   ...     BldgArea  CB2010  \\\n",
       "1580                                     NaN   ...       147773  1005.0   \n",
       "1581                                     NaN   ...       357785  4000.0   \n",
       "\n",
       "     CT2010  HealthArea  LotArea  PLUTOMapID  Tract2010    XCoord    YCoord  \\\n",
       "1580   57.0      5700.0    15030           1         57  986391.0  205326.0   \n",
       "1581  124.0      4300.0    34286           1        124  996370.0  218622.0   \n",
       "\n",
       "      ZipCode  \n",
       "1580  10003.0  \n",
       "1581  10021.0  \n",
       "\n",
       "[2 rows x 29 columns]"
      ]
     },
     "execution_count": 624,
     "metadata": {},
     "output_type": "execute_result"
    }
   ],
   "source": [
    "energyPLUTO.tail(2)"
   ]
  },
  {
   "cell_type": "code",
   "execution_count": 625,
   "metadata": {
    "collapsed": false
   },
   "outputs": [],
   "source": [
    "energyPLUTO.to_csv(path_or_buf='energyPLUTO.csv')"
   ]
  },
  {
   "cell_type": "markdown",
   "metadata": {},
   "source": [
    "## Counting the buildings per zip code (not really necessary)"
   ]
  },
  {
   "cell_type": "code",
   "execution_count": 626,
   "metadata": {
    "collapsed": false
   },
   "outputs": [
    {
     "data": {
      "text/html": [
       "<div>\n",
       "<table border=\"1\" class=\"dataframe\">\n",
       "  <thead>\n",
       "    <tr style=\"text-align: right;\">\n",
       "      <th></th>\n",
       "      <th>Buildings/Zip</th>\n",
       "    </tr>\n",
       "    <tr>\n",
       "      <th>Zip Code</th>\n",
       "      <th></th>\n",
       "    </tr>\n",
       "  </thead>\n",
       "  <tbody>\n",
       "    <tr>\n",
       "      <th>10001</th>\n",
       "      <td>75</td>\n",
       "    </tr>\n",
       "    <tr>\n",
       "      <th>10002</th>\n",
       "      <td>15</td>\n",
       "    </tr>\n",
       "    <tr>\n",
       "      <th>10003</th>\n",
       "      <td>68</td>\n",
       "    </tr>\n",
       "  </tbody>\n",
       "</table>\n",
       "</div>"
      ],
      "text/plain": [
       "          Buildings/Zip\n",
       "Zip Code               \n",
       "10001                75\n",
       "10002                15\n",
       "10003                68"
      ]
     },
     "execution_count": 626,
     "metadata": {},
     "output_type": "execute_result"
    }
   ],
   "source": [
    "grouped = energyPLUTO.groupby('Zip Code')\n",
    "zips = pd.DataFrame(grouped['Zip Code'].apply(np.size))\n",
    "zips.rename(columns={'Zip Code':'Buildings/Zip'}, inplace=True)\n",
    "zips.head(3)"
   ]
  },
  {
   "cell_type": "markdown",
   "metadata": {},
   "source": [
    "## Importing and cleaning asthma data for Manhattan zip codes from 2012-2014. Discharge rate is per 10,000 population."
   ]
  },
  {
   "cell_type": "code",
   "execution_count": 114,
   "metadata": {
    "collapsed": false
   },
   "outputs": [
    {
     "name": "stdout",
     "output_type": "stream",
     "text": [
      "43\n",
      "Index(['﻿Zip Code', 'Discharges2012-2014', 'Discharge_Rate'], dtype='object')\n"
     ]
    },
    {
     "data": {
      "text/html": [
       "<div>\n",
       "<table border=\"1\" class=\"dataframe\">\n",
       "  <thead>\n",
       "    <tr style=\"text-align: right;\">\n",
       "      <th></th>\n",
       "      <th>﻿Zip Code</th>\n",
       "      <th>Discharges2012-2014</th>\n",
       "      <th>Discharge_Rate</th>\n",
       "    </tr>\n",
       "  </thead>\n",
       "  <tbody>\n",
       "    <tr>\n",
       "      <th>0</th>\n",
       "      <td>10001</td>\n",
       "      <td>159</td>\n",
       "      <td>21.9</td>\n",
       "    </tr>\n",
       "    <tr>\n",
       "      <th>1</th>\n",
       "      <td>10002</td>\n",
       "      <td>592</td>\n",
       "      <td>23.9</td>\n",
       "    </tr>\n",
       "    <tr>\n",
       "      <th>2</th>\n",
       "      <td>10003</td>\n",
       "      <td>130</td>\n",
       "      <td>7.7</td>\n",
       "    </tr>\n",
       "  </tbody>\n",
       "</table>\n",
       "</div>"
      ],
      "text/plain": [
       "   ﻿Zip Code Discharges2012-2014  Discharge_Rate\n",
       "0      10001                 159            21.9\n",
       "1      10002                 592            23.9\n",
       "2      10003                 130             7.7"
      ]
     },
     "execution_count": 114,
     "metadata": {},
     "output_type": "execute_result"
    }
   ],
   "source": [
    "MHasthma = pd.read_csv('MHasthma.csv')\n",
    "print(len(MHasthma))\n",
    "print(MHasthma.columns)\n",
    "MHasthma.head(3)"
   ]
  },
  {
   "cell_type": "code",
   "execution_count": 115,
   "metadata": {
    "collapsed": true
   },
   "outputs": [],
   "source": [
    "MHasthma.rename(columns={'﻿Zip Code':'Zip Code'}, inplace=True)"
   ]
  },
  {
   "cell_type": "code",
   "execution_count": 524,
   "metadata": {
    "collapsed": false
   },
   "outputs": [
    {
     "data": {
      "text/plain": [
       "str"
      ]
     },
     "execution_count": 524,
     "metadata": {},
     "output_type": "execute_result"
    }
   ],
   "source": [
    "MHasthma['Zip Code'] = MHasthma['Zip Code'].astype(str)\n",
    "MHasthma['Zip Code'] = MHasthma['Zip Code'].map(lambda x: x.lstrip('').rstrip('.0'))\n",
    "type(MHasthma['Zip Code'][1])"
   ]
  },
  {
   "cell_type": "code",
   "execution_count": 525,
   "metadata": {
    "collapsed": false
   },
   "outputs": [
    {
     "data": {
      "text/html": [
       "<div>\n",
       "<table border=\"1\" class=\"dataframe\">\n",
       "  <thead>\n",
       "    <tr style=\"text-align: right;\">\n",
       "      <th></th>\n",
       "      <th>Zip Code</th>\n",
       "      <th>Discharges2012-2014</th>\n",
       "      <th>Discharge_Rate</th>\n",
       "    </tr>\n",
       "  </thead>\n",
       "  <tbody>\n",
       "    <tr>\n",
       "      <th>0</th>\n",
       "      <td>10001</td>\n",
       "      <td>159</td>\n",
       "      <td>21.9</td>\n",
       "    </tr>\n",
       "    <tr>\n",
       "      <th>1</th>\n",
       "      <td>10002</td>\n",
       "      <td>592</td>\n",
       "      <td>23.9</td>\n",
       "    </tr>\n",
       "  </tbody>\n",
       "</table>\n",
       "</div>"
      ],
      "text/plain": [
       "  Zip Code Discharges2012-2014  Discharge_Rate\n",
       "0    10001                 159            21.9\n",
       "1    10002                 592            23.9"
      ]
     },
     "execution_count": 525,
     "metadata": {},
     "output_type": "execute_result"
    }
   ],
   "source": [
    "MHasthma.head(2)"
   ]
  },
  {
   "cell_type": "code",
   "execution_count": 603,
   "metadata": {
    "collapsed": false
   },
   "outputs": [
    {
     "name": "stdout",
     "output_type": "stream",
     "text": [
      "Descriptive Statistics for asthma rates in MN:\n",
      "Standard Deviation:  18.5848847806\n",
      "Mean:  19.0725\n",
      "Median:  11.2\n"
     ]
    }
   ],
   "source": [
    "print('Descriptive Statistics for asthma rates in MN:')\n",
    "print(\"Standard Deviation: \", MHasthma['Discharge_Rate'].std())\n",
    "print(\"Mean: \", MHasthma['Discharge_Rate'].mean())\n",
    "print(\"Median: \", MHasthma['Discharge_Rate'].median())"
   ]
  },
  {
   "cell_type": "markdown",
   "metadata": {
    "collapsed": true
   },
   "source": [
    "## Merging household income with building energy and PLUTO data (last two already merged)\n",
    "### NOTE: stopped this to do it at zip code level instead"
   ]
  },
  {
   "cell_type": "code",
   "execution_count": 361,
   "metadata": {
    "collapsed": false
   },
   "outputs": [
    {
     "name": "stdout",
     "output_type": "stream",
     "text": [
      "5296\n"
     ]
    }
   ],
   "source": [
    "# census data from:\n",
    "# http://data.beta.nyc/dataset/median-household-income-2010-census-tracts/resource/5a7c26b5-f8b0-4a3f-87fe-56a9c2ff5692\n",
    "census = pd.read_csv('medianhouseholdincomecensustract.csv')\n",
    "print(len(census))"
   ]
  },
  {
   "cell_type": "code",
   "execution_count": 362,
   "metadata": {
    "collapsed": false
   },
   "outputs": [],
   "source": [
    "census.drop(['REtax_ACS', 'AVG_TTL', 'LOCALNAME', 'MCR_ANNUAL',\n",
    "       'MSMOC_TOT_', 'TAX_RET', 'Avg_TransC', 'REtaxperow', 'PERC_RENT', 'PERC_OWN', 'OHU_RENT', \\\n",
    "            'OHU_OWN', 'State', 'COUNTY'], axis=1, inplace=True)\n",
    "census.rename(columns={'TRACTCE10':'CT2010'}, inplace=True) \n",
    "census['CT2010'] = census['CT2010'].astype(float)"
   ]
  },
  {
   "cell_type": "markdown",
   "metadata": {},
   "source": [
    "005 - Bronx\n",
    "047 - Kings (Brooklyn)\n",
    "061 - New York (Manhattan)\n",
    "081 - Queens\n",
    "085 - Richmond (Staten Island)"
   ]
  },
  {
   "cell_type": "code",
   "execution_count": 417,
   "metadata": {
    "collapsed": false
   },
   "outputs": [
    {
     "name": "stdout",
     "output_type": "stream",
     "text": [
      "# of census tracts = \n",
      "288\n"
     ]
    },
    {
     "data": {
      "text/html": [
       "<div>\n",
       "<table border=\"1\" class=\"dataframe\">\n",
       "  <thead>\n",
       "    <tr style=\"text-align: right;\">\n",
       "      <th></th>\n",
       "      <th>FID</th>\n",
       "      <th>STATEFP10</th>\n",
       "      <th>COUNTYFP10</th>\n",
       "      <th>CT2010</th>\n",
       "      <th>GEOID10</th>\n",
       "      <th>INTPTLAT10</th>\n",
       "      <th>INTPTLON10</th>\n",
       "      <th>HH_COUNT</th>\n",
       "      <th>MHI</th>\n",
       "      <th>MED_VAL</th>\n",
       "      <th>HOUSINGCOS</th>\n",
       "      <th>DISP_INC</th>\n",
       "      <th>energy_cos</th>\n",
       "      <th>Shape_Area</th>\n",
       "    </tr>\n",
       "  </thead>\n",
       "  <tbody>\n",
       "    <tr>\n",
       "      <th>1699</th>\n",
       "      <td>1699</td>\n",
       "      <td>36</td>\n",
       "      <td>61</td>\n",
       "      <td>27100.0</td>\n",
       "      <td>36061027100</td>\n",
       "      <td>40.851939</td>\n",
       "      <td>-73.934291</td>\n",
       "      <td>2904</td>\n",
       "      <td>38125</td>\n",
       "      <td>536000</td>\n",
       "      <td>11068.7529</td>\n",
       "      <td>18670.89901</td>\n",
       "      <td>1764.860784</td>\n",
       "      <td>0.000021</td>\n",
       "    </tr>\n",
       "    <tr>\n",
       "      <th>1700</th>\n",
       "      <td>1700</td>\n",
       "      <td>36</td>\n",
       "      <td>61</td>\n",
       "      <td>12900.0</td>\n",
       "      <td>36061012900</td>\n",
       "      <td>40.765014</td>\n",
       "      <td>-73.999812</td>\n",
       "      <td>3354</td>\n",
       "      <td>76082</td>\n",
       "      <td>807900</td>\n",
       "      <td>21996.9303</td>\n",
       "      <td>29562.14132</td>\n",
       "      <td>1608.671016</td>\n",
       "      <td>0.000043</td>\n",
       "    </tr>\n",
       "    <tr>\n",
       "      <th>1701</th>\n",
       "      <td>1701</td>\n",
       "      <td>36</td>\n",
       "      <td>61</td>\n",
       "      <td>14401.0</td>\n",
       "      <td>36061014401</td>\n",
       "      <td>40.775249</td>\n",
       "      <td>-73.947552</td>\n",
       "      <td>2633</td>\n",
       "      <td>126518</td>\n",
       "      <td>668400</td>\n",
       "      <td>22181.4524</td>\n",
       "      <td>64418.82528</td>\n",
       "      <td>1718.090675</td>\n",
       "      <td>0.000008</td>\n",
       "    </tr>\n",
       "    <tr>\n",
       "      <th>1702</th>\n",
       "      <td>1702</td>\n",
       "      <td>36</td>\n",
       "      <td>61</td>\n",
       "      <td>9900.0</td>\n",
       "      <td>36061009900</td>\n",
       "      <td>40.752378</td>\n",
       "      <td>-74.008367</td>\n",
       "      <td>1091</td>\n",
       "      <td>122031</td>\n",
       "      <td>784700</td>\n",
       "      <td>26181.3474</td>\n",
       "      <td>58945.86916</td>\n",
       "      <td>1849.560190</td>\n",
       "      <td>0.000110</td>\n",
       "    </tr>\n",
       "    <tr>\n",
       "      <th>1703</th>\n",
       "      <td>1703</td>\n",
       "      <td>36</td>\n",
       "      <td>61</td>\n",
       "      <td>14601.0</td>\n",
       "      <td>36061014601</td>\n",
       "      <td>40.777192</td>\n",
       "      <td>-73.952161</td>\n",
       "      <td>2600</td>\n",
       "      <td>89846</td>\n",
       "      <td>713200</td>\n",
       "      <td>21611.7774</td>\n",
       "      <td>39691.01194</td>\n",
       "      <td>1415.971016</td>\n",
       "      <td>0.000008</td>\n",
       "    </tr>\n",
       "  </tbody>\n",
       "</table>\n",
       "</div>"
      ],
      "text/plain": [
       "       FID  STATEFP10 COUNTYFP10   CT2010      GEOID10  INTPTLAT10  \\\n",
       "1699  1699         36         61  27100.0  36061027100   40.851939   \n",
       "1700  1700         36         61  12900.0  36061012900   40.765014   \n",
       "1701  1701         36         61  14401.0  36061014401   40.775249   \n",
       "1702  1702         36         61   9900.0  36061009900   40.752378   \n",
       "1703  1703         36         61  14601.0  36061014601   40.777192   \n",
       "\n",
       "      INTPTLON10  HH_COUNT     MHI  MED_VAL  HOUSINGCOS     DISP_INC  \\\n",
       "1699  -73.934291      2904   38125   536000  11068.7529  18670.89901   \n",
       "1700  -73.999812      3354   76082   807900  21996.9303  29562.14132   \n",
       "1701  -73.947552      2633  126518   668400  22181.4524  64418.82528   \n",
       "1702  -74.008367      1091  122031   784700  26181.3474  58945.86916   \n",
       "1703  -73.952161      2600   89846   713200  21611.7774  39691.01194   \n",
       "\n",
       "       energy_cos  Shape_Area  \n",
       "1699  1764.860784    0.000021  \n",
       "1700  1608.671016    0.000043  \n",
       "1701  1718.090675    0.000008  \n",
       "1702  1849.560190    0.000110  \n",
       "1703  1415.971016    0.000008  "
      ]
     },
     "execution_count": 417,
     "metadata": {},
     "output_type": "execute_result"
    }
   ],
   "source": [
    "census['COUNTYFP10'] = census['COUNTYFP10'].astype(str)\n",
    "MHcensus = census[census['COUNTYFP10'] == '61']\n",
    "print('# of census tracts = ')\n",
    "print(len(MHcensus))\n",
    "MHcensus.head()"
   ]
  },
  {
   "cell_type": "markdown",
   "metadata": {},
   "source": [
    "### Filtering energy+PLUTO data by multifamily housing and grouping by census tract"
   ]
  },
  {
   "cell_type": "code",
   "execution_count": 472,
   "metadata": {
    "collapsed": false
   },
   "outputs": [
    {
     "data": {
      "text/html": [
       "<div>\n",
       "<table border=\"1\" class=\"dataframe\">\n",
       "  <thead>\n",
       "    <tr style=\"text-align: right;\">\n",
       "      <th></th>\n",
       "      <th>Weather Normalized Site EUI (kBtu/ft²)</th>\n",
       "      <th>Emissions(CO2e)</th>\n",
       "      <th>DOF Property Floor Area (ft²)</th>\n",
       "      <th>Total Site EUI</th>\n",
       "    </tr>\n",
       "    <tr>\n",
       "      <th>CT2010</th>\n",
       "      <th></th>\n",
       "      <th></th>\n",
       "      <th></th>\n",
       "      <th></th>\n",
       "    </tr>\n",
       "  </thead>\n",
       "  <tbody>\n",
       "    <tr>\n",
       "      <th>2.01</th>\n",
       "      <td>NaN</td>\n",
       "      <td>2219.2</td>\n",
       "      <td>NaN</td>\n",
       "      <td>NaN</td>\n",
       "    </tr>\n",
       "    <tr>\n",
       "      <th>2.02</th>\n",
       "      <td>321.1</td>\n",
       "      <td>2419.4</td>\n",
       "      <td>575321.0</td>\n",
       "      <td>184735573.1</td>\n",
       "    </tr>\n",
       "  </tbody>\n",
       "</table>\n",
       "</div>"
      ],
      "text/plain": [
       "        Weather Normalized Site EUI (kBtu/ft²)  Emissions(CO2e)  \\\n",
       "CT2010                                                            \n",
       "2.01                                       NaN           2219.2   \n",
       "2.02                                     321.1           2419.4   \n",
       "\n",
       "        DOF Property Floor Area (ft²)  Total Site EUI  \n",
       "CT2010                                                 \n",
       "2.01                              NaN             NaN  \n",
       "2.02                         575321.0     184735573.1  "
      ]
     },
     "execution_count": 472,
     "metadata": {},
     "output_type": "execute_result"
    }
   ],
   "source": [
    "energyPLUTO_res = energyPLUTO[energyPLUTO['Property Type'] == 'Multifamily Housing']\n",
    "energyPLUTO_ct = energyPLUTO_res.groupby(['CT2010'])[['Weather Normalized Site EUI (kBtu/ft²)', 'Emissions(CO2e)'\\\n",
    "                                          , 'DOF Property Floor Area (ft²)']].sum()\n",
    "energyPLUTO_ct['Total Site EUI'] = energyPLUTO_ct['Weather Normalized Site EUI (kBtu/ft²)'] * \\\n",
    "    energyPLUTO_ct['DOF Property Floor Area (ft²)']\n",
    "energyPLUTO_ct.head(2)"
   ]
  },
  {
   "cell_type": "code",
   "execution_count": 473,
   "metadata": {
    "collapsed": true
   },
   "outputs": [],
   "source": [
    "energyPLUTO_ct['CT2010'] = energyPLUTO_ct.index.astype(object)\n",
    "#energyPLUTO_ct['CT2010'] = energyPLUTO_ct['CT2010'].str.replace('.','')\n",
    "#energyPLUTO_ct['CT2010'] = energyPLUTO_ct['CT2010'].str.strip('.')\n",
    "#energyPLUTO_ct['CT2010'] = energyPLUTO_ct['CT2010'].astype(float)\n",
    "y = len(energyPLUTO_ct)\n",
    "energyPLUTO_ct.index = np.arange(0,y)"
   ]
  },
  {
   "cell_type": "code",
   "execution_count": 474,
   "metadata": {
    "collapsed": false
   },
   "outputs": [
    {
     "name": "stdout",
     "output_type": "stream",
     "text": [
      "241\n"
     ]
    },
    {
     "data": {
      "text/html": [
       "<div>\n",
       "<table border=\"1\" class=\"dataframe\">\n",
       "  <thead>\n",
       "    <tr style=\"text-align: right;\">\n",
       "      <th></th>\n",
       "      <th>Weather Normalized Site EUI (kBtu/ft²)</th>\n",
       "      <th>Emissions(CO2e)</th>\n",
       "      <th>DOF Property Floor Area (ft²)</th>\n",
       "      <th>Total Site EUI</th>\n",
       "      <th>CT2010</th>\n",
       "    </tr>\n",
       "  </thead>\n",
       "  <tbody>\n",
       "    <tr>\n",
       "      <th>236</th>\n",
       "      <td>361.2</td>\n",
       "      <td>3918.5</td>\n",
       "      <td>510199.0</td>\n",
       "      <td>1.842839e+08</td>\n",
       "      <td>295</td>\n",
       "    </tr>\n",
       "    <tr>\n",
       "      <th>237</th>\n",
       "      <td>162.9</td>\n",
       "      <td>1304.1</td>\n",
       "      <td>204287.0</td>\n",
       "      <td>3.327835e+07</td>\n",
       "      <td>303</td>\n",
       "    </tr>\n",
       "    <tr>\n",
       "      <th>238</th>\n",
       "      <td>263.7</td>\n",
       "      <td>1522.4</td>\n",
       "      <td>189994.0</td>\n",
       "      <td>5.010142e+07</td>\n",
       "      <td>309</td>\n",
       "    </tr>\n",
       "    <tr>\n",
       "      <th>239</th>\n",
       "      <td>148.1</td>\n",
       "      <td>3817.7</td>\n",
       "      <td>698425.0</td>\n",
       "      <td>1.034367e+08</td>\n",
       "      <td>317.03</td>\n",
       "    </tr>\n",
       "    <tr>\n",
       "      <th>240</th>\n",
       "      <td>1081.5</td>\n",
       "      <td>17620.9</td>\n",
       "      <td>3444757.0</td>\n",
       "      <td>3.725505e+09</td>\n",
       "      <td>317.04</td>\n",
       "    </tr>\n",
       "  </tbody>\n",
       "</table>\n",
       "</div>"
      ],
      "text/plain": [
       "     Weather Normalized Site EUI (kBtu/ft²)  Emissions(CO2e)  \\\n",
       "236                                   361.2           3918.5   \n",
       "237                                   162.9           1304.1   \n",
       "238                                   263.7           1522.4   \n",
       "239                                   148.1           3817.7   \n",
       "240                                  1081.5          17620.9   \n",
       "\n",
       "     DOF Property Floor Area (ft²)  Total Site EUI  CT2010  \n",
       "236                       510199.0    1.842839e+08     295  \n",
       "237                       204287.0    3.327835e+07     303  \n",
       "238                       189994.0    5.010142e+07     309  \n",
       "239                       698425.0    1.034367e+08  317.03  \n",
       "240                      3444757.0    3.725505e+09  317.04  "
      ]
     },
     "execution_count": 474,
     "metadata": {},
     "output_type": "execute_result"
    }
   ],
   "source": [
    "print(y)\n",
    "energyPLUTO_ct.tail()"
   ]
  },
  {
   "cell_type": "code",
   "execution_count": 422,
   "metadata": {
    "collapsed": false
   },
   "outputs": [
    {
     "name": "stdout",
     "output_type": "stream",
     "text": [
      "# of census tracts left = \n",
      "257\n"
     ]
    },
    {
     "data": {
      "text/plain": [
       "Index(['BBL', 'BIN', 'Street Number', 'Street Name', 'Zip Code', 'Borough',\n",
       "       'Property Type', 'Year Built', 'ENERGY STAR Score',\n",
       "       'Weather Normalized Site EUI (kBtu/ft²)',\n",
       "       'Weather Normalized Source EUI (kBtu/ft²)', 'Fuel Oil #4 Use (kBtu)',\n",
       "       'Fuel Oil #5 & 6 Use (kBtu)', 'Emissions(CO2e)',\n",
       "       'DOF Property Floor Area (ft²)', 'CT2010', 'CB2010', 'ZipCode',\n",
       "       'HealthArea', 'Address', 'LotArea', 'BldgArea', 'AssessTot',\n",
       "       'Tract2010', 'XCoord', 'YCoord', 'PLUTOMapID', 'FID', 'STATEFP10',\n",
       "       'COUNTYFP10', 'GEOID10', 'INTPTLAT10', 'INTPTLON10', 'HH_COUNT', 'MHI',\n",
       "       'MED_VAL', 'HOUSINGCOS', 'DISP_INC', 'energy_cos', 'Shape_Area'],\n",
       "      dtype='object')"
      ]
     },
     "execution_count": 422,
     "metadata": {},
     "output_type": "execute_result"
    }
   ],
   "source": [
    "incmnrgplt = pd.merge(energyPLUTO, census, on='CT2010', how='inner')\n",
    "print('# of census tracts left = ')\n",
    "print(len(incmnrgplt))\n",
    "incmnrgplt.columns"
   ]
  },
  {
   "cell_type": "markdown",
   "metadata": {},
   "source": [
    "## Importing income per capita per zip code in NYC\n",
    "### NOTE: moving forward with this dataframe \"income\" instead of \"census\" above"
   ]
  },
  {
   "cell_type": "code",
   "execution_count": 605,
   "metadata": {
    "collapsed": false
   },
   "outputs": [
    {
     "data": {
      "text/html": [
       "<div>\n",
       "<table border=\"1\" class=\"dataframe\">\n",
       "  <thead>\n",
       "    <tr style=\"text-align: right;\">\n",
       "      <th></th>\n",
       "      <th>GEO.id</th>\n",
       "      <th>Zip Code</th>\n",
       "      <th>GEO.display-label</th>\n",
       "      <th>Income_Per_Capita</th>\n",
       "      <th>HD02_VD01</th>\n",
       "    </tr>\n",
       "  </thead>\n",
       "  <tbody>\n",
       "    <tr>\n",
       "      <th>1</th>\n",
       "      <td>8600000US06390</td>\n",
       "      <td>6390</td>\n",
       "      <td>ZCTA5 06390</td>\n",
       "      <td>67122</td>\n",
       "      <td>21337</td>\n",
       "    </tr>\n",
       "    <tr>\n",
       "      <th>2</th>\n",
       "      <td>8600000US10001</td>\n",
       "      <td>10001</td>\n",
       "      <td>ZCTA5 10001</td>\n",
       "      <td>80990</td>\n",
       "      <td>15416</td>\n",
       "    </tr>\n",
       "    <tr>\n",
       "      <th>3</th>\n",
       "      <td>8600000US10002</td>\n",
       "      <td>10002</td>\n",
       "      <td>ZCTA5 10002</td>\n",
       "      <td>27867</td>\n",
       "      <td>1246</td>\n",
       "    </tr>\n",
       "    <tr>\n",
       "      <th>4</th>\n",
       "      <td>8600000US10003</td>\n",
       "      <td>10003</td>\n",
       "      <td>ZCTA5 10003</td>\n",
       "      <td>80936</td>\n",
       "      <td>5333</td>\n",
       "    </tr>\n",
       "    <tr>\n",
       "      <th>5</th>\n",
       "      <td>8600000US10004</td>\n",
       "      <td>10004</td>\n",
       "      <td>ZCTA5 10004</td>\n",
       "      <td>90205</td>\n",
       "      <td>13349</td>\n",
       "    </tr>\n",
       "  </tbody>\n",
       "</table>\n",
       "</div>"
      ],
      "text/plain": [
       "           GEO.id Zip Code GEO.display-label Income_Per_Capita HD02_VD01\n",
       "1  8600000US06390     6390       ZCTA5 06390             67122     21337\n",
       "2  8600000US10001    10001       ZCTA5 10001             80990     15416\n",
       "3  8600000US10002    10002       ZCTA5 10002             27867      1246\n",
       "4  8600000US10003    10003       ZCTA5 10003             80936      5333\n",
       "5  8600000US10004    10004       ZCTA5 10004             90205     13349"
      ]
     },
     "execution_count": 605,
     "metadata": {},
     "output_type": "execute_result"
    }
   ],
   "source": [
    "income = pd.read_csv('income per capita by zip code.csv')\n",
    "income.rename(columns={'HD01_VD01':'Income_Per_Capita', 'GEO.id2':'Zip Code'}, inplace=True)\n",
    "income = income[income['Zip Code'] != 'Id2']\n",
    "income = income[income['Income_Per_Capita'] != '-']\n",
    "income.head()"
   ]
  },
  {
   "cell_type": "code",
   "execution_count": 610,
   "metadata": {
    "collapsed": false
   },
   "outputs": [],
   "source": [
    "income['Income_Per_Capita'] = income['Income_Per_Capita'].astype(float)"
   ]
  },
  {
   "cell_type": "code",
   "execution_count": 611,
   "metadata": {
    "collapsed": false
   },
   "outputs": [
    {
     "name": "stdout",
     "output_type": "stream",
     "text": [
      "Descriptive statistics for income per capita in NYC zip codes:\n",
      "Standard Deviation:  16449.5007106\n",
      "Mean:  32054.127867\n",
      "Median:  27951.5\n"
     ]
    }
   ],
   "source": [
    "print('Descriptive statistics for income per capita in NYC zip codes:')\n",
    "print(\"Standard Deviation: \", income['Income_Per_Capita'].std())\n",
    "print(\"Mean: \", income['Income_Per_Capita'].mean())\n",
    "print(\"Median: \", income['Income_Per_Capita'].median())"
   ]
  },
  {
   "cell_type": "markdown",
   "metadata": {
    "collapsed": true
   },
   "source": [
    "# 2.1 What is the relationship between building energy use and public health, measured by the local asthma hospitalization rate?"
   ]
  },
  {
   "cell_type": "markdown",
   "metadata": {},
   "source": [
    "### Merging just the building energy data with asthma data. Grouping building energy by zip code first. Leaving out PLUTO and Census for now.\n",
    "\n",
    "### Using Weather Normalized Site EUI, because the environmental impacts of a building's electricity source don't affect the health of people around the building (as long as, like most buildings, it gets its electricity from the grid)."
   ]
  },
  {
   "cell_type": "code",
   "execution_count": 627,
   "metadata": {
    "collapsed": false
   },
   "outputs": [],
   "source": [
    "energy_Zip = energy.groupby(['Zip Code'])[['Weather Normalized Site EUI (kBtu/ft²)', 'Emissions(CO2e)',\\\n",
    "                'directCO2e', 'DOF Property Floor Area (ft²)']].sum()"
   ]
  },
  {
   "cell_type": "code",
   "execution_count": 628,
   "metadata": {
    "collapsed": false
   },
   "outputs": [
    {
     "name": "stdout",
     "output_type": "stream",
     "text": [
      "187\n"
     ]
    },
    {
     "data": {
      "text/html": [
       "<div>\n",
       "<table border=\"1\" class=\"dataframe\">\n",
       "  <thead>\n",
       "    <tr style=\"text-align: right;\">\n",
       "      <th></th>\n",
       "      <th>Weather Normalized Site EUI (kBtu/ft²)</th>\n",
       "      <th>Emissions(CO2e)</th>\n",
       "      <th>directCO2e</th>\n",
       "      <th>DOF Property Floor Area (ft²)</th>\n",
       "      <th>Aggregated Site Energy Use</th>\n",
       "      <th>Agg_Direct_Emissions</th>\n",
       "      <th>Zip Code</th>\n",
       "    </tr>\n",
       "  </thead>\n",
       "  <tbody>\n",
       "    <tr>\n",
       "      <th>0</th>\n",
       "      <td>11912.7</td>\n",
       "      <td>245280.3</td>\n",
       "      <td>97241.3</td>\n",
       "      <td>41583640.0</td>\n",
       "      <td>4.953734e+11</td>\n",
       "      <td>4.043647e+12</td>\n",
       "      <td>10001</td>\n",
       "    </tr>\n",
       "    <tr>\n",
       "      <th>1</th>\n",
       "      <td>2443.0</td>\n",
       "      <td>21181.2</td>\n",
       "      <td>11223.7</td>\n",
       "      <td>3387591.0</td>\n",
       "      <td>8.275885e+09</td>\n",
       "      <td>3.802131e+10</td>\n",
       "      <td>10002</td>\n",
       "    </tr>\n",
       "    <tr>\n",
       "      <th>2</th>\n",
       "      <td>110917.3</td>\n",
       "      <td>2587807.6</td>\n",
       "      <td>75999.6</td>\n",
       "      <td>26338763.0</td>\n",
       "      <td>2.921424e+12</td>\n",
       "      <td>2.001735e+12</td>\n",
       "      <td>10003</td>\n",
       "    </tr>\n",
       "    <tr>\n",
       "      <th>3</th>\n",
       "      <td>1742.7</td>\n",
       "      <td>64236.7</td>\n",
       "      <td>9127.2</td>\n",
       "      <td>9053649.0</td>\n",
       "      <td>1.577779e+10</td>\n",
       "      <td>8.263447e+10</td>\n",
       "      <td>10004</td>\n",
       "    </tr>\n",
       "    <tr>\n",
       "      <th>4</th>\n",
       "      <td>24169.6</td>\n",
       "      <td>974108.1</td>\n",
       "      <td>9344.8</td>\n",
       "      <td>13079595.0</td>\n",
       "      <td>3.161286e+11</td>\n",
       "      <td>1.222262e+11</td>\n",
       "      <td>10005</td>\n",
       "    </tr>\n",
       "  </tbody>\n",
       "</table>\n",
       "</div>"
      ],
      "text/plain": [
       "   Weather Normalized Site EUI (kBtu/ft²)  Emissions(CO2e)  directCO2e  \\\n",
       "0                                 11912.7         245280.3     97241.3   \n",
       "1                                  2443.0          21181.2     11223.7   \n",
       "2                                110917.3        2587807.6     75999.6   \n",
       "3                                  1742.7          64236.7      9127.2   \n",
       "4                                 24169.6         974108.1      9344.8   \n",
       "\n",
       "   DOF Property Floor Area (ft²)  Aggregated Site Energy Use  \\\n",
       "0                     41583640.0                4.953734e+11   \n",
       "1                      3387591.0                8.275885e+09   \n",
       "2                     26338763.0                2.921424e+12   \n",
       "3                      9053649.0                1.577779e+10   \n",
       "4                     13079595.0                3.161286e+11   \n",
       "\n",
       "   Agg_Direct_Emissions Zip Code  \n",
       "0          4.043647e+12    10001  \n",
       "1          3.802131e+10    10002  \n",
       "2          2.001735e+12    10003  \n",
       "3          8.263447e+10    10004  \n",
       "4          1.222262e+11    10005  "
      ]
     },
     "execution_count": 628,
     "metadata": {},
     "output_type": "execute_result"
    }
   ],
   "source": [
    "energy_Zip['Aggregated Site Energy Use'] = energy_Zip['Weather Normalized Site EUI (kBtu/ft²)'] * \\\n",
    "    energy_Zip['DOF Property Floor Area (ft²)']\n",
    "energy_Zip['Agg_Direct_Emissions'] = energy_Zip['directCO2e'] * \\\n",
    "    energy_Zip['DOF Property Floor Area (ft²)']\n",
    "energy_Zip['Zip Code'] = energy_Zip.index\n",
    "x = len(energy_Zip)\n",
    "energy_Zip.index = np.arange(0,x)\n",
    "print(x)\n",
    "energy_Zip.head()"
   ]
  },
  {
   "cell_type": "code",
   "execution_count": 650,
   "metadata": {
    "collapsed": false
   },
   "outputs": [
    {
     "name": "stdout",
     "output_type": "stream",
     "text": [
      "42\n"
     ]
    },
    {
     "data": {
      "text/html": [
       "<div>\n",
       "<table border=\"1\" class=\"dataframe\">\n",
       "  <thead>\n",
       "    <tr style=\"text-align: right;\">\n",
       "      <th></th>\n",
       "      <th>Weather Normalized Site EUI (kBtu/ft²)</th>\n",
       "      <th>Emissions(CO2e)</th>\n",
       "      <th>directCO2e</th>\n",
       "      <th>DOF Property Floor Area (ft²)</th>\n",
       "      <th>Aggregated Site Energy Use</th>\n",
       "      <th>Agg_Direct_Emissions</th>\n",
       "      <th>Zip Code</th>\n",
       "      <th>Discharges2012-2014</th>\n",
       "      <th>Discharge_Rate</th>\n",
       "    </tr>\n",
       "  </thead>\n",
       "  <tbody>\n",
       "    <tr>\n",
       "      <th>0</th>\n",
       "      <td>11912.7</td>\n",
       "      <td>245280.3</td>\n",
       "      <td>97241.3</td>\n",
       "      <td>41583640.0</td>\n",
       "      <td>4.953734e+11</td>\n",
       "      <td>4.043647e+12</td>\n",
       "      <td>10001</td>\n",
       "      <td>159.0</td>\n",
       "      <td>21.9</td>\n",
       "    </tr>\n",
       "    <tr>\n",
       "      <th>1</th>\n",
       "      <td>2443.0</td>\n",
       "      <td>21181.2</td>\n",
       "      <td>11223.7</td>\n",
       "      <td>3387591.0</td>\n",
       "      <td>8.275885e+09</td>\n",
       "      <td>3.802131e+10</td>\n",
       "      <td>10002</td>\n",
       "      <td>592.0</td>\n",
       "      <td>23.9</td>\n",
       "    </tr>\n",
       "    <tr>\n",
       "      <th>2</th>\n",
       "      <td>110917.3</td>\n",
       "      <td>2587807.6</td>\n",
       "      <td>75999.6</td>\n",
       "      <td>26338763.0</td>\n",
       "      <td>2.921424e+12</td>\n",
       "      <td>2.001735e+12</td>\n",
       "      <td>10003</td>\n",
       "      <td>130.0</td>\n",
       "      <td>7.7</td>\n",
       "    </tr>\n",
       "    <tr>\n",
       "      <th>3</th>\n",
       "      <td>1742.7</td>\n",
       "      <td>64236.7</td>\n",
       "      <td>9127.2</td>\n",
       "      <td>9053649.0</td>\n",
       "      <td>1.577779e+10</td>\n",
       "      <td>8.263447e+10</td>\n",
       "      <td>10004</td>\n",
       "      <td>NaN</td>\n",
       "      <td>NaN</td>\n",
       "    </tr>\n",
       "    <tr>\n",
       "      <th>4</th>\n",
       "      <td>24169.6</td>\n",
       "      <td>974108.1</td>\n",
       "      <td>9344.8</td>\n",
       "      <td>13079595.0</td>\n",
       "      <td>3.161286e+11</td>\n",
       "      <td>1.222262e+11</td>\n",
       "      <td>10005</td>\n",
       "      <td>6.0</td>\n",
       "      <td>2.2</td>\n",
       "    </tr>\n",
       "  </tbody>\n",
       "</table>\n",
       "</div>"
      ],
      "text/plain": [
       "   Weather Normalized Site EUI (kBtu/ft²)  Emissions(CO2e)  directCO2e  \\\n",
       "0                                 11912.7         245280.3     97241.3   \n",
       "1                                  2443.0          21181.2     11223.7   \n",
       "2                                110917.3        2587807.6     75999.6   \n",
       "3                                  1742.7          64236.7      9127.2   \n",
       "4                                 24169.6         974108.1      9344.8   \n",
       "\n",
       "   DOF Property Floor Area (ft²)  Aggregated Site Energy Use  \\\n",
       "0                     41583640.0                4.953734e+11   \n",
       "1                      3387591.0                8.275885e+09   \n",
       "2                     26338763.0                2.921424e+12   \n",
       "3                      9053649.0                1.577779e+10   \n",
       "4                     13079595.0                3.161286e+11   \n",
       "\n",
       "   Agg_Direct_Emissions  Zip Code  Discharges2012-2014  Discharge_Rate  \n",
       "0          4.043647e+12     10001                159.0            21.9  \n",
       "1          3.802131e+10     10002                592.0            23.9  \n",
       "2          2.001735e+12     10003                130.0             7.7  \n",
       "3          8.263447e+10     10004                  NaN             NaN  \n",
       "4          1.222262e+11     10005                  6.0             2.2  "
      ]
     },
     "execution_count": 650,
     "metadata": {},
     "output_type": "execute_result"
    }
   ],
   "source": [
    "MHasthmaZip = pd.merge(energy_Zip, MHasthma, on=['Zip Code'], how='inner')\n",
    "MHasthmaZip['Discharges2012-2014'] = MHasthmaZip['Discharges2012-2014'].str.replace(',', '')\n",
    "MHasthmaZip['Discharges2012-2014'] = MHasthmaZip['Discharges2012-2014'].astype(float)\n",
    "MHasthmaZip['Zip Code'] = MHasthmaZip['Zip Code'].astype(int)\n",
    "MHasthmaZip.to_csv(path_or_buf='MN_asthma_energy_per_zip.csv')\n",
    "print(len(MHasthmaZip))\n",
    "MHasthmaZip.head()"
   ]
  },
  {
   "cell_type": "code",
   "execution_count": 642,
   "metadata": {
    "collapsed": false
   },
   "outputs": [
    {
     "data": {
      "text/plain": [
       "<matplotlib.legend.Legend at 0x7f62ae43c668>"
      ]
     },
     "execution_count": 642,
     "metadata": {},
     "output_type": "execute_result"
    },
    {
     "data": {
      "image/png": "[encoded data removed]",
      "text/plain": [
       "<matplotlib.figure.Figure at 0x7f62ae571be0>"
      ]
     },
     "metadata": {},
     "output_type": "display_data"
    }
   ],
   "source": [
    "pl.figure(figsize=(8,4))\n",
    "pl.scatter(MHasthmaZip['Aggregated Site Energy Use'], MHasthmaZip['Discharge_Rate'], s=100, label=('Zip Codes'), marker=\".\")\n",
    "pl.xlabel(\"Aggregated Site Energy Use\", fontsize=10)\n",
    "pl.ylabel(\"Asthma Discharge Rate\", fontsize=10)\n",
    "pl.title(\"Building Energy Use and Asthma Discharge Rate Per MH Zip Code\", fontsize=14)\n",
    "pl.legend()"
   ]
  },
  {
   "cell_type": "code",
   "execution_count": 644,
   "metadata": {
    "collapsed": false
   },
   "outputs": [
    {
     "data": {
      "text/plain": [
       "<matplotlib.legend.Legend at 0x7f62af05b470>"
      ]
     },
     "execution_count": 644,
     "metadata": {},
     "output_type": "execute_result"
    },
    {
     "data": {
      "image/png": "[encoded data removed]",
      "text/plain": [
       "<matplotlib.figure.Figure at 0x7f62ae373ba8>"
      ]
     },
     "metadata": {},
     "output_type": "display_data"
    }
   ],
   "source": [
    "pl.figure(figsize=(10,4))\n",
    "pl.scatter(MHasthmaZip['directCO2e'], MHasthmaZip['Discharge_Rate'], label=('Zip Codes'), marker=\".\")\n",
    "pl.xlabel(\"Direct Emissions (CO2e)\", fontsize=10)\n",
    "pl.ylabel(\"Asthma Discharge Rate\", fontsize=10)\n",
    "pl.title(\"Building Emissions and Asthma Discharge Rates Per MH Zip Code\", fontsize=14)\n",
    "pl.legend()"
   ]
  },
  {
   "cell_type": "code",
   "execution_count": 652,
   "metadata": {
    "collapsed": false
   },
   "outputs": [
    {
     "data": {
      "text/plain": [
       "<matplotlib.collections.PathCollection at 0x7f62ae46ec18>"
      ]
     },
     "execution_count": 652,
     "metadata": {},
     "output_type": "execute_result"
    },
    {
     "data": {
      "image/png": "[encoded data removed]",
      "text/plain": [
       "<matplotlib.figure.Figure at 0x7f62ae49f4a8>"
      ]
     },
     "metadata": {},
     "output_type": "display_data"
    }
   ],
   "source": [
    "fig = plt.figure()\n",
    "ax = plt.gca()\n",
    "ax.scatter(MHasthmaZip['Discharge_Rate'], MHasthmaZip['directCO2e'], c='blue', alpha=0.05, edgecolors='none')\n",
    "#ax.set_yscale('log')\n",
    "#ax.set_xscale('log')"
   ]
  },
  {
   "cell_type": "code",
   "execution_count": 598,
   "metadata": {
    "collapsed": false
   },
   "outputs": [
    {
     "data": {
      "text/plain": [
       "<matplotlib.legend.Legend at 0x7f62af31ee80>"
      ]
     },
     "execution_count": 598,
     "metadata": {},
     "output_type": "execute_result"
    },
    {
     "data": {
      "image/png": "[encoded data removed]",
      "text/plain": [
       "<matplotlib.figure.Figure at 0x7f62af3894e0>"
      ]
     },
     "metadata": {},
     "output_type": "display_data"
    }
   ],
   "source": [
    "pl.figure(figsize=(10,4))\n",
    "pl.scatter(MHasthmaZip['Emissions(CO2e)'], MHasthmaZip['Discharges2012-2014'], s=100, \\\n",
    "           cmap='bone', label=('Zip Codes'), marker=\".\")\n",
    "pl.xlabel(\"Emissions (CO2e) of all Buildings in Zip Code\", fontsize=10)\n",
    "pl.ylabel(\"Asthma Discharges 2012-2014\", fontsize=10)\n",
    "pl.title(\"Building Emissions and Asthma Discharges Per MH Zip Code\", fontsize=14)\n",
    "pl.legend()"
   ]
  },
  {
   "cell_type": "code",
   "execution_count": 653,
   "metadata": {
    "collapsed": false
   },
   "outputs": [
    {
     "data": {
      "text/plain": [
       "Index(['Address', 'AssessTot', 'BBL', 'BldgArea', 'CB2010', 'CT2010',\n",
       "       'HealthArea', 'LotArea', 'PLUTOMapID', 'Tract2010', 'XCoord', 'YCoord',\n",
       "       'ZipCode'],\n",
       "      dtype='object')"
      ]
     },
     "execution_count": 653,
     "metadata": {},
     "output_type": "execute_result"
    }
   ],
   "source": [
    "MHpluto.columns"
   ]
  },
  {
   "cell_type": "code",
   "execution_count": 655,
   "metadata": {
    "collapsed": false
   },
   "outputs": [
    {
     "data": {
      "text/plain": [
       "Index(['Weather Normalized Site EUI (kBtu/ft²)', 'Emissions(CO2e)',\n",
       "       'directCO2e', 'DOF Property Floor Area (ft²)',\n",
       "       'Aggregated Site Energy Use', 'Agg_Direct_Emissions', 'Zip Code',\n",
       "       'Discharges2012-2014', 'Discharge_Rate'],\n",
       "      dtype='object')"
      ]
     },
     "execution_count": 655,
     "metadata": {},
     "output_type": "execute_result"
    }
   ],
   "source": [
    "MHasthmaZip.columns"
   ]
  },
  {
   "cell_type": "code",
   "execution_count": null,
   "metadata": {
    "collapsed": false
   },
   "outputs": [],
   "source": [
    "zipshape = gpd.read_file(os.getenv('PUIDATA')+ \"/ZIP_CODE_040114.shp\")"
   ]
  },
  {
   "cell_type": "code",
   "execution_count": 684,
   "metadata": {
    "collapsed": false
   },
   "outputs": [
    {
     "data": {
      "text/plain": [
       "numpy.int64"
      ]
     },
     "execution_count": 684,
     "metadata": {},
     "output_type": "execute_result"
    }
   ],
   "source": [
    "type(MHasthmaZip['Zip Code'][1])"
   ]
  },
  {
   "cell_type": "code",
   "execution_count": 685,
   "metadata": {
    "collapsed": false
   },
   "outputs": [
    {
     "data": {
      "text/html": [
       "<div>\n",
       "<table border=\"1\" class=\"dataframe\">\n",
       "  <thead>\n",
       "    <tr style=\"text-align: right;\">\n",
       "      <th></th>\n",
       "      <th>AREA</th>\n",
       "      <th>BLDGZIP</th>\n",
       "      <th>COUNTY</th>\n",
       "      <th>CTY_FIPS</th>\n",
       "      <th>POPULATION</th>\n",
       "      <th>PO_NAME</th>\n",
       "      <th>SHAPE_AREA</th>\n",
       "      <th>SHAPE_LEN</th>\n",
       "      <th>STATE</th>\n",
       "      <th>ST_FIPS</th>\n",
       "      <th>URL</th>\n",
       "      <th>Zip Code</th>\n",
       "      <th>geometry</th>\n",
       "    </tr>\n",
       "  </thead>\n",
       "  <tbody>\n",
       "    <tr>\n",
       "      <th>0</th>\n",
       "      <td>2.269930e+07</td>\n",
       "      <td>0</td>\n",
       "      <td>Queens</td>\n",
       "      <td>081</td>\n",
       "      <td>18681.0</td>\n",
       "      <td>Jamaica</td>\n",
       "      <td>0.0</td>\n",
       "      <td>0.0</td>\n",
       "      <td>NY</td>\n",
       "      <td>36</td>\n",
       "      <td>http://www.usps.com/</td>\n",
       "      <td>11436</td>\n",
       "      <td>POLYGON ((1038098.251871482 188138.3800067157,...</td>\n",
       "    </tr>\n",
       "    <tr>\n",
       "      <th>1</th>\n",
       "      <td>2.963100e+07</td>\n",
       "      <td>0</td>\n",
       "      <td>Kings</td>\n",
       "      <td>047</td>\n",
       "      <td>62426.0</td>\n",
       "      <td>Brooklyn</td>\n",
       "      <td>0.0</td>\n",
       "      <td>0.0</td>\n",
       "      <td>NY</td>\n",
       "      <td>36</td>\n",
       "      <td>http://www.usps.com/</td>\n",
       "      <td>11213</td>\n",
       "      <td>POLYGON ((1001613.712964058 186926.4395172149,...</td>\n",
       "    </tr>\n",
       "  </tbody>\n",
       "</table>\n",
       "</div>"
      ],
      "text/plain": [
       "           AREA BLDGZIP  COUNTY CTY_FIPS  POPULATION   PO_NAME  SHAPE_AREA  \\\n",
       "0  2.269930e+07       0  Queens      081     18681.0   Jamaica         0.0   \n",
       "1  2.963100e+07       0   Kings      047     62426.0  Brooklyn         0.0   \n",
       "\n",
       "   SHAPE_LEN STATE ST_FIPS                   URL  Zip Code  \\\n",
       "0        0.0    NY      36  http://www.usps.com/     11436   \n",
       "1        0.0    NY      36  http://www.usps.com/     11213   \n",
       "\n",
       "                                            geometry  \n",
       "0  POLYGON ((1038098.251871482 188138.3800067157,...  \n",
       "1  POLYGON ((1001613.712964058 186926.4395172149,...  "
      ]
     },
     "execution_count": 685,
     "metadata": {},
     "output_type": "execute_result"
    }
   ],
   "source": [
    "zipshape.rename(columns={'ZIPCODE': 'Zip Code'}, inplace=True)\n",
    "zipshape['Zip Code'] = zipshape['Zip Code'].astype(int)\n",
    "zipshape.head(2)"
   ]
  },
  {
   "cell_type": "code",
   "execution_count": 689,
   "metadata": {
    "collapsed": false
   },
   "outputs": [
    {
     "data": {
      "text/html": [
       "<div>\n",
       "<table border=\"1\" class=\"dataframe\">\n",
       "  <thead>\n",
       "    <tr style=\"text-align: right;\">\n",
       "      <th></th>\n",
       "      <th>Weather Normalized Site EUI (kBtu/ft²)</th>\n",
       "      <th>Emissions(CO2e)</th>\n",
       "      <th>directCO2e</th>\n",
       "      <th>DOF Property Floor Area (ft²)</th>\n",
       "      <th>Aggregated Site Energy Use</th>\n",
       "      <th>Agg_Direct_Emissions</th>\n",
       "      <th>Zip Code</th>\n",
       "      <th>Discharges2012-2014</th>\n",
       "      <th>Discharge_Rate</th>\n",
       "      <th>AREA</th>\n",
       "      <th>...</th>\n",
       "      <th>COUNTY</th>\n",
       "      <th>CTY_FIPS</th>\n",
       "      <th>POPULATION</th>\n",
       "      <th>PO_NAME</th>\n",
       "      <th>SHAPE_AREA</th>\n",
       "      <th>SHAPE_LEN</th>\n",
       "      <th>STATE</th>\n",
       "      <th>ST_FIPS</th>\n",
       "      <th>URL</th>\n",
       "      <th>geometry</th>\n",
       "    </tr>\n",
       "  </thead>\n",
       "  <tbody>\n",
       "    <tr>\n",
       "      <th>0</th>\n",
       "      <td>11912.7</td>\n",
       "      <td>245280.3</td>\n",
       "      <td>97241.3</td>\n",
       "      <td>41583640.0</td>\n",
       "      <td>4.953734e+11</td>\n",
       "      <td>4.043647e+12</td>\n",
       "      <td>10001</td>\n",
       "      <td>159.0</td>\n",
       "      <td>21.9</td>\n",
       "      <td>1.779494e+07</td>\n",
       "      <td>...</td>\n",
       "      <td>New York</td>\n",
       "      <td>061</td>\n",
       "      <td>22413.0</td>\n",
       "      <td>New York</td>\n",
       "      <td>0.0</td>\n",
       "      <td>0.0</td>\n",
       "      <td>NY</td>\n",
       "      <td>36</td>\n",
       "      <td>http://www.usps.com/</td>\n",
       "      <td>POLYGON ((981958.6472873986 213464.4530421346,...</td>\n",
       "    </tr>\n",
       "    <tr>\n",
       "      <th>1</th>\n",
       "      <td>2443.0</td>\n",
       "      <td>21181.2</td>\n",
       "      <td>11223.7</td>\n",
       "      <td>3387591.0</td>\n",
       "      <td>8.275885e+09</td>\n",
       "      <td>3.802131e+10</td>\n",
       "      <td>10002</td>\n",
       "      <td>592.0</td>\n",
       "      <td>23.9</td>\n",
       "      <td>2.628013e+07</td>\n",
       "      <td>...</td>\n",
       "      <td>New York</td>\n",
       "      <td>061</td>\n",
       "      <td>81305.0</td>\n",
       "      <td>New York</td>\n",
       "      <td>0.0</td>\n",
       "      <td>0.0</td>\n",
       "      <td>NY</td>\n",
       "      <td>36</td>\n",
       "      <td>http://www.usps.com/</td>\n",
       "      <td>POLYGON ((991339.8703228086 207576.7837151289,...</td>\n",
       "    </tr>\n",
       "  </tbody>\n",
       "</table>\n",
       "<p>2 rows × 21 columns</p>\n",
       "</div>"
      ],
      "text/plain": [
       "   Weather Normalized Site EUI (kBtu/ft²)  Emissions(CO2e)  directCO2e  \\\n",
       "0                                 11912.7         245280.3     97241.3   \n",
       "1                                  2443.0          21181.2     11223.7   \n",
       "\n",
       "   DOF Property Floor Area (ft²)  Aggregated Site Energy Use  \\\n",
       "0                     41583640.0                4.953734e+11   \n",
       "1                      3387591.0                8.275885e+09   \n",
       "\n",
       "   Agg_Direct_Emissions  Zip Code  Discharges2012-2014  Discharge_Rate  \\\n",
       "0          4.043647e+12     10001                159.0            21.9   \n",
       "1          3.802131e+10     10002                592.0            23.9   \n",
       "\n",
       "           AREA                        ...                            COUNTY  \\\n",
       "0  1.779494e+07                        ...                          New York   \n",
       "1  2.628013e+07                        ...                          New York   \n",
       "\n",
       "  CTY_FIPS POPULATION   PO_NAME SHAPE_AREA  SHAPE_LEN  STATE ST_FIPS  \\\n",
       "0      061    22413.0  New York        0.0        0.0     NY      36   \n",
       "1      061    81305.0  New York        0.0        0.0     NY      36   \n",
       "\n",
       "                    URL                                           geometry  \n",
       "0  http://www.usps.com/  POLYGON ((981958.6472873986 213464.4530421346,...  \n",
       "1  http://www.usps.com/  POLYGON ((991339.8703228086 207576.7837151289,...  \n",
       "\n",
       "[2 rows x 21 columns]"
      ]
     },
     "execution_count": 689,
     "metadata": {},
     "output_type": "execute_result"
    }
   ],
   "source": [
    "# merging with mapPLUTO data for mapping\n",
    "MNasthmazip_shape = pd.merge(MHasthmaZip, zipshape, on='Zip Code', how='inner')\n",
    "MNasthmazip_shape.to_csv(path_or_buf='MN_asthma_energy_zip_shp.csv')\n",
    "MNasthmazip_shape.head(2)"
   ]
  },
  {
   "cell_type": "code",
   "execution_count": 692,
   "metadata": {
    "collapsed": false
   },
   "outputs": [
    {
     "ename": "TypeError",
     "evalue": "There is no Line2D property \"column\"",
     "output_type": "error",
     "traceback": [
      "\u001b[0;31m---------------------------------------------------------------------------\u001b[0m",
      "\u001b[0;31mTypeError\u001b[0m                                 Traceback (most recent call last)",
      "\u001b[0;32m<ipython-input-692-3dc4c38631c0>\u001b[0m in \u001b[0;36m<module>\u001b[0;34m()\u001b[0m\n\u001b[1;32m      1\u001b[0m \u001b[0mf\u001b[0m\u001b[0;34m,\u001b[0m \u001b[0;34m(\u001b[0m\u001b[0max1\u001b[0m\u001b[0;34m)\u001b[0m \u001b[0;34m=\u001b[0m \u001b[0mpl\u001b[0m\u001b[0;34m.\u001b[0m\u001b[0msubplots\u001b[0m\u001b[0;34m(\u001b[0m\u001b[0mfigsize\u001b[0m\u001b[0;34m=\u001b[0m\u001b[0;34m(\u001b[0m\u001b[0;36m12\u001b[0m\u001b[0;34m,\u001b[0m\u001b[0;36m8\u001b[0m\u001b[0;34m)\u001b[0m\u001b[0;34m)\u001b[0m\u001b[0;34m\u001b[0m\u001b[0m\n\u001b[0;32m----> 2\u001b[0;31m \u001b[0mMNasthmazip_shape\u001b[0m\u001b[0;34m.\u001b[0m\u001b[0mplot\u001b[0m\u001b[0;34m(\u001b[0m\u001b[0mcolumn\u001b[0m\u001b[0;34m=\u001b[0m\u001b[0;34m'Agg_Direct_Emissions'\u001b[0m\u001b[0;34m,\u001b[0m\u001b[0mcmap\u001b[0m\u001b[0;34m=\u001b[0m\u001b[0;34m'gnuplot_r'\u001b[0m\u001b[0;34m,\u001b[0m\u001b[0malpha\u001b[0m\u001b[0;34m=\u001b[0m\u001b[0;36m.9\u001b[0m\u001b[0;34m,\u001b[0m\u001b[0mlinewidth\u001b[0m\u001b[0;34m=\u001b[0m\u001b[0;36m0.4\u001b[0m\u001b[0;34m,\u001b[0m\u001b[0max\u001b[0m\u001b[0;34m=\u001b[0m\u001b[0max1\u001b[0m\u001b[0;34m)\u001b[0m\u001b[0;34m\u001b[0m\u001b[0m\n\u001b[0m\u001b[1;32m      3\u001b[0m \u001b[0max1\u001b[0m\u001b[0;34m.\u001b[0m\u001b[0mset_title\u001b[0m\u001b[0;34m(\u001b[0m\u001b[0;34m\"Choropleth of aggregated building emissions by Zipcode)\"\u001b[0m\u001b[0;34m,\u001b[0m \u001b[0mfontsize\u001b[0m\u001b[0;34m=\u001b[0m\u001b[0;36m20\u001b[0m\u001b[0;34m)\u001b[0m\u001b[0;34m\u001b[0m\u001b[0m\n\u001b[1;32m      4\u001b[0m \u001b[0mMNasthmazip_shape\u001b[0m\u001b[0;34m.\u001b[0m\u001b[0mplot\u001b[0m\u001b[0;34m(\u001b[0m\u001b[0malpha\u001b[0m\u001b[0;34m=\u001b[0m\u001b[0;36m0.01\u001b[0m\u001b[0;34m,\u001b[0m \u001b[0mlinewidth\u001b[0m\u001b[0;34m=\u001b[0m\u001b[0;36m0.25\u001b[0m\u001b[0;34m,\u001b[0m \u001b[0max\u001b[0m\u001b[0;34m=\u001b[0m\u001b[0max1\u001b[0m\u001b[0;34m)\u001b[0m\u001b[0;34m\u001b[0m\u001b[0m\n\u001b[1;32m      5\u001b[0m \u001b[0;34m\u001b[0m\u001b[0m\n",
      "\u001b[0;32m/opt/rh/anaconda/root/envs/PUI2016_Python3/lib/python3.5/site-packages/pandas/tools/plotting.py\u001b[0m in \u001b[0;36m__call__\u001b[0;34m(self, x, y, kind, ax, subplots, sharex, sharey, layout, figsize, use_index, title, grid, legend, style, logx, logy, loglog, xticks, yticks, xlim, ylim, rot, fontsize, colormap, table, yerr, xerr, secondary_y, sort_columns, **kwds)\u001b[0m\n\u001b[1;32m   3738\u001b[0m                           \u001b[0mfontsize\u001b[0m\u001b[0;34m=\u001b[0m\u001b[0mfontsize\u001b[0m\u001b[0;34m,\u001b[0m \u001b[0mcolormap\u001b[0m\u001b[0;34m=\u001b[0m\u001b[0mcolormap\u001b[0m\u001b[0;34m,\u001b[0m \u001b[0mtable\u001b[0m\u001b[0;34m=\u001b[0m\u001b[0mtable\u001b[0m\u001b[0;34m,\u001b[0m\u001b[0;34m\u001b[0m\u001b[0m\n\u001b[1;32m   3739\u001b[0m                           \u001b[0myerr\u001b[0m\u001b[0;34m=\u001b[0m\u001b[0myerr\u001b[0m\u001b[0;34m,\u001b[0m \u001b[0mxerr\u001b[0m\u001b[0;34m=\u001b[0m\u001b[0mxerr\u001b[0m\u001b[0;34m,\u001b[0m \u001b[0msecondary_y\u001b[0m\u001b[0;34m=\u001b[0m\u001b[0msecondary_y\u001b[0m\u001b[0;34m,\u001b[0m\u001b[0;34m\u001b[0m\u001b[0m\n\u001b[0;32m-> 3740\u001b[0;31m                           sort_columns=sort_columns, **kwds)\n\u001b[0m\u001b[1;32m   3741\u001b[0m     \u001b[0m__call__\u001b[0m\u001b[0;34m.\u001b[0m\u001b[0m__doc__\u001b[0m \u001b[0;34m=\u001b[0m \u001b[0mplot_frame\u001b[0m\u001b[0;34m.\u001b[0m\u001b[0m__doc__\u001b[0m\u001b[0;34m\u001b[0m\u001b[0m\n\u001b[1;32m   3742\u001b[0m \u001b[0;34m\u001b[0m\u001b[0m\n",
      "\u001b[0;32m/opt/rh/anaconda/root/envs/PUI2016_Python3/lib/python3.5/site-packages/pandas/tools/plotting.py\u001b[0m in \u001b[0;36mplot_frame\u001b[0;34m(data, x, y, kind, ax, subplots, sharex, sharey, layout, figsize, use_index, title, grid, legend, style, logx, logy, loglog, xticks, yticks, xlim, ylim, rot, fontsize, colormap, table, yerr, xerr, secondary_y, sort_columns, **kwds)\u001b[0m\n\u001b[1;32m   2612\u001b[0m                  \u001b[0myerr\u001b[0m\u001b[0;34m=\u001b[0m\u001b[0myerr\u001b[0m\u001b[0;34m,\u001b[0m \u001b[0mxerr\u001b[0m\u001b[0;34m=\u001b[0m\u001b[0mxerr\u001b[0m\u001b[0;34m,\u001b[0m\u001b[0;34m\u001b[0m\u001b[0m\n\u001b[1;32m   2613\u001b[0m                  \u001b[0msecondary_y\u001b[0m\u001b[0;34m=\u001b[0m\u001b[0msecondary_y\u001b[0m\u001b[0;34m,\u001b[0m \u001b[0msort_columns\u001b[0m\u001b[0;34m=\u001b[0m\u001b[0msort_columns\u001b[0m\u001b[0;34m,\u001b[0m\u001b[0;34m\u001b[0m\u001b[0m\n\u001b[0;32m-> 2614\u001b[0;31m                  **kwds)\n\u001b[0m\u001b[1;32m   2615\u001b[0m \u001b[0;34m\u001b[0m\u001b[0m\n\u001b[1;32m   2616\u001b[0m \u001b[0;34m\u001b[0m\u001b[0m\n",
      "\u001b[0;32m/opt/rh/anaconda/root/envs/PUI2016_Python3/lib/python3.5/site-packages/pandas/tools/plotting.py\u001b[0m in \u001b[0;36m_plot\u001b[0;34m(data, x, y, subplots, ax, kind, **kwds)\u001b[0m\n\u001b[1;32m   2439\u001b[0m         \u001b[0mplot_obj\u001b[0m \u001b[0;34m=\u001b[0m \u001b[0mklass\u001b[0m\u001b[0;34m(\u001b[0m\u001b[0mdata\u001b[0m\u001b[0;34m,\u001b[0m \u001b[0msubplots\u001b[0m\u001b[0;34m=\u001b[0m\u001b[0msubplots\u001b[0m\u001b[0;34m,\u001b[0m \u001b[0max\u001b[0m\u001b[0;34m=\u001b[0m\u001b[0max\u001b[0m\u001b[0;34m,\u001b[0m \u001b[0mkind\u001b[0m\u001b[0;34m=\u001b[0m\u001b[0mkind\u001b[0m\u001b[0;34m,\u001b[0m \u001b[0;34m**\u001b[0m\u001b[0mkwds\u001b[0m\u001b[0;34m)\u001b[0m\u001b[0;34m\u001b[0m\u001b[0m\n\u001b[1;32m   2440\u001b[0m \u001b[0;34m\u001b[0m\u001b[0m\n\u001b[0;32m-> 2441\u001b[0;31m     \u001b[0mplot_obj\u001b[0m\u001b[0;34m.\u001b[0m\u001b[0mgenerate\u001b[0m\u001b[0;34m(\u001b[0m\u001b[0;34m)\u001b[0m\u001b[0;34m\u001b[0m\u001b[0m\n\u001b[0m\u001b[1;32m   2442\u001b[0m     \u001b[0mplot_obj\u001b[0m\u001b[0;34m.\u001b[0m\u001b[0mdraw\u001b[0m\u001b[0;34m(\u001b[0m\u001b[0;34m)\u001b[0m\u001b[0;34m\u001b[0m\u001b[0m\n\u001b[1;32m   2443\u001b[0m     \u001b[0;32mreturn\u001b[0m \u001b[0mplot_obj\u001b[0m\u001b[0;34m.\u001b[0m\u001b[0mresult\u001b[0m\u001b[0;34m\u001b[0m\u001b[0m\n",
      "\u001b[0;32m/opt/rh/anaconda/root/envs/PUI2016_Python3/lib/python3.5/site-packages/pandas/tools/plotting.py\u001b[0m in \u001b[0;36mgenerate\u001b[0;34m(self)\u001b[0m\n\u001b[1;32m   1026\u001b[0m         \u001b[0mself\u001b[0m\u001b[0;34m.\u001b[0m\u001b[0m_compute_plot_data\u001b[0m\u001b[0;34m(\u001b[0m\u001b[0;34m)\u001b[0m\u001b[0;34m\u001b[0m\u001b[0m\n\u001b[1;32m   1027\u001b[0m         \u001b[0mself\u001b[0m\u001b[0;34m.\u001b[0m\u001b[0m_setup_subplots\u001b[0m\u001b[0;34m(\u001b[0m\u001b[0;34m)\u001b[0m\u001b[0;34m\u001b[0m\u001b[0m\n\u001b[0;32m-> 1028\u001b[0;31m         \u001b[0mself\u001b[0m\u001b[0;34m.\u001b[0m\u001b[0m_make_plot\u001b[0m\u001b[0;34m(\u001b[0m\u001b[0;34m)\u001b[0m\u001b[0;34m\u001b[0m\u001b[0m\n\u001b[0m\u001b[1;32m   1029\u001b[0m         \u001b[0mself\u001b[0m\u001b[0;34m.\u001b[0m\u001b[0m_add_table\u001b[0m\u001b[0;34m(\u001b[0m\u001b[0;34m)\u001b[0m\u001b[0;34m\u001b[0m\u001b[0m\n\u001b[1;32m   1030\u001b[0m         \u001b[0mself\u001b[0m\u001b[0;34m.\u001b[0m\u001b[0m_make_legend\u001b[0m\u001b[0;34m(\u001b[0m\u001b[0;34m)\u001b[0m\u001b[0;34m\u001b[0m\u001b[0m\n",
      "\u001b[0;32m/opt/rh/anaconda/root/envs/PUI2016_Python3/lib/python3.5/site-packages/pandas/tools/plotting.py\u001b[0m in \u001b[0;36m_make_plot\u001b[0;34m(self)\u001b[0m\n\u001b[1;32m   1705\u001b[0m                              \u001b[0mstacking_id\u001b[0m\u001b[0;34m=\u001b[0m\u001b[0mstacking_id\u001b[0m\u001b[0;34m,\u001b[0m\u001b[0;34m\u001b[0m\u001b[0m\n\u001b[1;32m   1706\u001b[0m                              \u001b[0mis_errorbar\u001b[0m\u001b[0;34m=\u001b[0m\u001b[0mis_errorbar\u001b[0m\u001b[0;34m,\u001b[0m\u001b[0;34m\u001b[0m\u001b[0m\n\u001b[0;32m-> 1707\u001b[0;31m                              **kwds)\n\u001b[0m\u001b[1;32m   1708\u001b[0m             \u001b[0mself\u001b[0m\u001b[0;34m.\u001b[0m\u001b[0m_add_legend_handle\u001b[0m\u001b[0;34m(\u001b[0m\u001b[0mnewlines\u001b[0m\u001b[0;34m[\u001b[0m\u001b[0;36m0\u001b[0m\u001b[0;34m]\u001b[0m\u001b[0;34m,\u001b[0m \u001b[0mlabel\u001b[0m\u001b[0;34m,\u001b[0m \u001b[0mindex\u001b[0m\u001b[0;34m=\u001b[0m\u001b[0mi\u001b[0m\u001b[0;34m)\u001b[0m\u001b[0;34m\u001b[0m\u001b[0m\n\u001b[1;32m   1709\u001b[0m \u001b[0;34m\u001b[0m\u001b[0m\n",
      "\u001b[0;32m/opt/rh/anaconda/root/envs/PUI2016_Python3/lib/python3.5/site-packages/pandas/tools/plotting.py\u001b[0m in \u001b[0;36m_plot\u001b[0;34m(cls, ax, x, y, style, column_num, stacking_id, **kwds)\u001b[0m\n\u001b[1;32m   1720\u001b[0m             \u001b[0mcls\u001b[0m\u001b[0;34m.\u001b[0m\u001b[0m_initialize_stacker\u001b[0m\u001b[0;34m(\u001b[0m\u001b[0max\u001b[0m\u001b[0;34m,\u001b[0m \u001b[0mstacking_id\u001b[0m\u001b[0;34m,\u001b[0m \u001b[0mlen\u001b[0m\u001b[0;34m(\u001b[0m\u001b[0my\u001b[0m\u001b[0;34m)\u001b[0m\u001b[0;34m)\u001b[0m\u001b[0;34m\u001b[0m\u001b[0m\n\u001b[1;32m   1721\u001b[0m         \u001b[0my_values\u001b[0m \u001b[0;34m=\u001b[0m \u001b[0mcls\u001b[0m\u001b[0;34m.\u001b[0m\u001b[0m_get_stacked_values\u001b[0m\u001b[0;34m(\u001b[0m\u001b[0max\u001b[0m\u001b[0;34m,\u001b[0m \u001b[0mstacking_id\u001b[0m\u001b[0;34m,\u001b[0m \u001b[0my\u001b[0m\u001b[0;34m,\u001b[0m \u001b[0mkwds\u001b[0m\u001b[0;34m[\u001b[0m\u001b[0;34m'label'\u001b[0m\u001b[0;34m]\u001b[0m\u001b[0;34m)\u001b[0m\u001b[0;34m\u001b[0m\u001b[0m\n\u001b[0;32m-> 1722\u001b[0;31m         \u001b[0mlines\u001b[0m \u001b[0;34m=\u001b[0m \u001b[0mMPLPlot\u001b[0m\u001b[0;34m.\u001b[0m\u001b[0m_plot\u001b[0m\u001b[0;34m(\u001b[0m\u001b[0max\u001b[0m\u001b[0;34m,\u001b[0m \u001b[0mx\u001b[0m\u001b[0;34m,\u001b[0m \u001b[0my_values\u001b[0m\u001b[0;34m,\u001b[0m \u001b[0mstyle\u001b[0m\u001b[0;34m=\u001b[0m\u001b[0mstyle\u001b[0m\u001b[0;34m,\u001b[0m \u001b[0;34m**\u001b[0m\u001b[0mkwds\u001b[0m\u001b[0;34m)\u001b[0m\u001b[0;34m\u001b[0m\u001b[0m\n\u001b[0m\u001b[1;32m   1723\u001b[0m         \u001b[0mcls\u001b[0m\u001b[0;34m.\u001b[0m\u001b[0m_update_stacker\u001b[0m\u001b[0;34m(\u001b[0m\u001b[0max\u001b[0m\u001b[0;34m,\u001b[0m \u001b[0mstacking_id\u001b[0m\u001b[0;34m,\u001b[0m \u001b[0my\u001b[0m\u001b[0;34m)\u001b[0m\u001b[0;34m\u001b[0m\u001b[0m\n\u001b[1;32m   1724\u001b[0m         \u001b[0;32mreturn\u001b[0m \u001b[0mlines\u001b[0m\u001b[0;34m\u001b[0m\u001b[0m\n",
      "\u001b[0;32m/opt/rh/anaconda/root/envs/PUI2016_Python3/lib/python3.5/site-packages/pandas/tools/plotting.py\u001b[0m in \u001b[0;36m_plot\u001b[0;34m(cls, ax, x, y, style, is_errorbar, **kwds)\u001b[0m\n\u001b[1;32m   1340\u001b[0m             \u001b[0;32melse\u001b[0m\u001b[0;34m:\u001b[0m\u001b[0;34m\u001b[0m\u001b[0m\n\u001b[1;32m   1341\u001b[0m                 \u001b[0margs\u001b[0m \u001b[0;34m=\u001b[0m \u001b[0;34m(\u001b[0m\u001b[0mx\u001b[0m\u001b[0;34m,\u001b[0m \u001b[0my\u001b[0m\u001b[0;34m)\u001b[0m\u001b[0;34m\u001b[0m\u001b[0m\n\u001b[0;32m-> 1342\u001b[0;31m             \u001b[0;32mreturn\u001b[0m \u001b[0max\u001b[0m\u001b[0;34m.\u001b[0m\u001b[0mplot\u001b[0m\u001b[0;34m(\u001b[0m\u001b[0;34m*\u001b[0m\u001b[0margs\u001b[0m\u001b[0;34m,\u001b[0m \u001b[0;34m**\u001b[0m\u001b[0mkwds\u001b[0m\u001b[0;34m)\u001b[0m\u001b[0;34m\u001b[0m\u001b[0m\n\u001b[0m\u001b[1;32m   1343\u001b[0m \u001b[0;34m\u001b[0m\u001b[0m\n\u001b[1;32m   1344\u001b[0m     \u001b[0;32mdef\u001b[0m \u001b[0m_get_index_name\u001b[0m\u001b[0;34m(\u001b[0m\u001b[0mself\u001b[0m\u001b[0;34m)\u001b[0m\u001b[0;34m:\u001b[0m\u001b[0;34m\u001b[0m\u001b[0m\n",
      "\u001b[0;32m/opt/rh/anaconda/root/envs/PUI2016_Python3/lib/python3.5/site-packages/matplotlib/__init__.py\u001b[0m in \u001b[0;36minner\u001b[0;34m(ax, *args, **kwargs)\u001b[0m\n\u001b[1;32m   1810\u001b[0m                     warnings.warn(msg % (label_namer, func.__name__),\n\u001b[1;32m   1811\u001b[0m                                   RuntimeWarning, stacklevel=2)\n\u001b[0;32m-> 1812\u001b[0;31m             \u001b[0;32mreturn\u001b[0m \u001b[0mfunc\u001b[0m\u001b[0;34m(\u001b[0m\u001b[0max\u001b[0m\u001b[0;34m,\u001b[0m \u001b[0;34m*\u001b[0m\u001b[0margs\u001b[0m\u001b[0;34m,\u001b[0m \u001b[0;34m**\u001b[0m\u001b[0mkwargs\u001b[0m\u001b[0;34m)\u001b[0m\u001b[0;34m\u001b[0m\u001b[0m\n\u001b[0m\u001b[1;32m   1813\u001b[0m         \u001b[0mpre_doc\u001b[0m \u001b[0;34m=\u001b[0m \u001b[0minner\u001b[0m\u001b[0;34m.\u001b[0m\u001b[0m__doc__\u001b[0m\u001b[0;34m\u001b[0m\u001b[0m\n\u001b[1;32m   1814\u001b[0m         \u001b[0;32mif\u001b[0m \u001b[0mpre_doc\u001b[0m \u001b[0;32mis\u001b[0m \u001b[0;32mNone\u001b[0m\u001b[0;34m:\u001b[0m\u001b[0;34m\u001b[0m\u001b[0m\n",
      "\u001b[0;32m/opt/rh/anaconda/root/envs/PUI2016_Python3/lib/python3.5/site-packages/matplotlib/axes/_axes.py\u001b[0m in \u001b[0;36mplot\u001b[0;34m(self, *args, **kwargs)\u001b[0m\n\u001b[1;32m   1422\u001b[0m             \u001b[0mkwargs\u001b[0m\u001b[0;34m[\u001b[0m\u001b[0;34m'color'\u001b[0m\u001b[0;34m]\u001b[0m \u001b[0;34m=\u001b[0m \u001b[0mc\u001b[0m\u001b[0;34m\u001b[0m\u001b[0m\n\u001b[1;32m   1423\u001b[0m \u001b[0;34m\u001b[0m\u001b[0m\n\u001b[0;32m-> 1424\u001b[0;31m         \u001b[0;32mfor\u001b[0m \u001b[0mline\u001b[0m \u001b[0;32min\u001b[0m \u001b[0mself\u001b[0m\u001b[0;34m.\u001b[0m\u001b[0m_get_lines\u001b[0m\u001b[0;34m(\u001b[0m\u001b[0;34m*\u001b[0m\u001b[0margs\u001b[0m\u001b[0;34m,\u001b[0m \u001b[0;34m**\u001b[0m\u001b[0mkwargs\u001b[0m\u001b[0;34m)\u001b[0m\u001b[0;34m:\u001b[0m\u001b[0;34m\u001b[0m\u001b[0m\n\u001b[0m\u001b[1;32m   1425\u001b[0m             \u001b[0mself\u001b[0m\u001b[0;34m.\u001b[0m\u001b[0madd_line\u001b[0m\u001b[0;34m(\u001b[0m\u001b[0mline\u001b[0m\u001b[0;34m)\u001b[0m\u001b[0;34m\u001b[0m\u001b[0m\n\u001b[1;32m   1426\u001b[0m             \u001b[0mlines\u001b[0m\u001b[0;34m.\u001b[0m\u001b[0mappend\u001b[0m\u001b[0;34m(\u001b[0m\u001b[0mline\u001b[0m\u001b[0;34m)\u001b[0m\u001b[0;34m\u001b[0m\u001b[0m\n",
      "\u001b[0;32m/opt/rh/anaconda/root/envs/PUI2016_Python3/lib/python3.5/site-packages/matplotlib/axes/_base.py\u001b[0m in \u001b[0;36m_grab_next_args\u001b[0;34m(self, *args, **kwargs)\u001b[0m\n\u001b[1;32m    384\u001b[0m                 \u001b[0;32mreturn\u001b[0m\u001b[0;34m\u001b[0m\u001b[0m\n\u001b[1;32m    385\u001b[0m             \u001b[0;32mif\u001b[0m \u001b[0mlen\u001b[0m\u001b[0;34m(\u001b[0m\u001b[0mremaining\u001b[0m\u001b[0;34m)\u001b[0m \u001b[0;34m<=\u001b[0m \u001b[0;36m3\u001b[0m\u001b[0;34m:\u001b[0m\u001b[0;34m\u001b[0m\u001b[0m\n\u001b[0;32m--> 386\u001b[0;31m                 \u001b[0;32mfor\u001b[0m \u001b[0mseg\u001b[0m \u001b[0;32min\u001b[0m \u001b[0mself\u001b[0m\u001b[0;34m.\u001b[0m\u001b[0m_plot_args\u001b[0m\u001b[0;34m(\u001b[0m\u001b[0mremaining\u001b[0m\u001b[0;34m,\u001b[0m \u001b[0mkwargs\u001b[0m\u001b[0;34m)\u001b[0m\u001b[0;34m:\u001b[0m\u001b[0;34m\u001b[0m\u001b[0m\n\u001b[0m\u001b[1;32m    387\u001b[0m                     \u001b[0;32myield\u001b[0m \u001b[0mseg\u001b[0m\u001b[0;34m\u001b[0m\u001b[0m\n\u001b[1;32m    388\u001b[0m                 \u001b[0;32mreturn\u001b[0m\u001b[0;34m\u001b[0m\u001b[0m\n",
      "\u001b[0;32m/opt/rh/anaconda/root/envs/PUI2016_Python3/lib/python3.5/site-packages/matplotlib/axes/_base.py\u001b[0m in \u001b[0;36m_plot_args\u001b[0;34m(self, tup, kwargs)\u001b[0m\n\u001b[1;32m    372\u001b[0m         \u001b[0mncx\u001b[0m\u001b[0;34m,\u001b[0m \u001b[0mncy\u001b[0m \u001b[0;34m=\u001b[0m \u001b[0mx\u001b[0m\u001b[0;34m.\u001b[0m\u001b[0mshape\u001b[0m\u001b[0;34m[\u001b[0m\u001b[0;36m1\u001b[0m\u001b[0;34m]\u001b[0m\u001b[0;34m,\u001b[0m \u001b[0my\u001b[0m\u001b[0;34m.\u001b[0m\u001b[0mshape\u001b[0m\u001b[0;34m[\u001b[0m\u001b[0;36m1\u001b[0m\u001b[0;34m]\u001b[0m\u001b[0;34m\u001b[0m\u001b[0m\n\u001b[1;32m    373\u001b[0m         \u001b[0;32mfor\u001b[0m \u001b[0mj\u001b[0m \u001b[0;32min\u001b[0m \u001b[0mxrange\u001b[0m\u001b[0;34m(\u001b[0m\u001b[0mmax\u001b[0m\u001b[0;34m(\u001b[0m\u001b[0mncx\u001b[0m\u001b[0;34m,\u001b[0m \u001b[0mncy\u001b[0m\u001b[0;34m)\u001b[0m\u001b[0;34m)\u001b[0m\u001b[0;34m:\u001b[0m\u001b[0;34m\u001b[0m\u001b[0m\n\u001b[0;32m--> 374\u001b[0;31m             \u001b[0mseg\u001b[0m \u001b[0;34m=\u001b[0m \u001b[0mfunc\u001b[0m\u001b[0;34m(\u001b[0m\u001b[0mx\u001b[0m\u001b[0;34m[\u001b[0m\u001b[0;34m:\u001b[0m\u001b[0;34m,\u001b[0m \u001b[0mj\u001b[0m \u001b[0;34m%\u001b[0m \u001b[0mncx\u001b[0m\u001b[0;34m]\u001b[0m\u001b[0;34m,\u001b[0m \u001b[0my\u001b[0m\u001b[0;34m[\u001b[0m\u001b[0;34m:\u001b[0m\u001b[0;34m,\u001b[0m \u001b[0mj\u001b[0m \u001b[0;34m%\u001b[0m \u001b[0mncy\u001b[0m\u001b[0;34m]\u001b[0m\u001b[0;34m,\u001b[0m \u001b[0mkw\u001b[0m\u001b[0;34m,\u001b[0m \u001b[0mkwargs\u001b[0m\u001b[0;34m)\u001b[0m\u001b[0;34m\u001b[0m\u001b[0m\n\u001b[0m\u001b[1;32m    375\u001b[0m             \u001b[0mret\u001b[0m\u001b[0;34m.\u001b[0m\u001b[0mappend\u001b[0m\u001b[0;34m(\u001b[0m\u001b[0mseg\u001b[0m\u001b[0;34m)\u001b[0m\u001b[0;34m\u001b[0m\u001b[0m\n\u001b[1;32m    376\u001b[0m         \u001b[0;32mreturn\u001b[0m \u001b[0mret\u001b[0m\u001b[0;34m\u001b[0m\u001b[0m\n",
      "\u001b[0;32m/opt/rh/anaconda/root/envs/PUI2016_Python3/lib/python3.5/site-packages/matplotlib/axes/_base.py\u001b[0m in \u001b[0;36m_makeline\u001b[0;34m(self, x, y, kw, kwargs)\u001b[0m\n\u001b[1;32m    279\u001b[0m         \u001b[0mself\u001b[0m\u001b[0;34m.\u001b[0m\u001b[0m_setdefaults\u001b[0m\u001b[0;34m(\u001b[0m\u001b[0mdefault_dict\u001b[0m\u001b[0;34m,\u001b[0m \u001b[0mkw\u001b[0m\u001b[0;34m,\u001b[0m \u001b[0mkwargs\u001b[0m\u001b[0;34m)\u001b[0m\u001b[0;34m\u001b[0m\u001b[0m\n\u001b[1;32m    280\u001b[0m         \u001b[0mseg\u001b[0m \u001b[0;34m=\u001b[0m \u001b[0mmlines\u001b[0m\u001b[0;34m.\u001b[0m\u001b[0mLine2D\u001b[0m\u001b[0;34m(\u001b[0m\u001b[0mx\u001b[0m\u001b[0;34m,\u001b[0m \u001b[0my\u001b[0m\u001b[0;34m,\u001b[0m \u001b[0;34m**\u001b[0m\u001b[0mkw\u001b[0m\u001b[0;34m)\u001b[0m\u001b[0;34m\u001b[0m\u001b[0m\n\u001b[0;32m--> 281\u001b[0;31m         \u001b[0mself\u001b[0m\u001b[0;34m.\u001b[0m\u001b[0mset_lineprops\u001b[0m\u001b[0;34m(\u001b[0m\u001b[0mseg\u001b[0m\u001b[0;34m,\u001b[0m \u001b[0;34m**\u001b[0m\u001b[0mkwargs\u001b[0m\u001b[0;34m)\u001b[0m\u001b[0;34m\u001b[0m\u001b[0m\n\u001b[0m\u001b[1;32m    282\u001b[0m         \u001b[0;32mreturn\u001b[0m \u001b[0mseg\u001b[0m\u001b[0;34m\u001b[0m\u001b[0m\n\u001b[1;32m    283\u001b[0m \u001b[0;34m\u001b[0m\u001b[0m\n",
      "\u001b[0;32m/opt/rh/anaconda/root/envs/PUI2016_Python3/lib/python3.5/site-packages/matplotlib/axes/_base.py\u001b[0m in \u001b[0;36mset_lineprops\u001b[0;34m(self, line, **kwargs)\u001b[0m\n\u001b[1;32m    187\u001b[0m     \u001b[0;32mdef\u001b[0m \u001b[0mset_lineprops\u001b[0m\u001b[0;34m(\u001b[0m\u001b[0mself\u001b[0m\u001b[0;34m,\u001b[0m \u001b[0mline\u001b[0m\u001b[0;34m,\u001b[0m \u001b[0;34m**\u001b[0m\u001b[0mkwargs\u001b[0m\u001b[0;34m)\u001b[0m\u001b[0;34m:\u001b[0m\u001b[0;34m\u001b[0m\u001b[0m\n\u001b[1;32m    188\u001b[0m         \u001b[0;32massert\u001b[0m \u001b[0mself\u001b[0m\u001b[0;34m.\u001b[0m\u001b[0mcommand\u001b[0m \u001b[0;34m==\u001b[0m \u001b[0;34m'plot'\u001b[0m\u001b[0;34m,\u001b[0m \u001b[0;34m'set_lineprops only works with \"plot\"'\u001b[0m\u001b[0;34m\u001b[0m\u001b[0m\n\u001b[0;32m--> 189\u001b[0;31m         \u001b[0mline\u001b[0m\u001b[0;34m.\u001b[0m\u001b[0mset\u001b[0m\u001b[0;34m(\u001b[0m\u001b[0;34m**\u001b[0m\u001b[0mkwargs\u001b[0m\u001b[0;34m)\u001b[0m\u001b[0;34m\u001b[0m\u001b[0m\n\u001b[0m\u001b[1;32m    190\u001b[0m \u001b[0;34m\u001b[0m\u001b[0m\n\u001b[1;32m    191\u001b[0m     \u001b[0;32mdef\u001b[0m \u001b[0mset_patchprops\u001b[0m\u001b[0;34m(\u001b[0m\u001b[0mself\u001b[0m\u001b[0;34m,\u001b[0m \u001b[0mfill_poly\u001b[0m\u001b[0;34m,\u001b[0m \u001b[0;34m**\u001b[0m\u001b[0mkwargs\u001b[0m\u001b[0;34m)\u001b[0m\u001b[0;34m:\u001b[0m\u001b[0;34m\u001b[0m\u001b[0m\n",
      "\u001b[0;32m/opt/rh/anaconda/root/envs/PUI2016_Python3/lib/python3.5/site-packages/matplotlib/artist.py\u001b[0m in \u001b[0;36mset\u001b[0;34m(self, **kwargs)\u001b[0m\n\u001b[1;32m    934\u001b[0m             \u001b[0;32mif\u001b[0m \u001b[0mfunc\u001b[0m \u001b[0;32mis\u001b[0m \u001b[0;32mNone\u001b[0m\u001b[0;34m:\u001b[0m\u001b[0;34m\u001b[0m\u001b[0m\n\u001b[1;32m    935\u001b[0m                raise TypeError('There is no %s property \"%s\"' %\n\u001b[0;32m--> 936\u001b[0;31m                                (self.__class__.__name__, k))\n\u001b[0m\u001b[1;32m    937\u001b[0m             \u001b[0mret\u001b[0m\u001b[0;34m.\u001b[0m\u001b[0mextend\u001b[0m\u001b[0;34m(\u001b[0m\u001b[0;34m[\u001b[0m\u001b[0mfunc\u001b[0m\u001b[0;34m(\u001b[0m\u001b[0mv\u001b[0m\u001b[0;34m)\u001b[0m\u001b[0;34m]\u001b[0m\u001b[0;34m)\u001b[0m\u001b[0;34m\u001b[0m\u001b[0m\n\u001b[1;32m    938\u001b[0m         \u001b[0;32mreturn\u001b[0m \u001b[0mret\u001b[0m\u001b[0;34m\u001b[0m\u001b[0m\n",
      "\u001b[0;31mTypeError\u001b[0m: There is no Line2D property \"column\""
     ]
    },
    {
     "data": {
      "image/png": "[encoded data removed]",
      "text/plain": [
       "<matplotlib.figure.Figure at 0x7f62ae58b9e8>"
      ]
     },
     "metadata": {},
     "output_type": "display_data"
    }
   ],
   "source": [
    "f, (ax1) = pl.subplots(figsize=(12,8))\n",
    "MNasthmazip_shape.plot(column='Agg_Direct_Emissions',cmap='gnuplot_r',alpha=.9,linewidth=0.4,ax=ax1)\n",
    "ax1.set_title(\"Choropleth of aggregated building emissions by Zipcode)\", fontsize=20)\n",
    "MNasthmazip_shape.plot(alpha=0.01, linewidth=0.25, ax=ax1)\n",
    "\n",
    "vmin, vmax = min(MNasthmazip_shape['Agg_Direct_Emissions'].values), \\\n",
    "            max(MNasthmazip_shape['Agg_Direct_Emissions'].values)\n",
    "\n",
    "fig = ax1.get_figure()\n",
    "cax = fig.add_axes([0.9, 0.1, 0.03, 0.8])\n",
    "sm = pl.cm.ScalarMappable(cmap='gnuplot', norm=pl.Normalize(vmin=vmin, vmax=vmax))\n",
    "sm._A = []\n",
    "fig.colorbar(sm, cax=cax)"
   ]
  },
  {
   "cell_type": "markdown",
   "metadata": {},
   "source": [
    "## 2.2 What is the relationship between neighborhood income and residential building energy use?"
   ]
  },
  {
   "cell_type": "code",
   "execution_count": null,
   "metadata": {
    "collapsed": false
   },
   "outputs": [],
   "source": [
    "incmnrgplt.columns"
   ]
  },
  {
   "cell_type": "code",
   "execution_count": 410,
   "metadata": {
    "collapsed": false
   },
   "outputs": [
    {
     "data": {
      "text/plain": [
       "257"
      ]
     },
     "execution_count": 410,
     "metadata": {},
     "output_type": "execute_result"
    }
   ],
   "source": [
    "len(incmnrgplt)"
   ]
  },
  {
   "cell_type": "code",
   "execution_count": 409,
   "metadata": {
    "collapsed": false
   },
   "outputs": [
    {
     "data": {
      "text/plain": [
       "array(['Office', 'Hotel', 'Multifamily Housing', 'Other',\n",
       "       'Residence Hall/Dormitory', 'College/University', 'K-12 School'], dtype=object)"
      ]
     },
     "execution_count": 409,
     "metadata": {},
     "output_type": "execute_result"
    }
   ],
   "source": [
    "incmnrgplt['Property Type'].unique()"
   ]
  },
  {
   "cell_type": "code",
   "execution_count": 423,
   "metadata": {
    "collapsed": false
   },
   "outputs": [
    {
     "name": "stdout",
     "output_type": "stream",
     "text": [
      "Number of census tracts out of 257 that have multifamily housing  =\n"
     ]
    },
    {
     "data": {
      "text/plain": [
       "74"
      ]
     },
     "execution_count": 423,
     "metadata": {},
     "output_type": "execute_result"
    }
   ],
   "source": [
    "incmnrgplt = incmnrgplt[incmnrgplt['Property Type'] == 'Multifamily Housing']\n",
    "print('Number of census tracts out of 257 that have multifamily housing  =')\n",
    "len(incmnrgplt)"
   ]
  },
  {
   "cell_type": "code",
   "execution_count": 406,
   "metadata": {
    "collapsed": true
   },
   "outputs": [],
   "source": [
    "incmnrgplt.to_csv(path_or_buf='incmnrgplt.csv')"
   ]
  },
  {
   "cell_type": "markdown",
   "metadata": {},
   "source": [
    "### The above was affected by bad CT values in PLUTO data, so doing it with new income per zip code data. Merging that with energy data now"
   ]
  },
  {
   "cell_type": "markdown",
   "metadata": {},
   "source": [
    "#### This is all NYC, not just Manhattan"
   ]
  },
  {
   "cell_type": "code",
   "execution_count": 581,
   "metadata": {
    "collapsed": false
   },
   "outputs": [],
   "source": [
    "energy_res = energy[energy['Property Type'] == 'Multifamily Housing']\n",
    "energy_res_zip = energy_res.groupby(['Zip Code'])[['Weather Normalized Site EUI (kBtu/ft²)', 'Emissions(CO2e)',\\\n",
    "            'directCO2e', 'Weather Normalized Source EUI (kBtu/ft²)', 'DOF Property Floor Area (ft²)']].sum()"
   ]
  },
  {
   "cell_type": "code",
   "execution_count": 583,
   "metadata": {
    "collapsed": false
   },
   "outputs": [
    {
     "name": "stdout",
     "output_type": "stream",
     "text": [
      "167\n"
     ]
    },
    {
     "data": {
      "text/html": [
       "<div>\n",
       "<table border=\"1\" class=\"dataframe\">\n",
       "  <thead>\n",
       "    <tr style=\"text-align: right;\">\n",
       "      <th></th>\n",
       "      <th>Weather Normalized Site EUI (kBtu/ft²)</th>\n",
       "      <th>Weather Normalized Source EUI (kBtu/ft²)</th>\n",
       "      <th>DOF Property Floor Area (ft²)</th>\n",
       "      <th>Aggregated Res Site Energy Use</th>\n",
       "      <th>Aggregated Res Source Energy Use</th>\n",
       "      <th>Agg_Direct_Emissions</th>\n",
       "      <th>Zip Code</th>\n",
       "    </tr>\n",
       "  </thead>\n",
       "  <tbody>\n",
       "    <tr>\n",
       "      <th>0</th>\n",
       "      <td>3737.7</td>\n",
       "      <td>6675.8</td>\n",
       "      <td>12294952.0</td>\n",
       "      <td>4.595484e+10</td>\n",
       "      <td>8.207864e+10</td>\n",
       "      <td>4.183530e+11</td>\n",
       "      <td>10001</td>\n",
       "    </tr>\n",
       "    <tr>\n",
       "      <th>1</th>\n",
       "      <td>2035.6</td>\n",
       "      <td>3580.6</td>\n",
       "      <td>3483885.0</td>\n",
       "      <td>7.091796e+09</td>\n",
       "      <td>1.247440e+10</td>\n",
       "      <td>3.285896e+10</td>\n",
       "      <td>10002</td>\n",
       "    </tr>\n",
       "    <tr>\n",
       "      <th>2</th>\n",
       "      <td>40662.6</td>\n",
       "      <td>52957.8</td>\n",
       "      <td>16243362.0</td>\n",
       "      <td>6.604973e+11</td>\n",
       "      <td>8.602127e+11</td>\n",
       "      <td>8.287981e+11</td>\n",
       "      <td>10003</td>\n",
       "    </tr>\n",
       "    <tr>\n",
       "      <th>3</th>\n",
       "      <td>656.9</td>\n",
       "      <td>1236.0</td>\n",
       "      <td>1827681.0</td>\n",
       "      <td>1.200604e+09</td>\n",
       "      <td>2.259014e+09</td>\n",
       "      <td>5.865942e+09</td>\n",
       "      <td>10004</td>\n",
       "    </tr>\n",
       "    <tr>\n",
       "      <th>4</th>\n",
       "      <td>23710.8</td>\n",
       "      <td>29409.8</td>\n",
       "      <td>6442096.0</td>\n",
       "      <td>1.527472e+11</td>\n",
       "      <td>1.894608e+11</td>\n",
       "      <td>5.016976e+10</td>\n",
       "      <td>10005</td>\n",
       "    </tr>\n",
       "  </tbody>\n",
       "</table>\n",
       "</div>"
      ],
      "text/plain": [
       "   Weather Normalized Site EUI (kBtu/ft²)  \\\n",
       "0                                  3737.7   \n",
       "1                                  2035.6   \n",
       "2                                 40662.6   \n",
       "3                                   656.9   \n",
       "4                                 23710.8   \n",
       "\n",
       "   Weather Normalized Source EUI (kBtu/ft²)  DOF Property Floor Area (ft²)  \\\n",
       "0                                    6675.8                     12294952.0   \n",
       "1                                    3580.6                      3483885.0   \n",
       "2                                   52957.8                     16243362.0   \n",
       "3                                    1236.0                      1827681.0   \n",
       "4                                   29409.8                      6442096.0   \n",
       "\n",
       "   Aggregated Res Site Energy Use  Aggregated Res Source Energy Use  \\\n",
       "0                    4.595484e+10                      8.207864e+10   \n",
       "1                    7.091796e+09                      1.247440e+10   \n",
       "2                    6.604973e+11                      8.602127e+11   \n",
       "3                    1.200604e+09                      2.259014e+09   \n",
       "4                    1.527472e+11                      1.894608e+11   \n",
       "\n",
       "   Agg_Direct_Emissions Zip Code  \n",
       "0          4.183530e+11    10001  \n",
       "1          3.285896e+10    10002  \n",
       "2          8.287981e+11    10003  \n",
       "3          5.865942e+09    10004  \n",
       "4          5.016976e+10    10005  "
      ]
     },
     "execution_count": 583,
     "metadata": {},
     "output_type": "execute_result"
    }
   ],
   "source": [
    "energy_res_zip['Aggregated Res Site Energy Use'] = energy_res_zip['Weather Normalized Site EUI (kBtu/ft²)'] * \\\n",
    "    energy_res_zip['DOF Property Floor Area (ft²)']\n",
    "energy_res_zip['Aggregated Res Source Energy Use'] = energy_res_zip['Weather Normalized Source EUI (kBtu/ft²)'] * \\\n",
    "    energy_res_zip['DOF Property Floor Area (ft²)']\n",
    "energy_res_zip['Agg_Direct_Emissions'] = energy_res_zip['directCO2e'] * \\\n",
    "    energy_res_zip['DOF Property Floor Area (ft²)']\n",
    "energy_res_zip.drop(['directCO2e', 'Emissions(CO2e)'], axis=1, inplace=True)\n",
    "energy_res_zip['Zip Code'] = energy_res_zip.index\n",
    "x = len(energy_res_zip)\n",
    "energy_res_zip.index = np.arange(0,x)\n",
    "print(x)\n",
    "energy_res_zip.head()"
   ]
  },
  {
   "cell_type": "code",
   "execution_count": 584,
   "metadata": {
    "collapsed": false
   },
   "outputs": [
    {
     "name": "stdout",
     "output_type": "stream",
     "text": [
      "152\n"
     ]
    },
    {
     "data": {
      "text/html": [
       "<div>\n",
       "<table border=\"1\" class=\"dataframe\">\n",
       "  <thead>\n",
       "    <tr style=\"text-align: right;\">\n",
       "      <th></th>\n",
       "      <th>GEO.id</th>\n",
       "      <th>Zip Code</th>\n",
       "      <th>GEO.display-label</th>\n",
       "      <th>Income_Per_Capita</th>\n",
       "      <th>HD02_VD01</th>\n",
       "      <th>Weather Normalized Site EUI (kBtu/ft²)</th>\n",
       "      <th>Weather Normalized Source EUI (kBtu/ft²)</th>\n",
       "      <th>DOF Property Floor Area (ft²)</th>\n",
       "      <th>Aggregated Res Site Energy Use</th>\n",
       "      <th>Aggregated Res Source Energy Use</th>\n",
       "      <th>Agg_Direct_Emissions</th>\n",
       "    </tr>\n",
       "  </thead>\n",
       "  <tbody>\n",
       "    <tr>\n",
       "      <th>0</th>\n",
       "      <td>8600000US10001</td>\n",
       "      <td>10001</td>\n",
       "      <td>ZCTA5 10001</td>\n",
       "      <td>80990</td>\n",
       "      <td>15416</td>\n",
       "      <td>3737.7</td>\n",
       "      <td>6675.8</td>\n",
       "      <td>12294952.0</td>\n",
       "      <td>4.595484e+10</td>\n",
       "      <td>8.207864e+10</td>\n",
       "      <td>4.183530e+11</td>\n",
       "    </tr>\n",
       "    <tr>\n",
       "      <th>1</th>\n",
       "      <td>8600000US10002</td>\n",
       "      <td>10002</td>\n",
       "      <td>ZCTA5 10002</td>\n",
       "      <td>27867</td>\n",
       "      <td>1246</td>\n",
       "      <td>2035.6</td>\n",
       "      <td>3580.6</td>\n",
       "      <td>3483885.0</td>\n",
       "      <td>7.091796e+09</td>\n",
       "      <td>1.247440e+10</td>\n",
       "      <td>3.285896e+10</td>\n",
       "    </tr>\n",
       "    <tr>\n",
       "      <th>2</th>\n",
       "      <td>8600000US10003</td>\n",
       "      <td>10003</td>\n",
       "      <td>ZCTA5 10003</td>\n",
       "      <td>80936</td>\n",
       "      <td>5333</td>\n",
       "      <td>40662.6</td>\n",
       "      <td>52957.8</td>\n",
       "      <td>16243362.0</td>\n",
       "      <td>6.604973e+11</td>\n",
       "      <td>8.602127e+11</td>\n",
       "      <td>8.287981e+11</td>\n",
       "    </tr>\n",
       "    <tr>\n",
       "      <th>3</th>\n",
       "      <td>8600000US10004</td>\n",
       "      <td>10004</td>\n",
       "      <td>ZCTA5 10004</td>\n",
       "      <td>90205</td>\n",
       "      <td>13349</td>\n",
       "      <td>656.9</td>\n",
       "      <td>1236.0</td>\n",
       "      <td>1827681.0</td>\n",
       "      <td>1.200604e+09</td>\n",
       "      <td>2.259014e+09</td>\n",
       "      <td>5.865942e+09</td>\n",
       "    </tr>\n",
       "    <tr>\n",
       "      <th>4</th>\n",
       "      <td>8600000US10005</td>\n",
       "      <td>10005</td>\n",
       "      <td>ZCTA5 10005</td>\n",
       "      <td>96940</td>\n",
       "      <td>13388</td>\n",
       "      <td>23710.8</td>\n",
       "      <td>29409.8</td>\n",
       "      <td>6442096.0</td>\n",
       "      <td>1.527472e+11</td>\n",
       "      <td>1.894608e+11</td>\n",
       "      <td>5.016976e+10</td>\n",
       "    </tr>\n",
       "  </tbody>\n",
       "</table>\n",
       "</div>"
      ],
      "text/plain": [
       "           GEO.id Zip Code GEO.display-label Income_Per_Capita HD02_VD01  \\\n",
       "0  8600000US10001    10001       ZCTA5 10001             80990     15416   \n",
       "1  8600000US10002    10002       ZCTA5 10002             27867      1246   \n",
       "2  8600000US10003    10003       ZCTA5 10003             80936      5333   \n",
       "3  8600000US10004    10004       ZCTA5 10004             90205     13349   \n",
       "4  8600000US10005    10005       ZCTA5 10005             96940     13388   \n",
       "\n",
       "   Weather Normalized Site EUI (kBtu/ft²)  \\\n",
       "0                                  3737.7   \n",
       "1                                  2035.6   \n",
       "2                                 40662.6   \n",
       "3                                   656.9   \n",
       "4                                 23710.8   \n",
       "\n",
       "   Weather Normalized Source EUI (kBtu/ft²)  DOF Property Floor Area (ft²)  \\\n",
       "0                                    6675.8                     12294952.0   \n",
       "1                                    3580.6                      3483885.0   \n",
       "2                                   52957.8                     16243362.0   \n",
       "3                                    1236.0                      1827681.0   \n",
       "4                                   29409.8                      6442096.0   \n",
       "\n",
       "   Aggregated Res Site Energy Use  Aggregated Res Source Energy Use  \\\n",
       "0                    4.595484e+10                      8.207864e+10   \n",
       "1                    7.091796e+09                      1.247440e+10   \n",
       "2                    6.604973e+11                      8.602127e+11   \n",
       "3                    1.200604e+09                      2.259014e+09   \n",
       "4                    1.527472e+11                      1.894608e+11   \n",
       "\n",
       "   Agg_Direct_Emissions  \n",
       "0          4.183530e+11  \n",
       "1          3.285896e+10  \n",
       "2          8.287981e+11  \n",
       "3          5.865942e+09  \n",
       "4          5.016976e+10  "
      ]
     },
     "execution_count": 584,
     "metadata": {},
     "output_type": "execute_result"
    }
   ],
   "source": [
    "income_energy = pd.merge(income, energy_res_zip, on=['Zip Code'], how='inner')\n",
    "income_energy = income_energy[income_energy['Income_Per_Capita'].str.contains('-')==False]\n",
    "print(len(income_energy))\n",
    "income_energy.head()"
   ]
  },
  {
   "cell_type": "code",
   "execution_count": 587,
   "metadata": {
    "collapsed": false
   },
   "outputs": [],
   "source": [
    "income_energy['Income_Per_Capita'] = income_energy['Income_Per_Capita'].astype(float)"
   ]
  },
  {
   "cell_type": "code",
   "execution_count": 589,
   "metadata": {
    "collapsed": true
   },
   "outputs": [],
   "source": [
    "income_energy.to_csv(path_or_buf='income_energy.csv')"
   ]
  },
  {
   "cell_type": "code",
   "execution_count": 593,
   "metadata": {
    "collapsed": false
   },
   "outputs": [
    {
     "data": {
      "text/plain": [
       "<matplotlib.legend.Legend at 0x7f62af453a90>"
      ]
     },
     "execution_count": 593,
     "metadata": {},
     "output_type": "execute_result"
    },
    {
     "data": {
      "image/png": "[encoded data removed]",
      "text/plain": [
       "<matplotlib.figure.Figure at 0x7f62af47d128>"
      ]
     },
     "metadata": {},
     "output_type": "display_data"
    }
   ],
   "source": [
    "pl.figure(figsize=(8,4))\n",
    "pl.scatter(income_energy['Income_Per_Capita'], income_energy['Aggregated Res Source Energy Use'], s=100, \\\n",
    "           cmap='bone', label=('Zip Codes'), marker=\".\")\n",
    "pl.xlabel(\"Income Per Capita (USD)\", fontsize=10)\n",
    "pl.ylabel(\"Total Building Source Energy Use\", fontsize=10)\n",
    "pl.title(\"Income Per Capita and Building Energy Use Per MN Zip Code\", fontsize=14)\n",
    "pl.legend()"
   ]
  },
  {
   "cell_type": "code",
   "execution_count": null,
   "metadata": {
    "collapsed": true
   },
   "outputs": [],
   "source": []
  }
 ],
 "metadata": {
  "kernelspec": {
   "display_name": "PUI2016_Python3",
   "language": "python",
   "name": "pui2016_python3"
  },
  "language_info": {
   "codemirror_mode": {
    "name": "ipython",
    "version": 3
   },
   "file_extension": ".py",
   "mimetype": "text/x-python",
   "name": "python",
   "nbconvert_exporter": "python",
   "pygments_lexer": "ipython3",
   "version": "3.5.2"
  }
 },
 "nbformat": 4,
 "nbformat_minor": 0
}
